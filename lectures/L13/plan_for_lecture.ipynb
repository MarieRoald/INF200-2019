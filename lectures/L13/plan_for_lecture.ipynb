{
 "cells": [
  {
   "cell_type": "markdown",
   "metadata": {},
   "source": [
    "# Lecture 13\n",
    "\n",
    "## Repetition: Object oriented programming\n",
    "A good guide: https://realpython.com/python3-object-oriented-programming/"
   ]
  },
  {
   "cell_type": "markdown",
   "metadata": {},
   "source": [
    "We start by creating a class. A class is a recipe to create objects of a specific type.\n",
    "\n",
    "For example, we want to have a database of students:"
   ]
  },
  {
   "cell_type": "code",
   "execution_count": 29,
   "metadata": {},
   "outputs": [],
   "source": [
    "MONTHLY_STUDENT_LOAN = 8000\n",
    "\n",
    "\n",
    "class Student:\n",
    "    \"\"\"\n",
    "    Parameters\n",
    "    ----------\n",
    "    name : str\n",
    "        Name of student\n",
    "    age : int\n",
    "        Age of student\n",
    "    transcript : dict[str, str]\n",
    "        Dictionary mapping class names to grades\n",
    "    current_classes : list[str]\n",
    "        List of currently enrolled classes\n",
    "    \n",
    "    \n",
    "    Attributes\n",
    "    ----------\n",
    "    name : str\n",
    "        Name of student\n",
    "    age : int\n",
    "        Age of student\n",
    "    transcript : dict[str, str]\n",
    "        Dictionary mapping class names to grades\n",
    "    current_classes : set[str]\n",
    "        List of currently enrolled classes\n",
    "    money : int\n",
    "        How much money the student has\n",
    "    has_graduated : bool\n",
    "    salary : int (default=0)\n",
    "        The monthly salary of the student\n",
    "    help_from_parents : int (default=0)\n",
    "        The amount of money the student gets from their parents each month.\n",
    "    \"\"\"\n",
    "    def __init__(self, name, age, transcript=None, current_classes=None, salary=0, help_from_parents=0):\n",
    "        if transcript is None:\n",
    "            transcript = {}\n",
    "        if current_classes is None:\n",
    "            current_classes = set()\n",
    "        self.name = name\n",
    "        self.age = age\n",
    "        self.transcript = transcript\n",
    "        self.current_classes = current_classes\n",
    "        self.has_graduated = False\n",
    "        self.money = 0\n",
    "        self.salary = salary\n",
    "        self.help_from_parents = help_from_parents\n",
    "    \n",
    "    def add_class(self, new_class):\n",
    "        \"\"\"Add new class to the current classes.\n",
    "        \"\"\"\n",
    "        if new_class in current_classes:\n",
    "            raise ValueError(f'{self.name} is already taking that class.')\n",
    "        self.current_classes.add(new_class)\n",
    "    \n",
    "    def get_student_loan(self):\n",
    "        self.money += MONTHLY_STUDENT_LOAN\n",
    "    \n",
    "    def get_salary(self):\n",
    "        self.money += self.salary\n",
    "    \n",
    "    def get_help_from_parents(self):\n",
    "        self.money += self.help_from_parents\n",
    "\n",
    "    def get_monthly_income(self):\n",
    "        self.get_student_loan()\n",
    "        self.get_salary()\n",
    "        self.get_help_from_parents()\n",
    "        \n",
    "    def check_is_working(self):\n",
    "        return self.salary > 0"
   ]
  },
  {
   "cell_type": "code",
   "execution_count": 30,
   "metadata": {},
   "outputs": [
    {
     "name": "stdout",
     "output_type": "stream",
     "text": [
      "0\n",
      "8000\n"
     ]
    }
   ],
   "source": [
    "nils = Student(name='Nils Olsen', age=21)\n",
    "print(nils.money)\n",
    "nils.get_monthly_income()\n",
    "print(nils.money)"
   ]
  },
  {
   "cell_type": "markdown",
   "metadata": {},
   "source": [
    "Next, we create the database"
   ]
  },
  {
   "cell_type": "code",
   "execution_count": 31,
   "metadata": {},
   "outputs": [],
   "source": [
    "class DataBase:\n",
    "    \"\"\"\n",
    "    Parameters\n",
    "    ----------\n",
    "    student_params : list[dict]\n",
    "        Dictionary with keyword arguments to pass to Student generation\n",
    "    \"\"\"\n",
    "    def __init__(self, student_params):\n",
    "        self.students = {}\n",
    "        self.next_idx = 0\n",
    "        for student_kwargs in student_params:\n",
    "            self.add_student(Student(**student_kwargs))\n",
    "    \n",
    "    def add_student(self, student):\n",
    "        self.students[self.next_idx] = student\n",
    "        self.next_idx += 1\n",
    "    \n",
    "    def __repr__(self):\n",
    "        return repr(self.students)\n",
    "    \n",
    "    def __str__(self):\n",
    "        return f'Student database: \\n {str(self.students)}'"
   ]
  },
  {
   "cell_type": "code",
   "execution_count": 32,
   "metadata": {},
   "outputs": [],
   "source": [
    "students = [\n",
    "    {\n",
    "        'name': 'Nils',\n",
    "        'age': 21\n",
    "    },\n",
    "    {\n",
    "        'name': 'Ananya',\n",
    "        'age': 23,\n",
    "        'transcript': {'MATH111': 'A', 'PHI100': 'C', 'IMRT100': 'Pass', 'STAT100': 'A'}\n",
    "    }\n",
    "]\n",
    "\n",
    "student_database = DataBase(students)"
   ]
  },
  {
   "cell_type": "code",
   "execution_count": 33,
   "metadata": {},
   "outputs": [
    {
     "name": "stdout",
     "output_type": "stream",
     "text": [
      "Student database: \n",
      " {0: <__main__.Student object at 0x7f90154900f0>, 1: <__main__.Student object at 0x7f9015490fd0>}\n"
     ]
    }
   ],
   "source": [
    "print(student_database)"
   ]
  },
  {
   "cell_type": "markdown",
   "metadata": {},
   "source": [
    "But now, we wish to extend the code above to have lecturers as well!"
   ]
  },
  {
   "cell_type": "code",
   "execution_count": 44,
   "metadata": {},
   "outputs": [],
   "source": [
    "MONTHLY_STUDENT_LOAN = 8000\n",
    "\n",
    "\n",
    "class Lecturer:\n",
    "    \"\"\"\n",
    "    Parameters\n",
    "    ----------\n",
    "    name : str\n",
    "        Name of student\n",
    "    age : int\n",
    "        Age of student\n",
    "    transcript : dict[str, str]\n",
    "        Dictionary mapping class names to grades\n",
    "    current_classes : list[str]\n",
    "        List of currently enrolled classes\n",
    "    \n",
    "    \n",
    "    Attributes\n",
    "    ----------\n",
    "    name : str\n",
    "        Name of student\n",
    "    age : int\n",
    "        Age of student\n",
    "    money : int (default=0)\n",
    "        How much money the lecturer has\n",
    "    salary : int (default=0)\n",
    "        The monthly salary of the lecturer\n",
    "    loans : int (default=0)\n",
    "        The monthly payment on loans\n",
    "    \"\"\"\n",
    "    def __init__(self, name, age, money=0, salary=0, loans=0, classes=None):\n",
    "        self.name = name\n",
    "        self.age = age\n",
    "        self.has_graduated = True\n",
    "        self.money = money\n",
    "        self.salary = salary\n",
    "        self.loans = loans\n",
    "        \n",
    "        if classes is None:\n",
    "            classes = []\n",
    "        self.classes = classes\n",
    "    \n",
    "    def get_salary(self):\n",
    "        self.money += self.salary\n",
    "    \n",
    "    def pay_loans(self):\n",
    "        self.money -= self.loans\n",
    "\n",
    "    def get_monthly_income(self):\n",
    "        self.get_salary()\n",
    "        self.pay_loans()\n",
    "        \n",
    "    def check_is_working(self):\n",
    "        return True"
   ]
  },
  {
   "cell_type": "markdown",
   "metadata": {},
   "source": [
    "Here, we see that there is much repeated code! We should have spent time thinking about the program before we started coding!\n",
    "\n",
    "Let us create a parent class, person, that contain the shared code!"
   ]
  },
  {
   "cell_type": "code",
   "execution_count": 69,
   "metadata": {},
   "outputs": [],
   "source": [
    "class Person:\n",
    "    \"\"\"\n",
    "    Parameters\n",
    "    ----------\n",
    "    name : str\n",
    "        Name of student\n",
    "    age : int\n",
    "        Age of student\n",
    "    transcript : dict[str, str]\n",
    "        Dictionary mapping class names to grades\n",
    "    current_classes : list[str]\n",
    "        List of currently enrolled classes\n",
    "    \n",
    "    \n",
    "    Attributes\n",
    "    ----------\n",
    "    name : str\n",
    "        Name of student\n",
    "    age : int\n",
    "        Age of student\n",
    "    money : int\n",
    "        How much money the lecturer has\n",
    "    has_graduated : bool\n",
    "    salary : int (default=0)\n",
    "        The monthly salary of the lecturer\n",
    "    loans : int (default=0)\n",
    "        The monthly payment on loans\n",
    "    \"\"\"\n",
    "    def __init__(self, name, age, salary=0, loans=0):\n",
    "        self.name = name\n",
    "        self.age = age\n",
    "        self.money = 0\n",
    "        self.salary = salary\n",
    "        self.loans = loans\n",
    "    \n",
    "    def get_salary(self):\n",
    "        self.money += self.salary\n",
    "    \n",
    "    def pay_loans(self):\n",
    "        self.money -= self.loans\n",
    "\n",
    "    def get_monthly_income(self):\n",
    "        self.get_salary()\n",
    "        self.pay_loans()\n",
    "    \n",
    "    def check_is_working(self):\n",
    "        return self.salary > 0\n",
    "    \n",
    "    def check_has_loans(self):\n",
    "        return self.loans > 0\n",
    "\n",
    "\n",
    "class Student(Person):\n",
    "    \"\"\"\n",
    "    Parameters\n",
    "    ----------\n",
    "    name : str\n",
    "        Name of student\n",
    "    age : int\n",
    "        Age of student\n",
    "    transcript : dict[str, str]\n",
    "        Dictionary mapping class names to grades\n",
    "    current_classes : list[str]\n",
    "        List of currently enrolled classes\n",
    "    \n",
    "    \n",
    "    Attributes\n",
    "    ----------\n",
    "    name : str\n",
    "        Name of student\n",
    "    age : int\n",
    "        Age of student\n",
    "    transcript : dict[str, str]\n",
    "        Dictionary mapping class names to grades\n",
    "    current_classes : set[str]\n",
    "        List of currently enrolled classes\n",
    "    money : int\n",
    "        How much money the student has\n",
    "    has_graduated : bool\n",
    "    salary : int (default=0)\n",
    "        The monthly salary of the student\n",
    "    help_from_parents : int (default=0)\n",
    "        The amount of money the student gets from their parents each month.\n",
    "    \"\"\"\n",
    "    def __init__(self, name, age, transcript=None, current_classes=None, salary=0, help_from_parents=0):\n",
    "        super().__init__(\n",
    "            name=name,\n",
    "            age=age,\n",
    "            salary=salary,\n",
    "            loans=0,\n",
    "        )\n",
    "        self.help_from_parents = help_from_parents\n",
    "        \n",
    "        if transcript is None:\n",
    "            transcript = {}\n",
    "        if current_classes is None:\n",
    "            current_classes = set()\n",
    "        self.transcript = transcript\n",
    "        self.current_classes = current_classes\n",
    "        self.has_graduated = False\n",
    "        \n",
    "    \n",
    "    def add_class(self, new_class):\n",
    "        \"\"\"Add new class to the current classes.\n",
    "        \"\"\"\n",
    "        if new_class in current_classes:\n",
    "            raise ValueError(f'{self.name} is already taking that class.')\n",
    "        self.current_classes.add(new_class)\n",
    "    \n",
    "    def get_student_loan(self):\n",
    "        self.money += MONTHLY_STUDENT_LOAN\n",
    "    \n",
    "    def get_help_from_parents(self):\n",
    "        self.money += self.help_from_parents\n",
    "\n",
    "    def get_monthly_income(self):\n",
    "        super().get_monthly_income()\n",
    "        self.get_salary()\n",
    "        self.get_help_from_parents()\n",
    "\n",
    "        \n",
    "class Lecturer(Person):\n",
    "    def __init__(self, name, age, salary=35_000, loans=0, classes=None,):\n",
    "        super().__init__(\n",
    "            name=name,\n",
    "            age=age,\n",
    "            salary=salary,\n",
    "            loans=loans\n",
    "        )\n",
    "        if classes is None:\n",
    "            classes = []\n",
    "        self.classes = classes"
   ]
  },
  {
   "cell_type": "code",
   "execution_count": 70,
   "metadata": {},
   "outputs": [],
   "source": [
    "nils = Student(name='Nils', age=21)"
   ]
  },
  {
   "cell_type": "code",
   "execution_count": 71,
   "metadata": {},
   "outputs": [],
   "source": [
    "yngve = Lecturer(name='Yngve', age=26, salary=29_000, loans=4_000, classes=['INF200'])"
   ]
  },
  {
   "cell_type": "code",
   "execution_count": 72,
   "metadata": {},
   "outputs": [
    {
     "data": {
      "text/plain": [
       "0"
      ]
     },
     "execution_count": 72,
     "metadata": {},
     "output_type": "execute_result"
    }
   ],
   "source": [
    "yngve.money"
   ]
  },
  {
   "cell_type": "markdown",
   "metadata": {},
   "source": [
    "Her ser vi at koden ble mye kortere! La oss også utvide databasen til å kunne takle forelesere og studenter."
   ]
  },
  {
   "cell_type": "code",
   "execution_count": 73,
   "metadata": {},
   "outputs": [],
   "source": [
    "class DataBase:\n",
    "    \"\"\"\n",
    "    Parameters:\n",
    "    -----------\n",
    "    student_params : list[tuple[str, dict]]\n",
    "        List of tuples whose first element is a key in the valid_types dict\n",
    "        and second element is a keyword-argument dictionary.\n",
    "    \n",
    "    Attributes:\n",
    "    -----------\n",
    "    valid_types : dict[str, type]\n",
    "    \"\"\"\n",
    "    \n",
    "    valid_types = {\n",
    "        'Lecturer': Lecturer,\n",
    "        'Student': Student,\n",
    "        'Person': Person\n",
    "    }  # This can be done more elegantly with a separate register class.\n",
    "    \n",
    "    def __init__(self, person_params):\n",
    "        self.persons = {}\n",
    "        self.next_idx = 0\n",
    "        for person in person_params:\n",
    "            self.add_person(*person)\n",
    "    \n",
    "    def add_person(self, person_type, person_kwargs):\n",
    "        PersonType = self.valid_types[person_type]\n",
    "        self.persons[self.next_idx] = PersonType(**person_kwargs)\n",
    "        self.next_idx += 1\n",
    "    \n",
    "    def __repr__(self):\n",
    "        return repr(self.persons)\n",
    "    \n",
    "    def __str__(self):\n",
    "        return f'Person database: \\n {str(self.persons)}'"
   ]
  },
  {
   "cell_type": "code",
   "execution_count": 74,
   "metadata": {},
   "outputs": [],
   "source": [
    "persons = [\n",
    "    (\n",
    "        'Student',\n",
    "         {\n",
    "            'name': 'Nils',\n",
    "            'age': 21\n",
    "        },\n",
    "    ),\n",
    "    (\n",
    "        'Student',\n",
    "        {\n",
    "            'name': 'Ananya',\n",
    "            'age': 23,\n",
    "            'transcript': {'MATH111': 'A', 'PHI100': 'C', 'IMRT100': 'Pass', 'STAT100': 'A'}\n",
    "        },\n",
    "    ),\n",
    "    (\n",
    "        'Lecturer',\n",
    "        {\n",
    "            'name': 'Yngve',\n",
    "            'age': 23,\n",
    "            'salary': 29_000,\n",
    "            'loans': 4_000,\n",
    "        }\n",
    "    )\n",
    "]\n",
    "\n",
    "database = DataBase(persons)"
   ]
  },
  {
   "cell_type": "code",
   "execution_count": 75,
   "metadata": {},
   "outputs": [
    {
     "data": {
      "text/plain": [
       "{0: <__main__.Student object at 0x7f901414d780>, 1: <__main__.Student object at 0x7f901414d080>, 2: <__main__.Lecturer object at 0x7f901414db00>}"
      ]
     },
     "execution_count": 75,
     "metadata": {},
     "output_type": "execute_result"
    }
   ],
   "source": [
    "database"
   ]
  },
  {
   "cell_type": "markdown",
   "metadata": {},
   "source": [
    "# One small improvement: Properties\n",
    "Read about them here: https://www.programiz.com/python-programming/property"
   ]
  },
  {
   "cell_type": "code",
   "execution_count": 76,
   "metadata": {},
   "outputs": [
    {
     "name": "stdout",
     "output_type": "stream",
     "text": [
      "False\n"
     ]
    }
   ],
   "source": [
    "yngve = Lecturer('Yngve', 26)\n",
    "print(yngve.check_has_loans())"
   ]
  },
  {
   "cell_type": "markdown",
   "metadata": {},
   "source": [
    "Here we are using a getter, that is a function that acts as an attribute. Let us create a quick example"
   ]
  },
  {
   "cell_type": "code",
   "execution_count": 81,
   "metadata": {},
   "outputs": [],
   "source": [
    "import numpy as np\n",
    "\n",
    "class LineSegment:\n",
    "    def __init__(self, start, end):\n",
    "        self.start = np.asarray(start)\n",
    "        self.end = np.asarray(end)\n",
    "    \n",
    "    def interpolate(self, t):\n",
    "        return (1-t)*self.start + t*self.end\n",
    "    \n",
    "    def get_midpoint(self):\n",
    "        return self.interpolate(0.5)"
   ]
  },
  {
   "cell_type": "code",
   "execution_count": 82,
   "metadata": {},
   "outputs": [],
   "source": [
    "line_segment = LineSegment([0, 0], [1, 1])"
   ]
  },
  {
   "cell_type": "code",
   "execution_count": 83,
   "metadata": {},
   "outputs": [
    {
     "data": {
      "text/plain": [
       "array([0.5, 0.5])"
      ]
     },
     "execution_count": 83,
     "metadata": {},
     "output_type": "execute_result"
    }
   ],
   "source": [
    "line_segment.get_midpoint()"
   ]
  },
  {
   "cell_type": "markdown",
   "metadata": {},
   "source": [
    "This is an example of a getter. Let us use properties instead!"
   ]
  },
  {
   "cell_type": "code",
   "execution_count": 85,
   "metadata": {},
   "outputs": [],
   "source": [
    "import numpy as np\n",
    "\n",
    "class LineSegment:\n",
    "    def __init__(self, start, end):\n",
    "        self.start = np.asarray(start)\n",
    "        self.end = np.asarray(end)\n",
    "    \n",
    "    def interpolate(self, t):\n",
    "        return (1-t)*self.start + t*self.end\n",
    "    \n",
    "    @property\n",
    "    def midpoint(self):\n",
    "        return self.interpolate(0.5)"
   ]
  },
  {
   "cell_type": "code",
   "execution_count": 86,
   "metadata": {},
   "outputs": [],
   "source": [
    "line_segment = LineSegment([0, 0], [1, 1])"
   ]
  },
  {
   "cell_type": "code",
   "execution_count": 87,
   "metadata": {},
   "outputs": [
    {
     "data": {
      "text/plain": [
       "array([0.5, 0.5])"
      ]
     },
     "execution_count": 87,
     "metadata": {},
     "output_type": "execute_result"
    }
   ],
   "source": [
    "line_segment.midpoint  # Notice, no function call. "
   ]
  },
  {
   "cell_type": "markdown",
   "metadata": {},
   "source": [
    "We can also have setters, can be useful if we wish to log when something change"
   ]
  },
  {
   "cell_type": "code",
   "execution_count": 90,
   "metadata": {},
   "outputs": [],
   "source": [
    "class Person:\n",
    "    def __init__(self, age):\n",
    "        self._age = age\n",
    "        self.age_changed = False\n",
    "\n",
    "    @property\n",
    "    def age(self):\n",
    "        return self._age\n",
    "    \n",
    "    @age.setter\n",
    "    def age(self, value):\n",
    "        self._age = value\n",
    "        self.age_changed = True"
   ]
  },
  {
   "cell_type": "code",
   "execution_count": 91,
   "metadata": {},
   "outputs": [],
   "source": [
    "person = Person(10)"
   ]
  },
  {
   "cell_type": "code",
   "execution_count": 92,
   "metadata": {},
   "outputs": [
    {
     "name": "stdout",
     "output_type": "stream",
     "text": [
      "10\n",
      "False\n",
      "15\n",
      "True\n"
     ]
    }
   ],
   "source": [
    "print(person.age)\n",
    "print(person.age_changed)\n",
    "person.age = 15\n",
    "print(person.age)\n",
    "print(person.age_changed)"
   ]
  },
  {
   "cell_type": "code",
   "execution_count": null,
   "metadata": {},
   "outputs": [],
   "source": []
  }
 ],
 "metadata": {
  "kernelspec": {
   "display_name": "Python 3",
   "language": "python",
   "name": "python3"
  },
  "language_info": {
   "codemirror_mode": {
    "name": "ipython",
    "version": 3
   },
   "file_extension": ".py",
   "mimetype": "text/x-python",
   "name": "python",
   "nbconvert_exporter": "python",
   "pygments_lexer": "ipython3",
   "version": "3.7.3"
  }
 },
 "nbformat": 4,
 "nbformat_minor": 2
}
