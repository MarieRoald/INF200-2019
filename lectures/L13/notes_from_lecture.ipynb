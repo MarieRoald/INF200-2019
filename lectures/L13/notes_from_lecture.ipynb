{
 "cells": [
  {
   "cell_type": "code",
   "execution_count": 12,
   "metadata": {},
   "outputs": [],
   "source": [
    "MONTHLY_STUDENT_LOAN = 8500\n",
    "\n",
    "\n",
    "class Student:\n",
    "    def __init__(\n",
    "        self, \n",
    "        name,\n",
    "        age,\n",
    "        gender='undisclosed',\n",
    "        transcript=None,\n",
    "        current_classes=None,\n",
    "        salary=0,\n",
    "        help_from_parents=0,\n",
    "    ):\n",
    "        self.name = name\n",
    "        self.age = age\n",
    "        self.gender = gender\n",
    "        self.salary = salary\n",
    "        self.help_from_parents = help_from_parents\n",
    "        self._money = 0\n",
    "        \n",
    "        if transcript is None:\n",
    "            transcript = {}\n",
    "        self.transcript = transcript\n",
    "        \n",
    "        if current_classes is None:\n",
    "            current_classes = set()\n",
    "        self.current_classes = set(current_classes)\n",
    "    \n",
    "    def add_class(self, new_class):\n",
    "        self.current_classes.add(new_class)\n",
    "    \n",
    "    def get_student_loan(self):\n",
    "        self.money += MONTHLY_STUDENT_LOAN\n",
    "    \n",
    "    def get_salary(self):\n",
    "        self.money += self.salary\n",
    "    \n",
    "    def get_help_from_parents(self):\n",
    "        self.money += self.help_from_parents\n",
    "    \n",
    "    def get_monthly_income(self):\n",
    "        self.get_salary()\n",
    "        self.get_student_loan()\n",
    "        self.get_help_from_parents()\n",
    "    \n",
    "    def check_is_working(self):\n",
    "        return self.salary > 0\n",
    "    \n",
    "    @property\n",
    "    def money(self):\n",
    "        return self._money\n",
    "    \n",
    "    @money.setter\n",
    "    def money(self, new_value):\n",
    "        if new_value < 0:\n",
    "            raise ValueError(\"Don't go into credit card debt.\")\n",
    "        self._money = new_value"
   ]
  },
  {
   "cell_type": "code",
   "execution_count": 13,
   "metadata": {},
   "outputs": [],
   "source": [
    "nils = Student('Nils', 18)"
   ]
  },
  {
   "cell_type": "code",
   "execution_count": 14,
   "metadata": {},
   "outputs": [
    {
     "data": {
      "text/plain": [
       "0"
      ]
     },
     "execution_count": 14,
     "metadata": {},
     "output_type": "execute_result"
    }
   ],
   "source": [
    "nils.money"
   ]
  },
  {
   "cell_type": "code",
   "execution_count": 15,
   "metadata": {},
   "outputs": [
    {
     "data": {
      "text/plain": [
       "8500"
      ]
     },
     "execution_count": 15,
     "metadata": {},
     "output_type": "execute_result"
    }
   ],
   "source": [
    "nils.get_monthly_income()\n",
    "nils.money"
   ]
  },
  {
   "cell_type": "code",
   "execution_count": 17,
   "metadata": {},
   "outputs": [
    {
     "ename": "ValueError",
     "evalue": "Don't go into credit card debt.",
     "output_type": "error",
     "traceback": [
      "\u001b[0;31m---------------------------------------------------------------------------\u001b[0m",
      "\u001b[0;31mValueError\u001b[0m                                Traceback (most recent call last)",
      "\u001b[0;32m<ipython-input-17-60d9cb302b8e>\u001b[0m in \u001b[0;36m<module>\u001b[0;34m\u001b[0m\n\u001b[0;32m----> 1\u001b[0;31m \u001b[0mnils\u001b[0m\u001b[0;34m.\u001b[0m\u001b[0mmoney\u001b[0m \u001b[0;34m=\u001b[0m \u001b[0;34m-\u001b[0m\u001b[0;36m50\u001b[0m\u001b[0;34m\u001b[0m\u001b[0;34m\u001b[0m\u001b[0m\n\u001b[0m",
      "\u001b[0;32m<ipython-input-12-f188ac4e87b7>\u001b[0m in \u001b[0;36mmoney\u001b[0;34m(self, new_value)\u001b[0m\n\u001b[1;32m     55\u001b[0m     \u001b[0;32mdef\u001b[0m \u001b[0mmoney\u001b[0m\u001b[0;34m(\u001b[0m\u001b[0mself\u001b[0m\u001b[0;34m,\u001b[0m \u001b[0mnew_value\u001b[0m\u001b[0;34m)\u001b[0m\u001b[0;34m:\u001b[0m\u001b[0;34m\u001b[0m\u001b[0;34m\u001b[0m\u001b[0m\n\u001b[1;32m     56\u001b[0m         \u001b[0;32mif\u001b[0m \u001b[0mnew_value\u001b[0m \u001b[0;34m<\u001b[0m \u001b[0;36m0\u001b[0m\u001b[0;34m:\u001b[0m\u001b[0;34m\u001b[0m\u001b[0;34m\u001b[0m\u001b[0m\n\u001b[0;32m---> 57\u001b[0;31m             \u001b[0;32mraise\u001b[0m \u001b[0mValueError\u001b[0m\u001b[0;34m(\u001b[0m\u001b[0;34m\"Don't go into credit card debt.\"\u001b[0m\u001b[0;34m)\u001b[0m\u001b[0;34m\u001b[0m\u001b[0;34m\u001b[0m\u001b[0m\n\u001b[0m\u001b[1;32m     58\u001b[0m         \u001b[0mself\u001b[0m\u001b[0;34m.\u001b[0m\u001b[0m_money\u001b[0m \u001b[0;34m=\u001b[0m \u001b[0mnew_value\u001b[0m\u001b[0;34m\u001b[0m\u001b[0;34m\u001b[0m\u001b[0m\n",
      "\u001b[0;31mValueError\u001b[0m: Don't go into credit card debt."
     ]
    }
   ],
   "source": [
    "nils.money = -50"
   ]
  },
  {
   "cell_type": "code",
   "execution_count": 20,
   "metadata": {},
   "outputs": [],
   "source": [
    "class Person:\n",
    "    def __init__(self, age):\n",
    "        self._age = age\n",
    "    \n",
    "    @property\n",
    "    def age(self):\n",
    "        return self._age\n",
    "    \n",
    "    @age.setter\n",
    "    def age(self, value):\n",
    "        if value < 0:\n",
    "            raise ValueError('Cannot have negative age')\n",
    "        self._age = value"
   ]
  },
  {
   "cell_type": "code",
   "execution_count": 21,
   "metadata": {},
   "outputs": [],
   "source": [
    "yngve = Person(26)"
   ]
  },
  {
   "cell_type": "code",
   "execution_count": 22,
   "metadata": {},
   "outputs": [
    {
     "data": {
      "text/plain": [
       "26"
      ]
     },
     "execution_count": 22,
     "metadata": {},
     "output_type": "execute_result"
    }
   ],
   "source": [
    "yngve.age"
   ]
  },
  {
   "cell_type": "code",
   "execution_count": 23,
   "metadata": {},
   "outputs": [
    {
     "ename": "ValueError",
     "evalue": "Cannot have negative age",
     "output_type": "error",
     "traceback": [
      "\u001b[0;31m---------------------------------------------------------------------------\u001b[0m",
      "\u001b[0;31mValueError\u001b[0m                                Traceback (most recent call last)",
      "\u001b[0;32m<ipython-input-23-1a32c4c10d70>\u001b[0m in \u001b[0;36m<module>\u001b[0;34m\u001b[0m\n\u001b[0;32m----> 1\u001b[0;31m \u001b[0myngve\u001b[0m\u001b[0;34m.\u001b[0m\u001b[0mage\u001b[0m \u001b[0;34m=\u001b[0m \u001b[0;34m-\u001b[0m\u001b[0;36m5\u001b[0m\u001b[0;34m\u001b[0m\u001b[0;34m\u001b[0m\u001b[0m\n\u001b[0m",
      "\u001b[0;32m<ipython-input-20-a34fb882fa28>\u001b[0m in \u001b[0;36mage\u001b[0;34m(self, value)\u001b[0m\n\u001b[1;32m     10\u001b[0m     \u001b[0;32mdef\u001b[0m \u001b[0mage\u001b[0m\u001b[0;34m(\u001b[0m\u001b[0mself\u001b[0m\u001b[0;34m,\u001b[0m \u001b[0mvalue\u001b[0m\u001b[0;34m)\u001b[0m\u001b[0;34m:\u001b[0m\u001b[0;34m\u001b[0m\u001b[0;34m\u001b[0m\u001b[0m\n\u001b[1;32m     11\u001b[0m         \u001b[0;32mif\u001b[0m \u001b[0mvalue\u001b[0m \u001b[0;34m<\u001b[0m \u001b[0;36m0\u001b[0m\u001b[0;34m:\u001b[0m\u001b[0;34m\u001b[0m\u001b[0;34m\u001b[0m\u001b[0m\n\u001b[0;32m---> 12\u001b[0;31m             \u001b[0;32mraise\u001b[0m \u001b[0mValueError\u001b[0m\u001b[0;34m(\u001b[0m\u001b[0;34m'Cannot have negative age'\u001b[0m\u001b[0;34m)\u001b[0m\u001b[0;34m\u001b[0m\u001b[0;34m\u001b[0m\u001b[0m\n\u001b[0m\u001b[1;32m     13\u001b[0m         \u001b[0mself\u001b[0m\u001b[0;34m.\u001b[0m\u001b[0m_age\u001b[0m \u001b[0;34m=\u001b[0m \u001b[0mvalue\u001b[0m\u001b[0;34m\u001b[0m\u001b[0;34m\u001b[0m\u001b[0m\n",
      "\u001b[0;31mValueError\u001b[0m: Cannot have negative age"
     ]
    }
   ],
   "source": [
    "yngve.age = -5"
   ]
  },
  {
   "cell_type": "markdown",
   "metadata": {},
   "source": [
    "## We wish to generalise the student class and have a lecturer as well"
   ]
  },
  {
   "cell_type": "code",
   "execution_count": 25,
   "metadata": {},
   "outputs": [],
   "source": [
    "class Person:\n",
    "    def __init__(\n",
    "        self, \n",
    "        name,\n",
    "        age,\n",
    "        gender='undisclosed',\n",
    "        salary=0,\n",
    "        loan_amount=0,\n",
    "        money=0\n",
    "    ):\n",
    "        self.name = name\n",
    "        self.age = age\n",
    "        self.gender = gender\n",
    "        self.salary = salary\n",
    "        self.loan_amount = loan_amount\n",
    "        self._money = money\n",
    "    \n",
    "    def get_salary(self):\n",
    "        self.money += self.salary\n",
    "    \n",
    "    def pay_loan(self):\n",
    "        self.money -= self.loan_amount\n",
    "    \n",
    "    def get_monthly_income(self):\n",
    "        self.get_salary()\n",
    "        self.pay_loan()\n",
    "    \n",
    "    @property\n",
    "    def is_working(self):\n",
    "        return self.salary > 0\n",
    "    \n",
    "    @property\n",
    "    def has_loan(self):\n",
    "        return self.loan_amount > 0\n",
    "    \n",
    "    @property\n",
    "    def money(self):\n",
    "        return self._money\n",
    "    \n",
    "    @money.setter\n",
    "    def money(self, new_value):\n",
    "        if new_value < 0:\n",
    "            raise ValueError(\"Don't go into credit card debt.\")\n",
    "        self._money = new_value"
   ]
  },
  {
   "cell_type": "code",
   "execution_count": 27,
   "metadata": {},
   "outputs": [],
   "source": [
    "class Student(Person):\n",
    "    def __init__(\n",
    "        self, \n",
    "        name,\n",
    "        age,\n",
    "        gender='undisclosed',\n",
    "        transcript=None,\n",
    "        current_classes=None,\n",
    "        salary=0,\n",
    "        help_from_parents=0,\n",
    "    ):\n",
    "        super().__init__(\n",
    "            name=name,\n",
    "            age=age,\n",
    "            gender=gender,\n",
    "            salary=salary,\n",
    "            loan_amount=0,\n",
    "            money=0\n",
    "        )\n",
    "        if transcript is None:\n",
    "            transcript = {}\n",
    "        self.transcript = transcript\n",
    "        \n",
    "        if current_classes is None:\n",
    "            current_classes = set()\n",
    "        self.current_classes = set(current_classes)\n",
    "        \n",
    "    def get_student_loan(self):\n",
    "        self.money += MONTHLY_STUDENT_LOAN\n",
    "    \n",
    "    def get_help_from_parents(self):\n",
    "        self.money += self.help_from_parents\n",
    "    \n",
    "    def add_class(self, new_class):\n",
    "        self.current_classes.add(new_class)\n",
    "    \n",
    "    def get_monthly_income(self):\n",
    "        self.get_help_from_parents()\n",
    "        self.get_student_loan()\n",
    "        super().get_monthly_income()"
   ]
  },
  {
   "cell_type": "code",
   "execution_count": 43,
   "metadata": {},
   "outputs": [],
   "source": [
    "class Lecturer(Person):\n",
    "    def __init__(\n",
    "        self,\n",
    "        name,\n",
    "        age,\n",
    "        gender='undisclosed',\n",
    "        salary=35_000,\n",
    "        loan_amount=0,\n",
    "        classes=None\n",
    "    ):\n",
    "        super().__init__(\n",
    "            name=name,\n",
    "            age=age,\n",
    "            gender=gender,\n",
    "            salary=salary,\n",
    "            loan_amount=loan_amount\n",
    "        )\n",
    "        if classes is None:\n",
    "            classes = set()\n",
    "        self.classes = classes\n",
    "    \n",
    "    def __str__(self):\n",
    "        return f\"Lecturer, {self.name} teaching {self.classes}\"\n",
    "    \n",
    "    def __dir__(self):\n",
    "        return [\"That's a secret!\"]"
   ]
  },
  {
   "cell_type": "code",
   "execution_count": 44,
   "metadata": {},
   "outputs": [],
   "source": [
    "yngve = Lecturer(\n",
    "    name='Yngve',\n",
    "    age=26,\n",
    "    gender='male',\n",
    "    salary=29_000,\n",
    "    loan_amount=4000,\n",
    "    classes={'INF200'}\n",
    ")"
   ]
  },
  {
   "cell_type": "code",
   "execution_count": 45,
   "metadata": {},
   "outputs": [
    {
     "data": {
      "text/plain": [
       "\"Lecturer, Yngve teaching {'INF200'}\""
      ]
     },
     "execution_count": 45,
     "metadata": {},
     "output_type": "execute_result"
    }
   ],
   "source": [
    "str(yngve)"
   ]
  },
  {
   "cell_type": "code",
   "execution_count": 46,
   "metadata": {},
   "outputs": [
    {
     "data": {
      "text/plain": [
       "[\"That's a secret!\"]"
      ]
     },
     "execution_count": 46,
     "metadata": {},
     "output_type": "execute_result"
    }
   ],
   "source": [
    "dir(yngve)"
   ]
  },
  {
   "cell_type": "code",
   "execution_count": 37,
   "metadata": {},
   "outputs": [],
   "source": [
    "import random"
   ]
  },
  {
   "cell_type": "code",
   "execution_count": 38,
   "metadata": {},
   "outputs": [
    {
     "data": {
      "text/plain": [
       "['BPF',\n",
       " 'LOG4',\n",
       " 'NV_MAGICCONST',\n",
       " 'RECIP_BPF',\n",
       " 'Random',\n",
       " 'SG_MAGICCONST',\n",
       " 'SystemRandom',\n",
       " 'TWOPI',\n",
       " '_BuiltinMethodType',\n",
       " '_MethodType',\n",
       " '_Sequence',\n",
       " '_Set',\n",
       " '__all__',\n",
       " '__builtins__',\n",
       " '__cached__',\n",
       " '__doc__',\n",
       " '__file__',\n",
       " '__loader__',\n",
       " '__name__',\n",
       " '__package__',\n",
       " '__spec__',\n",
       " '_acos',\n",
       " '_bisect',\n",
       " '_ceil',\n",
       " '_cos',\n",
       " '_e',\n",
       " '_exp',\n",
       " '_inst',\n",
       " '_itertools',\n",
       " '_log',\n",
       " '_os',\n",
       " '_pi',\n",
       " '_random',\n",
       " '_sha512',\n",
       " '_sin',\n",
       " '_sqrt',\n",
       " '_test',\n",
       " '_test_generator',\n",
       " '_urandom',\n",
       " '_warn',\n",
       " 'betavariate',\n",
       " 'choice',\n",
       " 'choices',\n",
       " 'expovariate',\n",
       " 'gammavariate',\n",
       " 'gauss',\n",
       " 'getrandbits',\n",
       " 'getstate',\n",
       " 'lognormvariate',\n",
       " 'normalvariate',\n",
       " 'paretovariate',\n",
       " 'randint',\n",
       " 'random',\n",
       " 'randrange',\n",
       " 'sample',\n",
       " 'seed',\n",
       " 'setstate',\n",
       " 'shuffle',\n",
       " 'triangular',\n",
       " 'uniform',\n",
       " 'vonmisesvariate',\n",
       " 'weibullvariate']"
      ]
     },
     "execution_count": 38,
     "metadata": {},
     "output_type": "execute_result"
    }
   ],
   "source": [
    "dir(random)"
   ]
  },
  {
   "cell_type": "code",
   "execution_count": 50,
   "metadata": {},
   "outputs": [],
   "source": [
    "class Lecture:\n",
    "    def __init__(self, lecturer):\n",
    "        self.lecturer = lecturer\n",
    "    \n",
    "    def __enter__(self):\n",
    "        print(\"Lecture starts\")\n",
    "        return self\n",
    "    \n",
    "    def __exit__(self, exc_type, exc_value, traceback):\n",
    "        print(\"Lecture ends\")"
   ]
  },
  {
   "cell_type": "code",
   "execution_count": 51,
   "metadata": {},
   "outputs": [
    {
     "name": "stdout",
     "output_type": "stream",
     "text": [
      "Lecture starts\n",
      "Lecture by Yngve is really cool!\n",
      "Lecture ends\n"
     ]
    }
   ],
   "source": [
    "with Lecture(yngve) as lecture:\n",
    "    print(f\"Lecture by {lecture.lecturer.name} is really cool!\")"
   ]
  },
  {
   "cell_type": "markdown",
   "metadata": {},
   "source": [
    "## Decorators"
   ]
  },
  {
   "cell_type": "code",
   "execution_count": 52,
   "metadata": {},
   "outputs": [],
   "source": [
    "def print_message(func):\n",
    "    def new_func(*args, **kwargs):\n",
    "        print('Merry christmas!')\n",
    "        return func(*args, **kwargs)\n",
    "    return new_func"
   ]
  },
  {
   "cell_type": "code",
   "execution_count": 53,
   "metadata": {},
   "outputs": [],
   "source": [
    "@print_message\n",
    "def add_numbers(x, y):\n",
    "    return x+y"
   ]
  },
  {
   "cell_type": "code",
   "execution_count": 54,
   "metadata": {},
   "outputs": [
    {
     "name": "stdout",
     "output_type": "stream",
     "text": [
      "Merry christmas!\n"
     ]
    }
   ],
   "source": [
    "new_number = add_numbers(3, 5)"
   ]
  },
  {
   "cell_type": "code",
   "execution_count": 55,
   "metadata": {},
   "outputs": [
    {
     "data": {
      "text/plain": [
       "8"
      ]
     },
     "execution_count": 55,
     "metadata": {},
     "output_type": "execute_result"
    }
   ],
   "source": [
    "new_number"
   ]
  },
  {
   "cell_type": "code",
   "execution_count": null,
   "metadata": {},
   "outputs": [],
   "source": []
  }
 ],
 "metadata": {
  "kernelspec": {
   "display_name": "Python 3",
   "language": "python",
   "name": "python3"
  },
  "language_info": {
   "codemirror_mode": {
    "name": "ipython",
    "version": 3
   },
   "file_extension": ".py",
   "mimetype": "text/x-python",
   "name": "python",
   "nbconvert_exporter": "python",
   "pygments_lexer": "ipython3",
   "version": "3.7.3"
  }
 },
 "nbformat": 4,
 "nbformat_minor": 2
}
