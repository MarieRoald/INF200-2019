{
 "cells": [
  {
   "cell_type": "markdown",
   "metadata": {},
   "source": [
    "## Create Polygon class"
   ]
  },
  {
   "cell_type": "code",
   "execution_count": 17,
   "metadata": {},
   "outputs": [],
   "source": [
    "class Polygon:\n",
    "    def __init__(self, points):\n",
    "        \"\"\"Create a polygon from the list of numbers\"\"\"\n",
    "        self.points = [[float(x), float(y)] for x, y in points]\n",
    "\n",
    "    def __repr__(self):\n",
    "        return f\"Polygon with {len(self)} points at {id(self)}\"\n",
    "\n",
    "    def __len__(self):\n",
    "        return len(self.points)\n",
    "\n",
    "    def __getitem__(self, item):\n",
    "        return self.points[item]\n",
    "\n",
    "    def __setitem__(self, item, value):\n",
    "        x, y = value\n",
    "        self.points[item] = [float(x), float(y)]\n",
    "\n",
    "    def __add__(self, value):\n",
    "        x_add, y_add = value\n",
    "        points = [[x + float(x_add), y + float(y_add)] for x, y in self.points]\n",
    "        return Polygon (points)\n",
    "\n",
    "    def __radd__(self, value):\n",
    "        return self + value\n",
    "\n",
    "    def draw(self):\n",
    "        raise NotImplementedError\n",
    "    "
   ]
  },
  {
   "cell_type": "markdown",
   "metadata": {},
   "source": [
    "## Create Rectangle subclass"
   ]
  },
  {
   "cell_type": "code",
   "execution_count": 18,
   "metadata": {},
   "outputs": [],
   "source": [
    "class Rectangle(Polygon):\n",
    "    def __init__(self, top_left, bottom_right):\n",
    "        x_left, y_top = top_left\n",
    "        x_right, y_bottom = bottom_right\n",
    "\n",
    "        super().__init__([\n",
    "            [x_left, y_top], [x_left, y_bottom], [x_right, y_bottom], [x_right, y_top]\n",
    "        ])"
   ]
  },
  {
   "cell_type": "markdown",
   "metadata": {},
   "source": [
    "## Create square subclass"
   ]
  },
  {
   "cell_type": "code",
   "execution_count": null,
   "metadata": {},
   "outputs": [],
   "source": [
    "class Square(Rectangle):\n",
    "    def __init__(self, top_left, line_length):\n",
    "        x_left, y_top = top_left\n",
    "        bottom_right = [x_left + line_length, y_top - line_length]\n",
    "        super().__init__(top_left, bottom_right)"
   ]
  },
  {
   "cell_type": "markdown",
   "metadata": {},
   "source": [
    "## Make Polygon into an iterator"
   ]
  },
  {
   "cell_type": "code",
   "execution_count": 3,
   "metadata": {},
   "outputs": [],
   "source": [
    "class Polygon:\n",
    "    def __init__(self, points):\n",
    "        \"\"\"Create a polygon from the list of numbers\"\"\"\n",
    "        self.points = [[float(x), float(y)] for x, y in points]\n",
    "        self.current_idx = None\n",
    "\n",
    "    def __repr__(self):\n",
    "        return f\"Polygon with {len(self)} points at {id(self)}\"\n",
    "\n",
    "    def __len__(self):\n",
    "        return len(self.points)\n",
    "\n",
    "    def __getitem__(self, item):\n",
    "        return self.points[item]\n",
    "\n",
    "    def __setitem__(self, item, value):\n",
    "        x, y = value\n",
    "        self.points[item] = [float(x), float(y)]\n",
    "\n",
    "    def __add__(self, value):\n",
    "        x_add, y_add = value\n",
    "        points = [[x + float(x_add), y + float(y_add)] for x, y in self.points]\n",
    "        return Polygon (points)\n",
    "\n",
    "    def __radd__(self, value):\n",
    "        return self + value\n",
    "\n",
    "    def draw(self):\n",
    "        raise NotImplementedError\n",
    "    \n",
    "    def __iter__(self):\n",
    "        self.current_idx = 0\n",
    "        return self\n",
    "    \n",
    "    def __next__(self):\n",
    "        if self.current_idx is None:\n",
    "            raise RuntimeError(f'{type(self)} is not initialised as an iterator.')\n",
    "        if self.current_idx == len(self):\n",
    "            raise StopIteration\n",
    "        point = self.points[self.current_idx]\n",
    "        self.current_idx += 1\n",
    "        return point"
   ]
  },
  {
   "cell_type": "markdown",
   "metadata": {},
   "source": [
    "## Add Iterator class"
   ]
  },
  {
   "cell_type": "code",
   "execution_count": 4,
   "metadata": {},
   "outputs": [
    {
     "name": "stdout",
     "output_type": "stream",
     "text": [
      "[1.0, 2.0]\n",
      "[3.0, 4.0]\n",
      "[5.0, 6.0]\n"
     ]
    }
   ],
   "source": [
    "class PolygonPointIterator:\n",
    "    def __init__(self, polygon):\n",
    "        self.polygon = polygon\n",
    "        self.idx = 0\n",
    "    \n",
    "    def __iter__(self):\n",
    "        return self\n",
    "    \n",
    "    def __next__(self):\n",
    "        if self.idx == len(self.polygon):\n",
    "            raise StopIteration\n",
    "        point = self.polygon[self.idx]\n",
    "        self.idx += 1\n",
    "        return point\n",
    "\n",
    "class Polygon:\n",
    "    def __init__(self, points):\n",
    "        \"\"\"Create a polygon from the list of numbers\"\"\"\n",
    "        self.points = [[float(x), float(y)] for x, y in points]\n",
    "        self.current_idx = None\n",
    "\n",
    "    def __repr__(self):\n",
    "        return f\"Polygon with {len(self)} points at {id(self)}\"\n",
    "\n",
    "    def __len__(self):\n",
    "        return len(self.points)\n",
    "\n",
    "    def __getitem__(self, item):\n",
    "        return self.points[item]\n",
    "\n",
    "    def __setitem__(self, item, value):\n",
    "        x, y = value\n",
    "        self.points[item] = [float(x), float(y)]\n",
    "\n",
    "    def __add__(self, value):\n",
    "        x_add, y_add = value\n",
    "        points = [[x + float(x_add), y + float(y_add)] for x, y in self.points]\n",
    "        return Polygon (points)\n",
    "\n",
    "    def __radd__(self, value):\n",
    "        return self + value\n",
    "\n",
    "    def draw(self):\n",
    "        raise NotImplementedError\n",
    "    \n",
    "    def __iter__(self):\n",
    "        return PolygonPointIterator"
   ]
  },
  {
   "cell_type": "markdown",
   "metadata": {},
   "source": [
    "## Add line iterator"
   ]
  },
  {
   "cell_type": "code",
   "execution_count": 14,
   "metadata": {},
   "outputs": [],
   "source": [
    "class PolygonPointIterator:\n",
    "    def __init__(self, polygon):\n",
    "        self.polygon = polygon\n",
    "        self.idx = 0\n",
    "    \n",
    "    def __iter__(self):\n",
    "        return self\n",
    "    \n",
    "    def __next__(self):\n",
    "        if self.idx == len(self.polygon):\n",
    "            raise StopIteration\n",
    "        point = self.polygon[self.idx]\n",
    "        self.idx += 1\n",
    "        return point\n",
    "    \n",
    "class PolygonLineIterator:\n",
    "    def __init__(self, polygon):\n",
    "        self.polygon = polygon\n",
    "        self.idx = 0\n",
    "    \n",
    "    def __iter__(self):\n",
    "        return self\n",
    "    \n",
    "    def __next__(self):\n",
    "        if self.idx == len(self.polygon):\n",
    "            raise StopIteration\n",
    "\n",
    "        first_point = self.polygon[self.idx]\n",
    "        second_point = self.polygon[(self.idx + 1) % len(self.polygon)]\n",
    "        self.idx += 1\n",
    "        return [first_point, second_point]\n",
    "\n",
    "class Polygon:\n",
    "    def __init__(self, points):\n",
    "        \"\"\"Create a polygon from the list of numbers\"\"\"\n",
    "        self.points = [[float(x), float(y)] for x, y in points]\n",
    "        self.current_idx = None\n",
    "\n",
    "    def __repr__(self):\n",
    "        return f\"Polygon with {len(self)} points at {id(self)}\"\n",
    "\n",
    "    def __len__(self):\n",
    "        return len(self.points)\n",
    "\n",
    "    def __getitem__(self, item):\n",
    "        return self.points[item]\n",
    "\n",
    "    def __setitem__(self, item, value):\n",
    "        x, y = value\n",
    "        self.points[item] = [float(x), float(y)]\n",
    "\n",
    "    def __add__(self, value):\n",
    "        x_add, y_add = value\n",
    "        points = [[x + float(x_add), y + float(y_add)] for x, y in self.points]\n",
    "        return Polygon (points)\n",
    "\n",
    "    def __radd__(self, value):\n",
    "        return self + value\n",
    "\n",
    "    def draw(self):\n",
    "        raise NotImplementedError\n",
    "    \n",
    "    def __iter__(self):\n",
    "        return PolygonPointIterator(self)\n",
    "    \n",
    "    def iterlines(self):\n",
    "        return PolygonLineIterator(self)"
   ]
  },
  {
   "cell_type": "code",
   "execution_count": 15,
   "metadata": {},
   "outputs": [
    {
     "name": "stdout",
     "output_type": "stream",
     "text": [
      "[1.0, 2.0]\n",
      "[3.0, 4.0]\n",
      "[5.0, 6.0]\n"
     ]
    }
   ],
   "source": [
    "for i in Polygon([[1, 2], [3, 4], [5, 6]]):\n",
    "    print(i)"
   ]
  },
  {
   "cell_type": "code",
   "execution_count": 16,
   "metadata": {},
   "outputs": [
    {
     "name": "stdout",
     "output_type": "stream",
     "text": [
      "[[1.0, 2.0], [3.0, 4.0]]\n",
      "[[3.0, 4.0], [5.0, 6.0]]\n",
      "[[5.0, 6.0], [1.0, 2.0]]\n"
     ]
    }
   ],
   "source": [
    "for i in Polygon([[1, 2], [3, 4], [5, 6]]).iterlines():\n",
    "    print(i)"
   ]
  },
  {
   "cell_type": "code",
   "execution_count": null,
   "metadata": {},
   "outputs": [],
   "source": []
  }
 ],
 "metadata": {
  "kernelspec": {
   "display_name": "Python 3",
   "language": "python",
   "name": "python3"
  },
  "language_info": {
   "codemirror_mode": {
    "name": "ipython",
    "version": 3
   },
   "file_extension": ".py",
   "mimetype": "text/x-python",
   "name": "python",
   "nbconvert_exporter": "python",
   "pygments_lexer": "ipython3",
   "version": "3.7.3"
  }
 },
 "nbformat": 4,
 "nbformat_minor": 2
}
