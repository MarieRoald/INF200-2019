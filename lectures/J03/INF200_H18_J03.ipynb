{
 "cells": [
  {
   "cell_type": "markdown",
   "metadata": {},
   "source": [
    "# INF200 Lecture No J03\n",
    "### Hans Ekkehard Plesser / NMBU\n",
    "### 8 January 2018\n",
    "\n",
    "## Today's topics\n",
    "\n",
    "- More on testing\n",
    "    - unit/integration/acceptance/regression testing\n",
    "    - file layout\n",
    "    - approximate comparisons\n",
    "    - mocking\n",
    "    - fixtures\n",
    "- Statistical tests and random selection"
   ]
  },
  {
   "cell_type": "markdown",
   "metadata": {},
   "source": [
    "# NOTE: THE EXAMPLE PROJECTS USE \"WRONG\" PROJECT LAYOUT."
   ]
  },
  {
   "cell_type": "markdown",
   "metadata": {},
   "source": [
    "## More on testing\n",
    "\n",
    "### Levels of testing\n",
    "\n",
    "- *unit tests* are tests of small parts of code\n",
    "    - test individual methods\n",
    "- *integration tests* test that the parts of a larger project work together\n",
    "    - test that class instances behave as expected\n",
    "    - expect that a class, e.g., representing a landscape cell, properly manages animals\n",
    "- *acceptance tests* test that the software as a whole\n",
    "    - `check_sim.py`\n",
    "    - `test_biosim_interface.py`\n",
    "    - similar simulations, e.g., with parameter modifications\n",
    "        - different islands and initial populations\n",
    "        - parameter choices preventing birth, death, eating, movement, ...\n",
    "- *regression tests* are added when a bug is discovered\n",
    "    - the test reproduces the bug\n",
    "    - when the bug is fixed, the test passes\n",
    "    - we keep the test, in case we should re-introduce the bug by a later change (regress)\n",
    "    \n",
    "### File layout\n",
    "\n",
    "- You should write different test modules (files) to keep everything neat and organized\n",
    "- Rule of thumb: One test module for each module in your package\n",
    "    - `animals.py` ---> `test_animals.py`\n",
    "    - `landscape.py` ---> `test_landscape.py`\n",
    "    - ...\n",
    "- Each individual test function should be given a descriptive name\n",
    "    - When a test fails, the first thing you read is the name\n",
    "        - Should describe what was tested and failed\n",
    "    - Should write a docstring to further explain the test\n",
    "    \n",
    "#### Placement of tests\n",
    "\n",
    "- Two alternatives, no definite \"best\" solution\n",
    "- See https://docs.python-guide.org/writing/structure/ for a discussion on structure\n",
    "- See course repository `Project/SampleProjects`\n",
    "- Both variants can be run in the same way from PyCharm by adding a py.test configuration covering the entire `chutes_project_varX` directory\n",
    "\n",
    "##### Variant 1: tests in code directory\n",
    "```\n",
    "chutes_project_var1/\n",
    "   src/chutes/\n",
    "      __init__.py\n",
    "      player.py \n",
    "      tests/\n",
    "         __init__.py\n",
    "         test_board.py\n",
    "   examples/\n",
    "   setup.py\n",
    "```\n",
    "- `tests` is subdirectory of `chutes` code directory\n",
    "- `tests` is a package\n",
    "- test files use relative imports\n",
    "```\n",
    "from ..board import Board\n",
    "```\n",
    "- `setup.py` specificies `tests` as installable package (details later)\n",
    "```\n",
    "      packages=['chutes', 'chutes.tests'],\n",
    "```\n",
    "\n",
    "##### Variant 2: tests parallel to code directory\n",
    "```\n",
    "chutes_project_var2/\n",
    "   chutes/\n",
    "      __init__.py\n",
    "      player.py \n",
    "   examples/\n",
    "   tests/\n",
    "      test_board.py\n",
    "   setup.py\n",
    "```\n",
    "- `tests` is a directory \"parallel\" to `chutes` code directory\n",
    "- `tests` is *not* a package\n",
    "- test files use absolute imports\n",
    "```\n",
    "from chutes.board import Board\n",
    "```\n",
    "- `setup.py` specificies only `chutes` as installable package (details later)\n",
    "```\n",
    "      packages=['chutes'],\n",
    "```\n",
    "\n",
    "**We will use Variant 2.**\n",
    "\n",
    "### Approximate comparisons\n"
   ]
  },
  {
   "cell_type": "code",
   "execution_count": 1,
   "metadata": {},
   "outputs": [],
   "source": [
    "import numpy as np"
   ]
  },
  {
   "cell_type": "code",
   "execution_count": 2,
   "metadata": {
    "collapsed": true
   },
   "outputs": [],
   "source": [
    "from pytest import approx"
   ]
  },
  {
   "cell_type": "markdown",
   "metadata": {},
   "source": [
    "Check if two numbers are equal to within a relative error of $10^{-6}$"
   ]
  },
  {
   "cell_type": "code",
   "execution_count": 3,
   "metadata": {},
   "outputs": [
    {
     "data": {
      "text/plain": [
       "False"
      ]
     },
     "execution_count": 3,
     "metadata": {},
     "output_type": "execute_result"
    }
   ],
   "source": [
    "3.001 == approx(3)"
   ]
  },
  {
   "cell_type": "code",
   "execution_count": 4,
   "metadata": {},
   "outputs": [
    {
     "data": {
      "text/plain": [
       "True"
      ]
     },
     "execution_count": 4,
     "metadata": {},
     "output_type": "execute_result"
    }
   ],
   "source": [
    "3.0000001 == approx(3)"
   ]
  },
  {
   "cell_type": "markdown",
   "metadata": {},
   "source": [
    "Comparing to zero uses absolute error of $10^{-12}$"
   ]
  },
  {
   "cell_type": "code",
   "execution_count": 5,
   "metadata": {},
   "outputs": [
    {
     "data": {
      "text/plain": [
       "False"
      ]
     },
     "execution_count": 5,
     "metadata": {},
     "output_type": "execute_result"
    }
   ],
   "source": [
    "0.0001 == approx(0)"
   ]
  },
  {
   "cell_type": "code",
   "execution_count": 6,
   "metadata": {},
   "outputs": [
    {
     "data": {
      "text/plain": [
       "True"
      ]
     },
     "execution_count": 6,
     "metadata": {},
     "output_type": "execute_result"
    }
   ],
   "source": [
    "0.0000000000001 == approx(0)"
   ]
  },
  {
   "cell_type": "markdown",
   "metadata": {},
   "source": [
    "Approximate comparisons also work for composite data types:"
   ]
  },
  {
   "cell_type": "code",
   "execution_count": 7,
   "metadata": {},
   "outputs": [
    {
     "data": {
      "text/plain": [
       "True"
      ]
     },
     "execution_count": 7,
     "metadata": {},
     "output_type": "execute_result"
    }
   ],
   "source": [
    "[1.000001, 3] == approx([1.000001, 3]) "
   ]
  },
  {
   "cell_type": "code",
   "execution_count": 8,
   "metadata": {},
   "outputs": [
    {
     "data": {
      "text/plain": [
       "True"
      ]
     },
     "execution_count": 8,
     "metadata": {},
     "output_type": "execute_result"
    }
   ],
   "source": [
    "{'a': 1.000001, 'b': 3} == approx({'a': 1.000001, 'b': 3}) "
   ]
  },
  {
   "cell_type": "code",
   "execution_count": 9,
   "metadata": {},
   "outputs": [
    {
     "data": {
      "text/plain": [
       "True"
      ]
     },
     "execution_count": 9,
     "metadata": {},
     "output_type": "execute_result"
    }
   ],
   "source": [
    "np.array([1.000001, 3]) == approx(np.array([1.000001, 3]))"
   ]
  },
  {
   "cell_type": "markdown",
   "metadata": {},
   "source": [
    "See https://docs.pytest.org/en/latest/reference.html#pytest-approx for details."
   ]
  },
  {
   "cell_type": "markdown",
   "metadata": {},
   "source": [
    "### Mocking\n",
    "\n",
    "- Temporarily replace a Python object with a different one, typically replacing a class or method\n",
    "- Supported by Python `unittest.mock`\n",
    "    - Relatively complex\n",
    "    - We will not use it directly\n",
    "    - For documentation, see\n",
    "        - https://docs.python.org/3/library/unittest.mock-examples.html\n",
    "        - https://docs.python.org/3/library/unittest.mock.html#the-mock-class\n",
    "- For convenient mocking with py.test, we need a py.test extension `pytest-mock`\n",
    "    - If you use Anaconda Python, install with `conda install pytest-mock` or via the Conda package manager\n",
    "    - Otherwise install with `pip install pytest-mock`\n",
    "    - For documentation, see https://github.com/pytest-dev/pytest-mock/\n",
    "\n",
    "#### Example: Replacing random number generator with fixed value\n",
    "\n",
    "- See also `Project/SampleProjects/chutes_project_var2`\n",
    "- In the test below, `random.randint` is replaced by a function that always returns `1`. The modification is in force only in that test.\n",
    "\n",
    "```python\n",
    "def test_single_step_one(mocker):\n",
    "    mocker.patch('random.randint', return_value=1)\n",
    "    b = Board(chutes=[], ladders=[])\n",
    "    pl = Player(b)\n",
    "    pl.move()\n",
    "    assert pl.position == 1\n",
    "```\n",
    "\n",
    "- `mocker` is automatically provided by py.test if the `pytest-mock` extension is installed, no imports required\n",
    "\n",
    "#### Example: Counting the number of calls to a method\n",
    "\n",
    "- See `Project/SampleProjecs/biolab_project/biolab/tests/test_dish.py`\n",
    "\n",
    "```python\n",
    "class TestAgingCalls:\n",
    "    def test_dish_ages(self, mocker):\n",
    "        mocker.spy(Bacteria, 'ages')\n",
    "\n",
    "        n_a, n_b = 10, 20\n",
    "        d = Dish(n_a, n_b)\n",
    "        d.aging()\n",
    "\n",
    "        assert Bacteria.ages.call_count == n_a + n_b\n",
    "```\n",
    "\n",
    "- `mocker.spy()` wraps `Bacteria.ages` so we can extract information later\n",
    "- `Bacteria.ages.call_count` gives the number of times `Bacteria.ages` has been called\n",
    "- The \"spy\" has an effect only inside this test\n",
    "\n",
    "#### Example: Checking that all calls are made on different objects\n",
    "\n",
    "- See `test_dish.py` as well\n",
    "- Note that `Bacteria.ages()` is called with `self` as only argument\n",
    "\n",
    "```python\n",
    "class TestAgingCalls:\n",
    "    def test_dish_ages_callers(self, mocker):\n",
    "        mocker.spy(Bacteria, 'ages')\n",
    "\n",
    "        n_a, n_b = 10, 20\n",
    "        d = Dish(n_a, n_b)\n",
    "        d.aging()\n",
    "\n",
    "        args = Bacteria.ages.call_args_list\n",
    "        pos_args, kwargs = zip(*args)\n",
    "        assert len(set(pos_args)) == len(pos_args)\n",
    "```\n",
    "\n",
    "- `call_args_list` gives us the arguments for all calls to `ages`\n",
    "- The arguments are given as tuples `(positional arguments, keyword arguments)`\n",
    "- We are interested only on the positional arguments (`self`)\n",
    "- We want to check if each call was made for a different object"
   ]
  },
  {
   "cell_type": "markdown",
   "metadata": {},
   "source": [
    "### Fixtures\n",
    "\n",
    "- Set up or clean up things before/after a test\n",
    "- Parameterize tests: run one test several times with different values\n",
    "- For more information, see\n",
    "    - http://pytest.readthedocs.io/en/latest/fixture.html#fixture\n",
    "    - http://pytest.readthedocs.io/en/latest/parametrize.html#parametrize\n",
    "    - PyTest-related material at http://pythontesting.net/start-here/\n",
    "\n",
    "```python\n",
    "class TestDeathDivision:\n",
    "    \"\"\"\n",
    "    Tests for death and division.\n",
    "\n",
    "    The main point of this test class is to show the use of a fixture\n",
    "    to create an initial population before each test.\n",
    "    \"\"\"\n",
    "\n",
    "    @pytest.fixture(autouse=True)\n",
    "    def create_dish(self):\n",
    "        self.n_a = 10\n",
    "        self.n_b = 20\n",
    "        self.dish = Dish(self.n_a, self.n_b)\n",
    "\n",
    "    @pytest.fixture\n",
    "    def p_death_one(self):\n",
    "        # set death probability to 1 before test (setup)\n",
    "        Bacteria.set_params({'p_death': 1})\n",
    "        yield\n",
    "        # code after yield executed after test (teardown)\n",
    "        Bacteria.set_params(Bacteria.default_params)\n",
    "\n",
    "    def test_death(self):\n",
    "        # test of fixture: do we have a \"fresh\" dish?\n",
    "        n_a_old = self.dish.get_num_a()\n",
    "        n_b_old = self.dish.get_num_b()\n",
    "        assert n_a_old == self.n_a\n",
    "        assert n_b_old == self.n_b\n",
    "\n",
    "        for _ in range(10):\n",
    "            self.dish.death()\n",
    "            n_a = self.dish.get_num_a()\n",
    "            n_b = self.dish.get_num_b()\n",
    "            assert n_a <= n_a_old\n",
    "            assert n_b <= n_b_old\n",
    "            n_a_old, n_b_old = n_a, n_b\n",
    "\n",
    "        # after 10 rounds of death probability of no change is minimal\n",
    "        assert self.dish.get_num_a() < self.n_a\n",
    "        assert self.dish.get_num_b() < self.n_b\n",
    "\n",
    "\n",
    "    def test_division(self):\n",
    "        # test of fixture: do we have a \"fresh\" dish?\n",
    "        n_a_old = self.dish.get_num_a()\n",
    "        n_b_old = self.dish.get_num_b()\n",
    "        assert n_a_old == self.n_a\n",
    "        assert n_b_old == self.n_b\n",
    "\n",
    "        for _ in range(10):\n",
    "            self.dish.division()\n",
    "            n_a = self.dish.get_num_a()\n",
    "            n_b = self.dish.get_num_b()\n",
    "            assert n_a >= n_a_old\n",
    "            assert n_b >= n_b_old\n",
    "            n_a_old, n_b_old = n_a, n_b\n",
    "\n",
    "        # after 10 rounds of death probability of no change is minimal\n",
    "        assert self.dish.get_num_a() > self.n_a\n",
    "        assert self.dish.get_num_b() > self.n_b\n",
    "\n",
    "    def test_all_die(self, p_death_one):\n",
    "        self.dish.death()\n",
    "        assert self.dish.get_num_a() == 0\n",
    "        assert self.dish.get_num_b() == 0\n",
    "\n",
    "    def test_zz_p_death_fine(self):\n",
    "        \"\"\"\n",
    "        Test to check that p_death modified only in test_all_die.\n",
    "        \"\"\"\n",
    "        assert Bacteria.p_death == Bacteria.default_params['p_death']\n",
    "\n",
    "\n",
    "@pytest.mark.parametrize(\"n_a, n_b, p_death\",\n",
    "                         [[100, 200, 0.1],\n",
    "                          [100, 200, 0.9],\n",
    "                          [10, 20, 0.5]])\n",
    "def test_death(n_a, n_b, p_death):\n",
    "    Bacteria.set_params({'p_death': p_death})\n",
    "    dish = Dish(n_a, n_b)\n",
    "    dish.death()\n",
    "    Bacteria.set_params(Bacteria.default_params)\n",
    "\n",
    "    died_a = n_a - dish.get_num_a()\n",
    "    died_b = n_b - dish.get_num_b()\n",
    "    assert binom_test(died_a, n_a, p_death) > ALPHA\n",
    "    assert binom_test(died_b, n_b, p_death) > ALPHA    \n",
    "```"
   ]
  },
  {
   "cell_type": "markdown",
   "metadata": {},
   "source": [
    "## Statistical tests and random selection\n",
    "\n",
    "- Test methods that depend on random numbers\n",
    "- Exact results will depend on precise sequence of random numbers generated, i.e., on the random generator used and the random seed\n",
    "\n",
    "### Basic approaches\n",
    "\n",
    "#### Fixed seed\n",
    "By seeding the random number generator with a fixed value, we can ensure that we always get the same sequence of random numbers; particularly important while debugging.\n",
    "\n",
    "- Requires that we know which random number generator is used by methods tested\n",
    "- Adding more tests or changing tests or code can change the way in which random numbers are consumed\n",
    "\n",
    "#### Mocking\n",
    "Mock the random number function to return a fixed value.\n",
    "\n",
    "- Allows us to check that the code using the random numbers works as expected\n",
    "- Does not test whether the result has the expected distribution\n",
    "\n",
    "#### Statistical tests\n",
    "\n",
    "- The principal approach is based on statistical testing of hypothesis\n",
    "    - Formulate a hypothesis (expectation), e.g., \"value $x$ is a sample of random variable $X$ which has a normal (Gaussian) distribution of given mean $\\mu$ and variance $\\sigma$\"\n",
    "    - Find the $p$-value of $x$, i.e., the probability to observe a value at least as far from the mean as $x$ if $x$ indeed follows the assumed distribution\n",
    "    - Compare the $p$-value to a predefined acceptance limit $\\alpha$: if $p>\\alpha$ the test is passed\n",
    "- Interpretation: Let, e.g., $\\alpha=0.01=1\\%$. If we observe a value $x$ with a $p$-value less than $\\alpha=1\\%$, this means that the value $x$ belongs to the outer tail of the assumed distribution, among those values that make up the 1% least likely values in the distribution. We thus assume that $x$ did not come from the expected distribution and declare the test failed.\n",
    "- Note: By construction, this test will fail in 1% of all cases even if $x$ follows the assumed distribution. Thus, failures need to be inspected carefully.\n",
    "- See, e.g., Knuth, The Art of Computer Programming, vol 2.\n",
    "\n",
    "#### Types of statistical tests\n",
    "\n",
    "- [$Z$-test](https://en.wikipedia.org/wiki/Z-test)\n",
    "    - Strictly speaking, tests whether the mean of $n$ random values drawn independently from the same distribution is from a Gaussian distribution of given mean and variance \n",
    "    - Due to the [central limit theorem](https://en.wikipedia.org/wiki/Central_limit_theorem), it can also be applied in many other cases as an approximation provided we are considering averages of many trials\n",
    "    - If the variance of the Gaussian distribution is not know a priori, one should use [Student's $t$-test](https://en.wikipedia.org/wiki/Student%27s_t-test) instead\n",
    "\n",
    "- [Binomial test](https://en.wikipedia.org/wiki/Binomial_test)\n",
    "    - An explicit test for binomially distributed quantities, e.g., the number of successes in $n$ Bernoulli experiments (coin flips)\n",
    "    - See also [GraphPad](http://www.graphpad.com/guides/prism/6/statistics/index.htm?stat_binomial.htm) for an explanation of the test. The [binomial test in SciPy](http://docs.scipy.org/doc/scipy-0.16.1/reference/generated/scipy.stats.binom.html) uses the same approach as GraphPad\n",
    "\n",
    "- `scipy.stats` provides [a number of statistical test functions](http://docs.scipy.org/doc/scipy-0.16.1/reference/stats.html)\n",
    "\n"
   ]
  },
  {
   "cell_type": "markdown",
   "metadata": {},
   "source": [
    "## Choosing between alternatives\n",
    "\n",
    "- Literature: Knuth, The Art of Computer Programming, vol 2, ch 3.3-3.4 \n",
    "- In a simluation, we want to choose between four alternatives with probabilities $p_0, p_1, p_2, p_3$\n",
    "- Note $\\sum_{n=0}^3 p_n = 1$ by definition\n",
    "- Cumulative probabilities $P_n = \\sum_{k=0}^n p_k$ divide unit interval in sections corresponding to events 0, 1, 2, 3\n",
    "- Specifically, we choose a random number $r$ and select \n",
    "\n",
    "\\begin{equation}\n",
    "\\begin{cases}\n",
    "\\text{event}\\: 0 \\quad\\text{if}\\; r < P_0 \\\\\n",
    "\\text{event}\\: n \\quad\\text{if}\\; P_{n-1} \\leq r < P_{n}\\;\\; \\text{for}\\; n>0\n",
    "\\end{cases}\n",
    "\\end{equation}\n",
    "\n",
    "- The following code shall select events (this method is called the *linear search* method)"
   ]
  },
  {
   "cell_type": "code",
   "execution_count": 10,
   "metadata": {
    "collapsed": true
   },
   "outputs": [],
   "source": [
    "import numpy as np\n",
    "from scipy.stats import chisquare, kstest, probplot\n",
    "import matplotlib.pyplot as plt\n",
    "\n",
    "%matplotlib inline"
   ]
  },
  {
   "cell_type": "code",
   "execution_count": 11,
   "metadata": {
    "collapsed": true
   },
   "outputs": [],
   "source": [
    "plt.rcParams['figure.figsize'] = (15, 5)"
   ]
  },
  {
   "cell_type": "code",
   "execution_count": 12,
   "metadata": {
    "collapsed": true
   },
   "outputs": [],
   "source": [
    "np.random.seed(1234567)"
   ]
  },
  {
   "cell_type": "code",
   "execution_count": 13,
   "metadata": {},
   "outputs": [
    {
     "name": "stdout",
     "output_type": "stream",
     "text": [
      "p:  [0.125 0.25  0.5   0.125]\n",
      "P:  [0.125 0.375 0.875 1.   ]\n",
      "0 125.0 114.0\n",
      "1 250.0 339.0\n",
      "2 500.0 488.0\n",
      "3 125.0 59.0\n"
     ]
    }
   ],
   "source": [
    "p = np.array([1./8, 1./4, 1./2, 1./8])\n",
    "P = np.cumsum(p)\n",
    "print('p: ', p)\n",
    "print('P: ', P)\n",
    "\n",
    "n_trials = 1000\n",
    "num_expected = n_trials * p\n",
    "num_observed = np.zeros_like(p)\n",
    "\n",
    "for _ in range(n_trials):\n",
    "    n = 0\n",
    "    while np.random.random() >= P[n]:\n",
    "        n += 1\n",
    "    num_observed[n] +=1\n",
    "    \n",
    "for n, (e, o) in enumerate(zip(num_expected, num_observed)):\n",
    "    print(n, e, o)"
   ]
  },
  {
   "cell_type": "markdown",
   "metadata": {},
   "source": [
    "- Are these results probable if our code were correct?\n",
    "- We can check with the [$\\chi^2$-test](https://en.wikipedia.org/wiki/Chi-squared_test)"
   ]
  },
  {
   "cell_type": "code",
   "execution_count": 14,
   "metadata": {},
   "outputs": [
    {
     "data": {
      "text/plain": [
       "(67.788, 1.2700179646806135e-14)"
      ]
     },
     "execution_count": 14,
     "metadata": {},
     "output_type": "execute_result"
    }
   ],
   "source": [
    "chi2, p_value = chisquare(num_observed, num_expected)\n",
    "chi2, p_value"
   ]
  },
  {
   "cell_type": "markdown",
   "metadata": {},
   "source": [
    "- The $p$-value of $\\sim 10^{-14}$ strongly suggest to reject the null-hypothesis that our code generated results distributed according to the prescribed distribution.\n",
    "- **What is wrong with our code?**\n",
    "    - We need to choose **one** random number\n",
    "    - In the code above, we draw a new random number for each possible event we test for\n",
    "- The code below is corrected"
   ]
  },
  {
   "cell_type": "code",
   "execution_count": 15,
   "metadata": {},
   "outputs": [
    {
     "name": "stdout",
     "output_type": "stream",
     "text": [
      "0 125.0 123.0\n",
      "1 250.0 237.0\n",
      "2 500.0 520.0\n",
      "3 125.0 120.0\n"
     ]
    }
   ],
   "source": [
    "num_observed = np.zeros_like(p)\n",
    "for _ in range(n_trials):\n",
    "    n = 0\n",
    "    r = np.random.random()\n",
    "    while r >= P[n]:\n",
    "        n += 1\n",
    "    num_observed[n] +=1\n",
    "    \n",
    "for n, (e, o) in enumerate(zip(num_expected, num_observed)):\n",
    "    print(n, e, o)"
   ]
  },
  {
   "cell_type": "markdown",
   "metadata": {},
   "source": [
    "- This looks better, but what does $\\chi^2$ say?"
   ]
  },
  {
   "cell_type": "code",
   "execution_count": 16,
   "metadata": {},
   "outputs": [
    {
     "data": {
      "text/plain": [
       "(1.708, 0.6351566795609129)"
      ]
     },
     "execution_count": 16,
     "metadata": {},
     "output_type": "execute_result"
    }
   ],
   "source": [
    "chi2, p_value = chisquare(num_observed, num_expected)\n",
    "chi2, p_value"
   ]
  },
  {
   "cell_type": "markdown",
   "metadata": {},
   "source": [
    "- $p=0.64$ gives no reason to reject the null hypothesis that our code generated numbers according to the prescribed distribution\n",
    "\n",
    "### Refactoring the code\n",
    "\n",
    "- We divide our code into functions, so it becomes easier to run some more experiments\n",
    "- In the code above, we compute and store the cumulative probability $P$ explicitly. We can avoid this by successively subtracting from the random number $r$ the probabilities $p_n$ we have checked"
   ]
  },
  {
   "cell_type": "code",
   "execution_count": 17,
   "metadata": {
    "collapsed": true
   },
   "outputs": [],
   "source": [
    "def random_select(p):\n",
    "    r = np.random.random()\n",
    "    n = 0\n",
    "    while r >= p[n]:\n",
    "        r -= p[n]\n",
    "        n += 1\n",
    "    return n\n",
    "\n",
    "def event_frequencies(p, num_events):\n",
    "    event_count = np.zeros_like(p)\n",
    "    for _ in range(num_events):\n",
    "        event = random_select(p)\n",
    "        event_count[event] += 1\n",
    "    return event_count\n",
    "\n",
    "def chi2_pval_random_select(p, num_events):\n",
    "    num_expected = num_events * p\n",
    "    num_observed = event_frequencies(p, num_events)\n",
    "    _, p_value = chisquare(num_observed, num_expected)\n",
    "    return p_value"
   ]
  },
  {
   "cell_type": "code",
   "execution_count": 18,
   "metadata": {},
   "outputs": [
    {
     "data": {
      "text/plain": [
       "0.4456927785538277"
      ]
     },
     "execution_count": 18,
     "metadata": {},
     "output_type": "execute_result"
    }
   ],
   "source": [
    "chi2_pval_random_select(p, 1000)"
   ]
  },
  {
   "cell_type": "markdown",
   "metadata": {},
   "source": [
    "- The $p$-value from a single test looks fine"
   ]
  },
  {
   "cell_type": "markdown",
   "metadata": {},
   "source": [
    "### Repeated tests\n",
    "\n",
    "- To become even more certain that our random selection scheme works correctly, we can repeat `test_random_select()` many times\n",
    "- The resulting $p$-values should then be uniformely distributed on $[0, 1]$\n",
    "- We can test for this using the [Kolmogorov-Smirnov test](https://en.wikipedia.org/wiki/Kolmogorov–Smirnov_test)"
   ]
  },
  {
   "cell_type": "code",
   "execution_count": 19,
   "metadata": {
    "collapsed": true
   },
   "outputs": [],
   "source": [
    "p_values = [chi2_pval_random_select(p, 1000) for _ in range(500)]"
   ]
  },
  {
   "cell_type": "code",
   "execution_count": 20,
   "metadata": {},
   "outputs": [
    {
     "name": "stderr",
     "output_type": "stream",
     "text": [
      "/Users/plesser/anaconda3/lib/python3.6/site-packages/matplotlib/axes/_axes.py:6499: MatplotlibDeprecationWarning: \n",
      "The 'normed' kwarg was deprecated in Matplotlib 2.1 and will be removed in 3.1. Use 'density' instead.\n",
      "  alternative=\"'density'\", removal=\"3.1\")\n"
     ]
    },
    {
     "data": {
      "image/png": "[encoded data removed]",
      "text/plain": [
       "<Figure size 1080x360 with 3 Axes>"
      ]
     },
     "metadata": {
      "needs_background": "light"
     },
     "output_type": "display_data"
    }
   ],
   "source": [
    "plt.subplot(1, 3, 1)\n",
    "plt.plot(p_values, '.')\n",
    "plt.title('p-values from 500 tests')\n",
    "\n",
    "plt.subplot(1, 3, 2)\n",
    "plt.hist(p_values, bins=50, histtype='stepfilled', align='mid', normed=True)\n",
    "plt.title('Distribution of p-values')\n",
    "\n",
    "plt.subplot(1, 3, 3)\n",
    "probplot(p_values, dist='uniform', plot=plt)\n",
    "plt.title('Cumulative distribution of p-values');"
   ]
  },
  {
   "cell_type": "code",
   "execution_count": 21,
   "metadata": {},
   "outputs": [
    {
     "data": {
      "text/plain": [
       "0.9388368666525109"
      ]
     },
     "execution_count": 21,
     "metadata": {},
     "output_type": "execute_result"
    }
   ],
   "source": [
    "_, pval_ks = kstest(p_values, cdf='uniform')\n",
    "pval_ks"
   ]
  },
  {
   "cell_type": "markdown",
   "metadata": {},
   "source": [
    "- This p-value is rather large, but at the $\\alpha=5\\%$ level does not give reason to reject the null-hypothesis that the p-values from the $\\chi^2$-tests are uniformly distributed on $[0, 1]$\n",
    "- We thus trust our code"
   ]
  }
 ],
 "metadata": {
  "kernelspec": {
   "display_name": "Python 3",
   "language": "python",
   "name": "python3"
  },
  "language_info": {
   "codemirror_mode": {
    "name": "ipython",
    "version": 3
   },
   "file_extension": ".py",
   "mimetype": "text/x-python",
   "name": "python",
   "nbconvert_exporter": "python",
   "pygments_lexer": "ipython3",
   "version": "3.6.7"
  }
 },
 "nbformat": 4,
 "nbformat_minor": 2
}
