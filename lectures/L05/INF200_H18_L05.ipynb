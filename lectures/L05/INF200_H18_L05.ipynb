{
 "cells": [
  {
   "cell_type": "markdown",
   "metadata": {},
   "source": [
    "# INF200 Lecture No 5\n",
    "\n",
    "### 15 October 2018\n",
    "\n",
    "\n",
    "## Today's topic: Object-oriented Programming\n",
    "\n",
    "- Introduction EX04—See [course wiki](https://bitbucket.org/heplesser/nmbu_inf200_h18/wiki/Exercise%2004)\n",
    "- Repetition: Principles and Terminology\n",
    "- Some examples\n",
    "- Consistent construction: parameter checks\n",
    "- Names, Namespaces, and Scopes\n",
    "- Inheritance (subclassing)\n",
    "- Copying objects\n",
    "- Defining new data types\n"
   ]
  },
  {
   "cell_type": "markdown",
   "metadata": {},
   "source": [
    "## Object-oriented programming\n",
    "\n",
    "### Principle ideas\n",
    "\n",
    "#### Idea 1: Combine data and operations into new data types\n",
    "\n",
    "#### Idea 2: Allow modification and extension of data types\n",
    "\n",
    "#### Idea 3: Expose an interface, hide the implementation\n",
    "\n",
    "### Key techniques\n",
    "\n",
    "#### Classes\n",
    "User-defined data types\n",
    "\n",
    "#### Inheritance\n",
    "Create specialized classes from general ones\n",
    "\n",
    "#### Encapsulation\n",
    "Hide details from the outside world\n",
    "\n",
    "#### Polymorphism\n",
    "Use the same operations on objects of different classes\n",
    "\n",
    "### Terminology\n",
    "\n",
    "#### Data type\n",
    "A set of rules specifying\n",
    "- how to interpret chunks of data (bits and bytes) in computer memory\n",
    "- what operations are permitted on this data (syntax/grammar)\n",
    "- what these operations do (semantics/meaning)\n",
    "\n",
    "#### Object\n",
    "A chunk of data at a given address in computer memory with a data type. An object can be created, destroyed, and possibly modified.\n",
    "\n",
    "#### Class\n",
    "A class is a (user-defined) data type. The class definition specifies\n",
    "- which data an object of the class contains\n",
    "- which operations may be performed on objects of the class\n",
    "\n",
    "#### Instance\n",
    "An instance of a class is an object that has the class as its data type.\n",
    "\n",
    "#### Method (member function)\n",
    "Functions defined in a class which operate on objects of the class are *methods* of the class.\n",
    "\n",
    "#### Data attribute (member variable, data member, field)\n",
    "Variables that are part of instances of a class, i.e., which contain the data in an object, are calles *data attributes*.\n",
    "\n",
    "### Defining a class\n",
    "\n",
    "```python\n",
    "class ClassName:\n",
    "    \"\"\"\n",
    "    Class documentation.\n",
    "    \"\"\"\n",
    "    \n",
    "    # class body\n",
    " ```\n",
    "\n",
    "#### Definition\n",
    "- Defines new class as data type\n",
    "- Class names begin with capital letter and use camel-casing\n",
    "- Docstring should describe overall purpose of class\n",
    "- The new class is itself an object of data type `type`\n",
    "\n",
    "#### Creating an instance\n",
    "```python\n",
    "obj = ClassName()\n",
    "```\n",
    "\n",
    "#### Destroying an instance\n",
    "Handled automatically by Python's garbage collection mechanism when no references left.\n"
   ]
  },
  {
   "cell_type": "markdown",
   "metadata": {},
   "source": [
    "### Example: Circles and Rectangles"
   ]
  },
  {
   "cell_type": "code",
   "execution_count": 1,
   "metadata": {
    "collapsed": true
   },
   "outputs": [],
   "source": [
    "import math\n",
    "\n",
    "class Circle:\n",
    "    def __init__(self, center, radius):\n",
    "        self.ctr = center\n",
    "        self.rad = radius\n",
    "        \n",
    "    def area(self):\n",
    "        return math.pi * self.rad**2\n",
    "    \n",
    "class Rectangle:\n",
    "    def __init__(self, lower_left, upper_right):\n",
    "        self.ll = lower_left\n",
    "        self.ur = upper_right\n",
    "        \n",
    "    def area(self):\n",
    "        return (self.ur[0] - self.ll[0]) * (self.ur[1] - self.ll[1])"
   ]
  },
  {
   "cell_type": "code",
   "execution_count": 2,
   "metadata": {},
   "outputs": [
    {
     "name": "stdout",
     "output_type": "stream",
     "text": [
      "314.1592653589793\n",
      "78.53981633974483\n",
      "3.75\n"
     ]
    }
   ],
   "source": [
    "shapes = [Circle((0, 0), 10), Circle((1, 1), 5), Rectangle((0.5, 0.5), (3, 2))]\n",
    "for shape in shapes:\n",
    "    print(shape.area())"
   ]
  },
  {
   "cell_type": "markdown",
   "metadata": {},
   "source": [
    "[Code on Pythontutor](http://www.pythontutor.com/visualize.html#code=import%20math%0A%0Aclass%20Circle%3A%0A%20%20%20%20def%20__init__%28self,%20center,%20radius%29%3A%0A%20%20%20%20%20%20%20%20self.ctr%20%3D%20center%0A%20%20%20%20%20%20%20%20self.rad%20%3D%20radius%0A%20%20%20%20%20%20%20%20%0A%20%20%20%20def%20area%28self%29%3A%0A%20%20%20%20%20%20%20%20return%20math.pi%20*%20self.rad**2%0A%20%20%20%20%0Aclass%20Rectangle%3A%0A%20%20%20%20def%20__init__%28self,%20lower_left,%20upper_right%29%3A%0A%20%20%20%20%20%20%20%20self.ll%20%3D%20lower_left%0A%20%20%20%20%20%20%20%20self.ur%20%3D%20upper_right%0A%20%20%20%20%20%20%20%20%0A%20%20%20%20def%20area%28self%29%3A%0A%20%20%20%20%20%20%20%20return%20%28self.ur%5B0%5D%20-%20self.ll%5B0%5D%29%20*%20%28self.ur%5B1%5D%20-%20self.ll%5B1%5D%29%0A%20%20%20%20%20%20%20%20%0Ashapes%20%3D%20%5BCircle%28%280,%200%29,%2010%29,%20Circle%28%281,%201%29,%205%29,%20Rectangle%28%280.5,%200.5%29,%20%283,%202%29%29%5D%0Afor%20shape%20in%20shapes%3A%0A%20%20%20%20print%28shape.area%28%29%29%0A%20%20%20%20&cumulative=false&curInstr=0&heapPrimitives=false&mode=display&origin=opt-frontend.js&py=3&rawInputLstJSON=%5B%5D&textReferences=false)"
   ]
  },
  {
   "cell_type": "markdown",
   "metadata": {},
   "source": [
    "## Example: Expose interface, hide implementation\n",
    "\n",
    "- Different implementation of `Rectangle` with same behavior"
   ]
  },
  {
   "cell_type": "code",
   "execution_count": 3,
   "metadata": {
    "collapsed": true
   },
   "outputs": [],
   "source": [
    "class Rectangle:\n",
    "    def __init__(self, lower_left, upper_right):\n",
    "        self.width = upper_right[0] - lower_left[0]\n",
    "        self.height = upper_right[1] - lower_left[1]\n",
    "        \n",
    "    def area(self):\n",
    "        return self.width * self.height"
   ]
  },
  {
   "cell_type": "code",
   "execution_count": 4,
   "metadata": {},
   "outputs": [
    {
     "name": "stdout",
     "output_type": "stream",
     "text": [
      "314.1592653589793\n",
      "78.53981633974483\n",
      "3.75\n"
     ]
    }
   ],
   "source": [
    "shapes = [Circle((0, 0), 10), Circle((1, 1), 5), Rectangle((0.5, 0.5), (3, 2))]\n",
    "for shape in shapes:\n",
    "    print(shape.area())"
   ]
  },
  {
   "cell_type": "markdown",
   "metadata": {},
   "source": [
    "- Same interface\n",
    "    - Same member functions\n",
    "    - Member functions take same arguments \n",
    "    - Member functions behave the same\n",
    "- Different implementation\n",
    "    - width and height vs corner coordinates\n",
    "    \n",
    "### \"Hiding\" internal attributes\n",
    "\n",
    "- Code using our class should only use the *interface*\n",
    "- We should attempt to change interface as little as possible\n",
    "- Need to tell class users what is interface, what implementation\n",
    "- Many OO languages (C++, Java, ...)\n",
    "    - *private* members\n",
    "    - only accessible from methods of the class\n",
    "    - strictly enforced by compiler\n",
    "- Python\n",
    "    - no enforced privacy\n",
    "    - convention: member names beginning with `_` indicate implementation details\n",
    "    - are accessible, but class user has been warned\n",
    "    - \"`_abc` may disappear or change its meaning at any time, snoop around at your own risk\"\n",
    "    \n",
    "#### Same class with \"hidden\" details"
   ]
  },
  {
   "cell_type": "code",
   "execution_count": 5,
   "metadata": {
    "collapsed": true
   },
   "outputs": [],
   "source": [
    "class Rectangle:\n",
    "    def __init__(self, lower_left, upper_right):\n",
    "        self._width = upper_right[0] - lower_left[0]\n",
    "        self._height = upper_right[1] - lower_left[1]\n",
    "        \n",
    "    def area(self):\n",
    "        return self._width * self._height"
   ]
  },
  {
   "cell_type": "markdown",
   "metadata": {},
   "source": [
    "## Consistent construction: parameter checks\n",
    "\n",
    "- Constructors should ensure that constructed object is *consistent*\n",
    "- Analyse what is required for consistency!\n",
    "- Implement checks on parameters and raise exceptions if necessary!\n",
    "- Avoid side-effects by partially constructed objects (e.g. creating files)"
   ]
  },
  {
   "cell_type": "code",
   "execution_count": 6,
   "metadata": {
    "collapsed": true
   },
   "outputs": [],
   "source": [
    "class Circle:\n",
    "    def __init__(self, center, radius):\n",
    "        if radius < 0:\n",
    "            raise ValueError('Positive radius required.')\n",
    "        self._ctr = center\n",
    "        self._rad = radius\n",
    "        \n",
    "    def area(self):\n",
    "        return math.pi * self._rad**2"
   ]
  },
  {
   "cell_type": "markdown",
   "metadata": {},
   "source": [
    "## Names, Namespaces, and Scopes\n",
    "\n",
    "### Why worry about names?\n",
    "\n",
    "1. Programs execute functions to manipulate data.\n",
    "1. Data and functions are stored as sequences of bits in memory.\n",
    "1. We need *names* to refer to data and functions in our programs.\n",
    "1. In large programs\n",
    "    - the same name may be used or different purposes in different places\n",
    "    - it is impossible to keep an overview over all names\n",
    "    - E.g.: what do you get if you run `from xyz import *`?\n",
    "1. Solution: *namespaces* and *scoping rules*\n",
    "\n",
    "#### Namespaces (navnerom)\n",
    "Namespaces help to keep names organized.\n",
    "\n",
    "#### Scoping rules (regler for gyldighetsområder)\n",
    "Scoping rules define which namespace applies in each part of a program.\n",
    "\n",
    "### How do we bind names to objects in Python?\n",
    "\n",
    "Operation  |  Example  | Name bound\n",
    ":- | :- | -\n",
    "Assignment | `x = 2`| `x`\n",
    "Function definition | `def f(): pass` | `f`\n",
    "Class definition | `class A: pass`  | `A`\n",
    "Module import | `import math` | `math`\n",
    " | `import math as m` | `m` \n",
    " | `from math import sin` | `sin` \n",
    "\n",
    "[Code on Pythontutor](http://www.pythontutor.com/visualize.html#code=x%20%3D%202%0A%0Adef%20f%28%29%3A%0A%20%20%20%20pass%0A%0Aclass%20A%3A%0A%20%20%20%20pass%0A%0Aimport%20math%0Aimport%20math%20as%20m%0Afrom%20math%20import%20sin%0A&cumulative=false&curInstr=0&heapPrimitives=false&mode=display&origin=opt-frontend.js&py=3&rawInputLstJSON=%5B%5D&textReferences=false)\n",
    "\n",
    "#### Definitions are statements\n",
    "\n",
    "Definitions are statements in Python programs. They are executed just as all other statements."
   ]
  },
  {
   "cell_type": "markdown",
   "metadata": {},
   "source": [
    "### Where are names bound?\n",
    "\n",
    "<img src=\"../Figures/L05_NamesBound.png\" width=\"60%\">\n",
    "\n",
    "[Code on Pythontutor](http://www.pythontutor.com/visualize.html#code=class%20Friend%3A%0A%20%20%20%20%0A%20%20%20%20greeting%20%3D%20'Hi,%20'%0A%20%20%20%20%0A%20%20%20%20def%20__init__%28self,%20name%29%3A%0A%20%20%20%20%20%20%20%20self.name%20%3D%20name%0A%20%20%20%20%20%20%20%20%0A%20%20%20%20def%20greet%28self%29%3A%0A%20%20%20%20%20%20%20%20text%20%3D%20Friend.greeting%20%2B%20self.name%0A%20%20%20%20%20%20%20%20print%28text%29%0A%20%20%20%20%20%20%20%20%0Ajoe%20%3D%20Friend%28'Joe'%29%0Ajoe.greet%28%29%0A&cumulative=false&curInstr=0&heapPrimitives=false&mode=display&origin=opt-frontend.js&py=3&rawInputLstJSON=%5B%5D&textReferences=false)"
   ]
  },
  {
   "cell_type": "markdown",
   "metadata": {},
   "source": [
    "### Name-binding rules\n",
    "\n",
    "- When a name is bound, it is registered in *exactly one namespace*\n",
    "- Available namespaces\n",
    "    - `__builtin__` namespace of Python interepreter\n",
    "    - each module has a namespace (each imported `*.py` file)\n",
    "    - each class has a namespace\n",
    "    - each class *instance* has a namespace\n",
    "    - each function *invocation* has a namespace\n",
    "- In which namespace is a name registered?\n",
    "    - In the namespace of the *innermost scope*\n",
    "    - Inside a list comprehension: in the comprehension's namespace (Python 3)\n",
    "    - Inside function definitions: in the function invocation's namespace\n",
    "    - Inside class definitions: in the class' namespace\n",
    "    - Otherwise, in the module's namespace\n",
    "\n",
    "[Code on Pythontutor](http://pythontutor.com/visualize.html#code=def%20factorial%28n%29%3A%0A%20%20%20%20if%20n%20%3C%3D%201%3A%0A%20%20%20%20%20%20%20%20res%20%3D%201%0A%20%20%20%20else%3A%0A%20%20%20%20%20%20%20%20res%20%3D%20n%20*%20factorial%28n-1%29%0A%20%20%20%20return%20res%0A%20%20%20%20%20%20%20%20%0Aprint%28factorial%283%29%29%0A&cumulative=false&curInstr=0&heapPrimitives=false&mode=display&origin=opt-frontend.js&py=3&rawInputLstJSON=%5B%5D&textReferences=false)"
   ]
  },
  {
   "cell_type": "markdown",
   "metadata": {},
   "source": [
    "### Where are names looked up?\n",
    "\n",
    "<img src=\"../Figures/L05_NamesLookup.png\" width=\"60%\">"
   ]
  },
  {
   "cell_type": "markdown",
   "metadata": {},
   "source": [
    "### Name-lookup rules\n",
    "\n",
    "- When we use a name, Python must loop up the name and find the object it refers to\n",
    "- In which namespace does Python look?\n",
    "- **LEGB rule** (Mark Lutz, *Learning Python*)\n",
    "    - **L—Local:** Namespace of the function invocation currently executing\n",
    "    - **E—Enclosing:** Namespaces of all functions enclosing the definition of the current function (ignore for now)\n",
    "    - **G—Global:** Namespace of module in which the current function *was defined*\n",
    "    - **B—Builtin:** Namespace of Python builtins\n",
    "- Exceptions can be forced with `global` and `nonlocal` keywords (avoid for now)\n",
    "\n",
    "### Attribute lookup with \"dot\"\n",
    "\n",
    "- Modules, classes, and instances have attributes\n",
    "- Attribute names are bound inside module, class, instancance namespace\n",
    "- Accessible through the dot-operator:"
   ]
  },
  {
   "cell_type": "code",
   "execution_count": 1,
   "metadata": {},
   "outputs": [
    {
     "name": "stdout",
     "output_type": "stream",
     "text": [
      "Joe\n"
     ]
    }
   ],
   "source": [
    "class Friend:\n",
    "    \n",
    "    greeting = 'Hi, '\n",
    "    \n",
    "    def __init__(self, name):\n",
    "        self.name = name\n",
    "        \n",
    "    def greet(self):\n",
    "        text = Friend.greeting + self.name\n",
    "        print(text)\n",
    "        \n",
    "joe = Friend('Joe')\n",
    "print(joe.name)"
   ]
  },
  {
   "cell_type": "code",
   "execution_count": 2,
   "metadata": {},
   "outputs": [
    {
     "name": "stdout",
     "output_type": "stream",
     "text": [
      "Hi, Joe Doe\n"
     ]
    }
   ],
   "source": [
    "joe.name = 'Joe Doe'\n",
    "joe.greet()"
   ]
  },
  {
   "cell_type": "code",
   "execution_count": 3,
   "metadata": {},
   "outputs": [
    {
     "name": "stdout",
     "output_type": "stream",
     "text": [
      "Hello, Joe Doe\n"
     ]
    }
   ],
   "source": [
    "Friend.greeting = 'Hello, '\n",
    "joe.greet()"
   ]
  },
  {
   "cell_type": "markdown",
   "metadata": {},
   "source": [
    "### Attribute lookup in instances vs classes\n",
    "\n",
    "<img src=\"../Figures/L05_NamesInstanceClass.png\" width=\"45%\">"
   ]
  },
  {
   "cell_type": "markdown",
   "metadata": {},
   "source": [
    "### Pitfall: Duplicate attribute names\n",
    "\n",
    "- Python uses the same namespace for methods and data attributes\n",
    "- Names are looked up in the instance namespace first, then in the class namespace\n",
    "- This may lead to surprises when using the same name in multiple places"
   ]
  },
  {
   "cell_type": "code",
   "execution_count": 10,
   "metadata": {
    "collapsed": true
   },
   "outputs": [],
   "source": [
    "class Friend:\n",
    "    def __init__(self, name):\n",
    "        self.name = name\n",
    "    def greet(self):\n",
    "        print('Hi,', self.name)\n",
    "    def name(self):\n",
    "        print('Your name is', self.name)"
   ]
  },
  {
   "cell_type": "code",
   "execution_count": 11,
   "metadata": {},
   "outputs": [
    {
     "name": "stdout",
     "output_type": "stream",
     "text": [
      "Hi, Joe\n"
     ]
    }
   ],
   "source": [
    "joe = Friend('Joe')\n",
    "joe.greet()"
   ]
  },
  {
   "cell_type": "code",
   "execution_count": 12,
   "metadata": {},
   "outputs": [
    {
     "ename": "TypeError",
     "evalue": "'str' object is not callable",
     "output_type": "error",
     "traceback": [
      "\u001b[0;31m---------------------------------------------------------------------------\u001b[0m",
      "\u001b[0;31mTypeError\u001b[0m                                 Traceback (most recent call last)",
      "\u001b[0;32m<ipython-input-12-eacbde143a12>\u001b[0m in \u001b[0;36m<module>\u001b[0;34m\u001b[0m\n\u001b[0;32m----> 1\u001b[0;31m \u001b[0mjoe\u001b[0m\u001b[0;34m.\u001b[0m\u001b[0mname\u001b[0m\u001b[0;34m(\u001b[0m\u001b[0;34m)\u001b[0m\u001b[0;34m\u001b[0m\u001b[0m\n\u001b[0m",
      "\u001b[0;31mTypeError\u001b[0m: 'str' object is not callable"
     ]
    }
   ],
   "source": [
    "joe.name()"
   ]
  },
  {
   "cell_type": "markdown",
   "metadata": {},
   "source": [
    "[Code on Pythontutor](http://www.pythontutor.com/visualize.html#code=class%20Friend%3A%0A%20%20%20%20def%20__init__%28self,%20name%29%3A%0A%20%20%20%20%20%20%20%20self.name%20%3D%20name%0A%20%20%20%20def%20greet%28self%29%3A%0A%20%20%20%20%20%20%20%20print%28'Hi,',%20self.name%29%0A%20%20%20%20def%20name%28self%29%3A%0A%20%20%20%20%20%20%20%20print%28'Your%20name%20is',%20self.name%29%0A%20%20%20%20%20%20%20%20%0Ajoe%20%3D%20Friend%28'Joe'%29%0Ajoe.greet%28%29%0Ajoe.name%28%29&cumulative=false&curInstr=0&heapPrimitives=false&mode=display&origin=opt-frontend.js&py=3&rawInputLstJSON=%5B%5D&textReferences=false)"
   ]
  },
  {
   "cell_type": "markdown",
   "metadata": {},
   "source": [
    "## Inheritance (subclassing)\n",
    "\n",
    "- Define a class covering the general case\n",
    "- Specialise into subclasses for specific cases\n",
    "- Essential in languages such as C++ and Java\n",
    "    - Containers such as lists, arrays, etc can only contain pointers to objects derived from the same base class\n",
    "- Useful in Python\n",
    "\n",
    "### Example: Modifying and extending a data type\n",
    "\n",
    "#### Base class"
   ]
  },
  {
   "cell_type": "code",
   "execution_count": 13,
   "metadata": {
    "collapsed": true
   },
   "outputs": [],
   "source": [
    "class Member:\n",
    "    def __init__(self, name, number):\n",
    "        self.name = name\n",
    "        self.number = number\n",
    "    \n",
    "    def display(self):\n",
    "        print('Member: {0.name} (#{0.number})'.format(self))        "
   ]
  },
  {
   "cell_type": "markdown",
   "metadata": {},
   "source": [
    "#### Subclass"
   ]
  },
  {
   "cell_type": "code",
   "execution_count": 14,
   "metadata": {
    "collapsed": true
   },
   "outputs": [],
   "source": [
    "class Officer(Member):\n",
    "    def __init__(self, name, number, rank):\n",
    "        super().__init__(name, number)\n",
    "        self.rank = rank\n",
    "\n",
    "    def display(self):\n",
    "        print('{0.rank}: {0.name} (#{0.number})'.format(self))"
   ]
  },
  {
   "cell_type": "code",
   "execution_count": 15,
   "metadata": {},
   "outputs": [
    {
     "name": "stdout",
     "output_type": "stream",
     "text": [
      "President: Joe (#1)\n",
      "Treasurer: Jane (#2)\n",
      "Member: Jack (#3)\n"
     ]
    }
   ],
   "source": [
    "club = [Officer('Joe', 1, 'President'),\n",
    "        Officer('Jane', 2, 'Treasurer'),\n",
    "        Member('Jack', 3,)]\n",
    "for person in club:\n",
    "    person.display()"
   ]
  },
  {
   "cell_type": "markdown",
   "metadata": {},
   "source": [
    "[Code on Pythontutor](http://www.pythontutor.com/visualize.html#code=class%20Member%3A%0A%20%20%20%20def%20__init__%28self,%20name,%20number%29%3A%0A%20%20%20%20%20%20%20%20self.name%20%3D%20name%0A%20%20%20%20%20%20%20%20self.number%20%3D%20number%0A%20%20%20%20%0A%20%20%20%20def%20display%28self%29%3A%0A%20%20%20%20%20%20%20%20print%28'Member%3A%20%7B0.name%7D%20%28%23%7B0.number%7D%29'.format%28self%29%29%20%20%20%20%20%20%20%20%0A%20%20%20%20%20%20%20%20%0Aclass%20Officer%28Member%29%3A%0A%20%20%20%20def%20__init__%28self,%20name,%20number,%20rank%29%3A%0A%20%20%20%20%20%20%20%20super%28%29.__init__%28name,%20number%29%0A%20%20%20%20%20%20%20%20self.rank%20%3D%20rank%0A%0A%20%20%20%20def%20display%28self%29%3A%0A%20%20%20%20%20%20%20%20print%28'%7B0.rank%7D%3A%20%7B0.name%7D%20%28%23%7B0.number%7D%29'.format%28self%29%29%0A%0Aclub%20%3D%20%5BOfficer%28'Joe',%201,%20'President'%29,%0A%20%20%20%20%20%20%20%20Officer%28'Jane',%202,%20'Treasurer'%29,%0A%20%20%20%20%20%20%20%20Member%28'Jack',%203,%29%5D%0Afor%20person%20in%20club%3A%0A%20%20%20%20person.display%28%29%0A%20%20%20%20&cumulative=false&curInstr=0&heapPrimitives=false&mode=display&origin=opt-frontend.js&py=3&rawInputLstJSON=%5B%5D&textReferences=false)"
   ]
  },
  {
   "cell_type": "markdown",
   "metadata": {},
   "source": [
    "### Terminology\n",
    "\n",
    "#### Inheritance (Subclassing)\n",
    "\n",
    "Creating a new class based on an existing class. The new class (subclass, derived class, daughter class) inherits the attributes of the existing class (superclass, base class, mother class).\n",
    "\n",
    "Inheritance typically reflects an *is-a*  relationship, while *has-a* relationships are expressed using attributes:\n",
    "- a tiger *is a* mammal\n",
    "- a friend *has a* name\n",
    "\n",
    "#### Defining subclasses\n",
    "\n",
    "```python\n",
    "class SubClassName(SuperClass):\n",
    "    \"\"\"Subclass documentation.\"\"\"\n",
    "    \n",
    "    # body\n",
    "```\n",
    "\n",
    "#### Subclass instantiation\n",
    "\n",
    "```python\n",
    "obj = SubClassName()\n",
    "```\n",
    "\n",
    "- All methods defined in the superclass are available in the subclass\n",
    "- The subclass can redefine any inherited method\n",
    "- The subclass can define new methods and add new attributes"
   ]
  },
  {
   "cell_type": "markdown",
   "metadata": {},
   "source": [
    "### Constructors for subclasses\n",
    "\n",
    "- Subclass constructor must initialize the attributes of the superclass\n",
    "- Most easily done by calling constructor of the superclass\n",
    "- Function `super()` provides access to superclass (slightly more complicated in Python 2)"
   ]
  },
  {
   "cell_type": "code",
   "execution_count": 16,
   "metadata": {
    "collapsed": true
   },
   "outputs": [],
   "source": [
    "class Officer(Member):\n",
    "    def __init__(self, name, number, rank):\n",
    "        super().__init__(name, number)\n",
    "        self.rank = rank\n",
    "\n",
    "    def display(self):\n",
    "        print('{0.rank}: {0.name} (#{0.number})'.format(self))"
   ]
  },
  {
   "cell_type": "markdown",
   "metadata": {},
   "source": [
    "### Subclasses of subclasses of ...\n",
    "\n",
    "- We can derive subclasses of any class\n",
    "- In principle, arbitrarily deep class hierarchies possible\n",
    "- In practice, keep hierarchies shallow!\n",
    "- All classes derive from built-in class `object` in the end\n",
    "- `__base__` attribute shows base class"
   ]
  },
  {
   "cell_type": "code",
   "execution_count": 17,
   "metadata": {},
   "outputs": [
    {
     "name": "stdout",
     "output_type": "stream",
     "text": [
      "<class 'object'>\n"
     ]
    }
   ],
   "source": [
    "print(Member.__base__)"
   ]
  },
  {
   "cell_type": "code",
   "execution_count": 18,
   "metadata": {},
   "outputs": [
    {
     "name": "stdout",
     "output_type": "stream",
     "text": [
      "<class '__main__.Member'>\n"
     ]
    }
   ],
   "source": [
    "print(Officer.__base__)"
   ]
  },
  {
   "cell_type": "code",
   "execution_count": 19,
   "metadata": {},
   "outputs": [
    {
     "name": "stdout",
     "output_type": "stream",
     "text": [
      "None\n"
     ]
    }
   ],
   "source": [
    "print(object.__base__)"
   ]
  },
  {
   "cell_type": "markdown",
   "metadata": {},
   "source": [
    "- `object` has no base class, it is the root of the class hierarchy."
   ]
  },
  {
   "cell_type": "markdown",
   "metadata": {},
   "source": [
    "#### Who gets called when?—Method resolution order\n",
    "\n",
    "Define three classes `A > B > C` where each subclass redefines one method."
   ]
  },
  {
   "cell_type": "code",
   "execution_count": 20,
   "metadata": {},
   "outputs": [],
   "source": [
    "class A:\n",
    "    def f(self): return 'A.f()'\n",
    "    def g(self): return 'A.g()'\n",
    "    def h(self): return 'A.h()'\n",
    "    \n",
    "class B(A):\n",
    "    def f(self): return 'B.f()'\n",
    "\n",
    "class C(B):\n",
    "    def g(self): return 'C.g()'"
   ]
  },
  {
   "cell_type": "markdown",
   "metadata": {},
   "source": [
    "[Code on Pythontutor](http://www.pythontutor.com/visualize.html#code=class%20A%3A%0A%20%20%20%20def%20f%28self%29%3A%20return%20'A.f%28%29'%0A%20%20%20%20def%20g%28self%29%3A%20return%20'A.g%28%29'%0A%20%20%20%20def%20h%28self%29%3A%20return%20'A.h%28%29'%0A%20%20%20%20%0Aclass%20B%28A%29%3A%0A%20%20%20%20def%20f%28self%29%3A%20return%20'B.f%28%29'%0A%0Aclass%20C%28B%29%3A%0A%20%20%20%20def%20g%28self%29%3A%20return%20'C.g%28%29'%0A%20%20%20%20%0Aa%20%3D%20A%28%29%0Ab%20%3D%20B%28%29%0Ac%20%3D%20C%28%29%0A%0Aprint%28a.f%28%29,%20a.g%28%29,%20a.h%28%29%29%0Aprint%28b.f%28%29,%20b.g%28%29,%20b.h%28%29%29%0Aprint%28c.f%28%29,%20c.g%28%29,%20c.h%28%29%29&cumulative=false&curInstr=0&heapPrimitives=false&mode=display&origin=opt-frontend.js&py=3&rawInputLstJSON=%5B%5D&textReferences=false)"
   ]
  },
  {
   "cell_type": "markdown",
   "metadata": {},
   "source": [
    "Create one instance per class."
   ]
  },
  {
   "cell_type": "code",
   "execution_count": 21,
   "metadata": {
    "collapsed": true
   },
   "outputs": [],
   "source": [
    "a = A()\n",
    "b = B()\n",
    "c = C()"
   ]
  },
  {
   "cell_type": "markdown",
   "metadata": {},
   "source": [
    "Call methods on `A` instance"
   ]
  },
  {
   "cell_type": "code",
   "execution_count": 22,
   "metadata": {},
   "outputs": [
    {
     "name": "stdout",
     "output_type": "stream",
     "text": [
      "A.f() A.g() A.h()\n"
     ]
    }
   ],
   "source": [
    "print(a.f(), a.g(), a.h())"
   ]
  },
  {
   "cell_type": "markdown",
   "metadata": {},
   "source": [
    "Call methods on `B` instance"
   ]
  },
  {
   "cell_type": "code",
   "execution_count": 23,
   "metadata": {},
   "outputs": [
    {
     "name": "stdout",
     "output_type": "stream",
     "text": [
      "B.f() A.g() A.h()\n"
     ]
    }
   ],
   "source": [
    "print(b.f(), b.g(), b.h())"
   ]
  },
  {
   "cell_type": "markdown",
   "metadata": {},
   "source": [
    "Call methods on `C` instance"
   ]
  },
  {
   "cell_type": "code",
   "execution_count": 24,
   "metadata": {},
   "outputs": [
    {
     "name": "stdout",
     "output_type": "stream",
     "text": [
      "B.f() C.g() A.h()\n"
     ]
    }
   ],
   "source": [
    "print(c.f(), c.g(), c.h())"
   ]
  },
  {
   "cell_type": "markdown",
   "metadata": {},
   "source": [
    "- Methods are looked up from bottom and up\n",
    "    1. instance\n",
    "    1. class\n",
    "    1. superclasses in ascending order\n",
    "    1. `object`\n",
    "- Lookup order is available as attribute `__mro__` (method resolution order)"
   ]
  },
  {
   "cell_type": "code",
   "execution_count": 25,
   "metadata": {},
   "outputs": [
    {
     "data": {
      "text/plain": [
       "(__main__.A, object)"
      ]
     },
     "execution_count": 25,
     "metadata": {},
     "output_type": "execute_result"
    }
   ],
   "source": [
    "A.__mro__"
   ]
  },
  {
   "cell_type": "code",
   "execution_count": 26,
   "metadata": {},
   "outputs": [
    {
     "data": {
      "text/plain": [
       "(__main__.B, __main__.A, object)"
      ]
     },
     "execution_count": 26,
     "metadata": {},
     "output_type": "execute_result"
    }
   ],
   "source": [
    "B.__mro__"
   ]
  },
  {
   "cell_type": "code",
   "execution_count": 27,
   "metadata": {},
   "outputs": [
    {
     "data": {
      "text/plain": [
       "(__main__.C, __main__.B, __main__.A, object)"
      ]
     },
     "execution_count": 27,
     "metadata": {},
     "output_type": "execute_result"
    }
   ],
   "source": [
    "C.__mro__"
   ]
  },
  {
   "cell_type": "markdown",
   "metadata": {},
   "source": [
    "### Multiple inheritance\n",
    "\n",
    "- A class can inherit from more than one superclass\n",
    "- But not if this would lead to \"colliding\" method definitions"
   ]
  },
  {
   "cell_type": "code",
   "execution_count": 28,
   "metadata": {},
   "outputs": [
    {
     "ename": "TypeError",
     "evalue": "Cannot create a consistent method resolution\norder (MRO) for bases B, C",
     "output_type": "error",
     "traceback": [
      "\u001b[0;31m---------------------------------------------------------------------------\u001b[0m",
      "\u001b[0;31mTypeError\u001b[0m                                 Traceback (most recent call last)",
      "\u001b[0;32m<ipython-input-28-9bc1d3e0cbaf>\u001b[0m in \u001b[0;36m<module>\u001b[0;34m\u001b[0m\n\u001b[0;32m----> 1\u001b[0;31m \u001b[0;32mclass\u001b[0m \u001b[0mD\u001b[0m\u001b[0;34m(\u001b[0m\u001b[0mB\u001b[0m\u001b[0;34m,\u001b[0m \u001b[0mC\u001b[0m\u001b[0;34m)\u001b[0m\u001b[0;34m:\u001b[0m\u001b[0;34m\u001b[0m\u001b[0m\n\u001b[0m\u001b[1;32m      2\u001b[0m     \u001b[0;32mpass\u001b[0m\u001b[0;34m\u001b[0m\u001b[0m\n",
      "\u001b[0;31mTypeError\u001b[0m: Cannot create a consistent method resolution\norder (MRO) for bases B, C"
     ]
    }
   ],
   "source": [
    "class D(B, C):\n",
    "    pass"
   ]
  },
  {
   "cell_type": "markdown",
   "metadata": {},
   "source": [
    "#### Working example"
   ]
  },
  {
   "cell_type": "code",
   "execution_count": 29,
   "metadata": {
    "collapsed": true
   },
   "outputs": [],
   "source": [
    "class E:\n",
    "    def e(self): return 'E.e()'\n",
    "\n",
    "class F(B, E):\n",
    "    pass"
   ]
  },
  {
   "cell_type": "code",
   "execution_count": 30,
   "metadata": {},
   "outputs": [
    {
     "name": "stdout",
     "output_type": "stream",
     "text": [
      "B.f() E.e()\n"
     ]
    }
   ],
   "source": [
    "f = F()\n",
    "print(f.f(), f.e())"
   ]
  },
  {
   "cell_type": "markdown",
   "metadata": {},
   "source": [
    "- MRO tells us in which order methods are looked up"
   ]
  },
  {
   "cell_type": "code",
   "execution_count": 31,
   "metadata": {},
   "outputs": [
    {
     "data": {
      "text/plain": [
       "(__main__.F, __main__.B, __main__.A, __main__.E, object)"
      ]
     },
     "execution_count": 31,
     "metadata": {},
     "output_type": "execute_result"
    }
   ],
   "source": [
    "F.__mro__"
   ]
  },
  {
   "cell_type": "markdown",
   "metadata": {},
   "source": [
    "- Bottom-up and left-to-right when a class has multiple superclasses\n",
    "- Multiple inheritance can be useful for *mixing* different aspects, e.g., one class providing maths and one class providing graphics"
   ]
  },
  {
   "cell_type": "markdown",
   "metadata": {},
   "source": [
    "#### Diamond inheritance\n",
    "\n",
    "- Multiple inheritance where two (or more) superclasses have same base class\n",
    "- Python automatically sorts method resolution order so that\n",
    "    - no class appears twice\n",
    "    - subclasses always come before their superclasses\n",
    "    - `object` always comes last"
   ]
  },
  {
   "cell_type": "code",
   "execution_count": 32,
   "metadata": {},
   "outputs": [],
   "source": [
    "class Q(A):\n",
    "    def q(self): return('Q.q()')\n",
    "    \n",
    "class S(B, Q):\n",
    "    pass"
   ]
  },
  {
   "cell_type": "code",
   "execution_count": 33,
   "metadata": {},
   "outputs": [
    {
     "data": {
      "text/plain": [
       "(__main__.S, __main__.B, __main__.Q, __main__.A, object)"
      ]
     },
     "execution_count": 33,
     "metadata": {},
     "output_type": "execute_result"
    }
   ],
   "source": [
    "S.__mro__"
   ]
  },
  {
   "cell_type": "markdown",
   "metadata": {},
   "source": [
    "## Copying objects\n",
    "\n",
    "### Assignment only adds new name to existing object"
   ]
  },
  {
   "cell_type": "code",
   "execution_count": 34,
   "metadata": {},
   "outputs": [
    {
     "name": "stdout",
     "output_type": "stream",
     "text": [
      "20 20\n"
     ]
    }
   ],
   "source": [
    "class A:\n",
    "    pass\n",
    "a = A()\n",
    "a.x = 10\n",
    "b = a\n",
    "b.x = 20\n",
    "print(a.x, b.x)"
   ]
  },
  {
   "cell_type": "markdown",
   "metadata": {},
   "source": [
    "- `a` and `b` are two names for the same object\n",
    "- [Code on PythonTutor](http://www.pythontutor.com/visualize.html#code=class%20A%3A%0A%20%20%20%20pass%0Aa%20%3D%20A%28%29%0Aa.x%20%3D%2010%0Ab%20%3D%20a%0Ab.x%20%3D%2020%0Aprint%28a.x,%20b.x%29%0A&cumulative=false&curInstr=0&heapPrimitives=false&mode=display&origin=opt-frontend.js&py=3&rawInputLstJSON=%5B%5D&textReferences=false)"
   ]
  },
  {
   "cell_type": "markdown",
   "metadata": {},
   "source": [
    "### The Python `copy` module\n",
    "\n",
    "- `copy` provides functions for copying objects\n",
    "- [Code on PythonTutor](http://www.pythontutor.com/visualize.html#code=import%20copy%0Aclass%20A%3A%0A%20%20%20%20pass%0Aa%20%3D%20A%28%29%0Aa.x%20%3D%2010%0Ab%20%3D%20a%0Ab.x%20%3D%2020%0Ac%20%3D%20copy.copy%28a%29%0Ac.x%20%3D%2050%0Aprint%28a.x,%20b.x,%20c.x%29%0A&cumulative=false&curInstr=0&heapPrimitives=false&mode=display&origin=opt-frontend.js&py=3&rawInputLstJSON=%5B%5D&textReferences=false)"
   ]
  },
  {
   "cell_type": "code",
   "execution_count": 35,
   "metadata": {},
   "outputs": [
    {
     "name": "stdout",
     "output_type": "stream",
     "text": [
      "20 20 50\n"
     ]
    }
   ],
   "source": [
    "import copy\n",
    "c = copy.copy(a)\n",
    "c.x = 50\n",
    "print(a.x, b.x, c.x)"
   ]
  },
  {
   "cell_type": "markdown",
   "metadata": {},
   "source": [
    "#### Copying: Details"
   ]
  },
  {
   "cell_type": "code",
   "execution_count": 36,
   "metadata": {},
   "outputs": [
    {
     "name": "stdout",
     "output_type": "stream",
     "text": [
      "4400374336 4400374224\n",
      "4400267744 4400267744\n"
     ]
    }
   ],
   "source": [
    "class S:\n",
    "    pass\n",
    "\n",
    "s = S()\n",
    "s.m = 'Nice weather today.'\n",
    "t = copy.copy(s)\n",
    "print(id(s), id(t))\n",
    "print(id(s.m), id(t.m))"
   ]
  },
  {
   "cell_type": "markdown",
   "metadata": {},
   "source": [
    "- `s` and `t` have *different* `id()`: they are *different `S` instances*\n",
    "- `s.m` and `t.m` have the same `id()`: they are the *same string instance*\n",
    "- `copy.copy()` is a *shallow copy*: `t` is a new instance with its own namespace, but the names refer to the same objects as in `s`\n",
    "- Assignment to a member re-binds the name to a new string object"
   ]
  },
  {
   "cell_type": "code",
   "execution_count": 37,
   "metadata": {},
   "outputs": [
    {
     "name": "stdout",
     "output_type": "stream",
     "text": [
      "4400374336 4400374224\n",
      "4400267744 4400275944\n"
     ]
    }
   ],
   "source": [
    "t.m = 'The forecast for tomorrow is also nice.'\n",
    "print(id(s), id(t))\n",
    "print(id(s.m), id(t.m))"
   ]
  },
  {
   "cell_type": "markdown",
   "metadata": {},
   "source": [
    "- [Explore on PythonTutor](http://www.pythontutor.com/visualize.html#code=import%20copy%0Aclass%20S%28object%29%3A%0A%20%20%20%20pass%0A%0As%20%3D%20S%28%29%0As.m%20%3D%20'Nice%20weather%20today.'%0At%20%3D%20copy.copy%28s%29%0At.m%20%3D%20'The%20forecast%20for%20tomorrow%20is%20also%20nice.'%0A&cumulative=false&curInstr=0&heapPrimitives=true&mode=display&origin=opt-frontend.js&py=3&rawInputLstJSON=%5B%5D&textReferences=false)"
   ]
  },
  {
   "cell_type": "markdown",
   "metadata": {},
   "source": [
    "### Copying object with mutable members: deep copy\n",
    "\n",
    "- Mutables: lists, dictionaries, objects of most classes\n",
    "- What does shallow copy mean for objects with mutable members?"
   ]
  },
  {
   "cell_type": "code",
   "execution_count": 38,
   "metadata": {},
   "outputs": [
    {
     "name": "stdout",
     "output_type": "stream",
     "text": [
      "[1, 2, 3, 4] [1, 2, 3, 4]\n",
      "4395889416 4395889416\n"
     ]
    }
   ],
   "source": [
    "u = S()\n",
    "u.m = [1, 2, 3]\n",
    "v = copy.copy(u)\n",
    "u.m.append(4)\n",
    "print(u.m, v.m)\n",
    "print (id(u.m), id(v.m))"
   ]
  },
  {
   "cell_type": "markdown",
   "metadata": {},
   "source": [
    "- Lists are changed in *both* `u` and `v` because their `m` refers to the same list object\n",
    "- Solution: *deep copy*"
   ]
  },
  {
   "cell_type": "code",
   "execution_count": 39,
   "metadata": {},
   "outputs": [
    {
     "name": "stdout",
     "output_type": "stream",
     "text": [
      "[1, 2, 3, 4] [1, 2, 3, 4] [1, 2, 3, 4]\n",
      "4395889416 4395889416 4400285256\n"
     ]
    }
   ],
   "source": [
    "w = copy.deepcopy(u)\n",
    "print(u.m, v.m, w.m)\n",
    "print (id(u.m), id(v.m), id(w.m))"
   ]
  },
  {
   "cell_type": "markdown",
   "metadata": {},
   "source": [
    "- Note that `w.m` has a different `id`"
   ]
  },
  {
   "cell_type": "code",
   "execution_count": 40,
   "metadata": {},
   "outputs": [
    {
     "name": "stdout",
     "output_type": "stream",
     "text": [
      "[1, 2, 3, 4] [1, 2, 3, 4] [1, 2, 3, 4, 5]\n"
     ]
    }
   ],
   "source": [
    "w.m.append(5)\n",
    "print(u.m, v.m, w.m)"
   ]
  },
  {
   "cell_type": "markdown",
   "metadata": {},
   "source": [
    "- Since `w.m` is a different list instance, `u.m` and `v.m` are not changed\n",
    "- [Explore on PythonTutor](http://www.pythontutor.com/visualize.html#code=import%20copy%0A%0Aclass%20S%28object%29%3A%0A%20%20%20%20pass%0A%0Au%20%3D%20S%28%29%0Au.m%20%3D%20%5B1,%202,%203%5D%0A%0Av%20%3D%20copy.copy%28u%29%0Au.m.append%284%29%0A%0Aw%20%3D%20copy.deepcopy%28u%29%0Aw.m.append%285%29%0A&cumulative=false&curInstr=0&heapPrimitives=false&mode=display&origin=opt-frontend.js&py=3&rawInputLstJSON=%5B%5D&textReferences=false)\n",
    "- `copy.deepcopy()` also works for classes we write ourselves"
   ]
  },
  {
   "cell_type": "code",
   "execution_count": 41,
   "metadata": {},
   "outputs": [
    {
     "name": "stdout",
     "output_type": "stream",
     "text": [
      "10 10 20\n"
     ]
    }
   ],
   "source": [
    "class V:\n",
    "    def __init__(self, x, y):\n",
    "        self.x, self.y = x, y\n",
    "        \n",
    "class C:\n",
    "    def __init__(self, ctr, r):\n",
    "        self.ctr, self.r = ctr, r\n",
    "        \n",
    "b = C(V(0, 0), 1)\n",
    "c = copy.copy(b)\n",
    "d = copy.deepcopy(b)\n",
    "\n",
    "c.ctr.x = 10\n",
    "d.ctr.x = 20\n",
    "\n",
    "print(b.ctr.x, c.ctr.x, d.ctr.x)"
   ]
  },
  {
   "cell_type": "markdown",
   "metadata": {},
   "source": [
    "**Forgetting the difference between shallow and deep copy is a common source of errors in Python programs!**"
   ]
  },
  {
   "cell_type": "markdown",
   "metadata": {},
   "source": [
    "## Defining new data types\n",
    "\n",
    "- OO Idea 1: Combine data and behavior into *new data types*\n",
    "- Problem: How to make our classes behave more like built-in data types\n",
    "    - nice printing\n",
    "    - comparison between instances (e.g., sorting `Member`s)\n",
    "    - mathematical operations (e.g., computing with vectors)\n",
    "- Solution: Operator overloading\n",
    "- See, e.g., Langtangen ch 7.3-7.5 (4th edition)\n",
    "- **Overloading**: Giving an operation a (new) meaning.\n",
    "\n",
    "### Overloading in Python\n",
    "\n",
    "- All classes inherit from `object` methods for\n",
    "    - initialization (constructor)\n",
    "    - string representation (printing)\n",
    "    - comparison (by `id`)\n",
    "    - etc\n",
    "- Operations are implemented by `__xxxxxx__()` methods\n",
    "- We can *overload* these functions to define behavior for our classes\n",
    "- First example: constructor `__init__()`\n",
    "\n",
    "#### Defining the string representation of objects"
   ]
  },
  {
   "cell_type": "code",
   "execution_count": 42,
   "metadata": {},
   "outputs": [
    {
     "name": "stdout",
     "output_type": "stream",
     "text": [
      "<__main__.Member object at 0x106486780> <__main__.Member object at 0x106486470>\n"
     ]
    }
   ],
   "source": [
    "class Member:\n",
    "    def __init__(self, name, number):\n",
    "        self.name, self.number = name, number\n",
    "\n",
    "    def display(self):\n",
    "        print(\"Member: {0.name} (#{0.number})\".format(self))\n",
    "        \n",
    "joe = Member('Joe', 123)\n",
    "jane = Member('Jane', 456)\n",
    "\n",
    "print(joe, jane)"
   ]
  },
  {
   "cell_type": "markdown",
   "metadata": {},
   "source": [
    "- Default string representation from `object`\n",
    "- Not useful\n",
    "- Add string representation methods `__str__()` and `__repr__()`"
   ]
  },
  {
   "cell_type": "code",
   "execution_count": 43,
   "metadata": {},
   "outputs": [
    {
     "name": "stdout",
     "output_type": "stream",
     "text": [
      "Member: Joe (#123)\n",
      "Member: Jane (#456)\n",
      "[Member('Joe', 123), Member('Jane', 456)]\n"
     ]
    }
   ],
   "source": [
    "class Member:\n",
    "    def __init__(self, name, number):\n",
    "        self.name, self.number = name, number\n",
    "        \n",
    "    def __str__(self):\n",
    "        return \"Member: {0.name} (#{0.number})\".format(self)\n",
    "\n",
    "    def __repr__(self):\n",
    "        return \"Member('{0.name}', {0.number})\".format(self)\n",
    "\n",
    "    def display(self):\n",
    "        print(\"Member: {0.name} (#{0.number})\".format(self))\n",
    "        \n",
    "joe = Member('Joe', 123)\n",
    "jane = Member('Jane', 456)\n",
    "\n",
    "print(joe)\n",
    "print(jane)\n",
    "print([joe, jane])"
   ]
  },
  {
   "cell_type": "markdown",
   "metadata": {},
   "source": [
    "- The two string representation methods:\n",
    "    - **`__str__()`**\n",
    "        - called by `print` and `str` it it exists\n",
    "        - should return \"user friendly\" display of instance\n",
    "    - **`__repr__()`**\n",
    "        - called in all other cases\n",
    "        - also called by `print` and `str` if\n",
    "            - `__str__()` is not defined\n",
    "            - the instance is part of a list, tuple or dictionary\n",
    "        - should return a string that can be used to recreate the object\n",
    "    - Both methods must return a string\n",
    "    - If you want to implement only one of the two, implement `__repr__()`\n",
    "- We can re-define the `display()` method in terms of `__str__()`\n",
    "    - Note that `print(self)` inside a method is equivalent to `print(self.__str__())`"
   ]
  },
  {
   "cell_type": "code",
   "execution_count": 44,
   "metadata": {
    "collapsed": true
   },
   "outputs": [],
   "source": [
    "class Member:\n",
    "    def __init__(self, name, number):\n",
    "        self.name, self.number = name, number\n",
    "        \n",
    "    def __str__(self):\n",
    "        return \"Member: {0.name} (#{0.number})\".format(self)\n",
    "\n",
    "    def __repr__(self):\n",
    "        return \"Member('{0.name}', {0.number})\".format(self)\n",
    "\n",
    "    def display(self):\n",
    "        print(self)"
   ]
  },
  {
   "cell_type": "markdown",
   "metadata": {},
   "source": [
    "- In subclasses, we now only need to override `__str__()` and `__repr__()`, but not `display()`"
   ]
  },
  {
   "cell_type": "code",
   "execution_count": 45,
   "metadata": {
    "collapsed": true
   },
   "outputs": [],
   "source": [
    "class Officer(Member):\n",
    "    def __init__(self, name, number, rank):\n",
    "        Member.__init__(self, name, number)\n",
    "        self.rank = rank\n",
    "\n",
    "    def __str__(self):\n",
    "        return \"{0.rank}: {0.name} (#{0.number})\".format(self)\n",
    "\n",
    "    def __repr__(self):\n",
    "        return \"Officer('{0.name}', {0.number}, '{0.rank}')\".format(self)\n",
    "\n",
    "jack = Officer('Jack', 789, 'President')"
   ]
  },
  {
   "cell_type": "code",
   "execution_count": 46,
   "metadata": {},
   "outputs": [
    {
     "name": "stdout",
     "output_type": "stream",
     "text": [
      "Members as list: [Member('Joe', 123), Member('Jane', 456), Officer('Jack', 789, 'President')]\n",
      "Member: Joe (#123)\n",
      "Member: Jane (#456)\n",
      "President: Jack (#789)\n"
     ]
    }
   ],
   "source": [
    "members = [joe, jane, jack]\n",
    "print(\"Members as list:\", members)\n",
    "for member in members:\n",
    "    member.display()"
   ]
  },
  {
   "cell_type": "markdown",
   "metadata": {},
   "source": [
    "### Overloading comparisons\n",
    "\n",
    "- `<`, `<=`, `>`, `>=`, '==', '!=' can be oveloaded by defining `__lt__`, `__le__`, `__gt__`, `__ge__`, `__eq__`, `__ne__`\n",
    "- `x < y` is equivalent to `x.__lt__(y)`\n",
    "- Shall return `True` or `False`\n",
    "- If comparisons are not defined for a class, comparison is inherited from `object`: compares `id`s\n",
    "\n",
    "#### Implement rich comparisons!\n",
    "- **Always implement all six comparison methods**\n",
    "- Implement `__eq__` and `__lt__` explicity, then the other four in terms of these two\n",
    "- Meaningless comparisons may return `NotImplemented`\n",
    "- Carefully think about the *semantics* (meaning) of comparison: how would a user interpret that a is smaller than b?"
   ]
  },
  {
   "cell_type": "markdown",
   "metadata": {},
   "source": [
    "#### Example\n",
    "\n",
    "- Class `A` does not have rich comparison (only `==` overloaded),\n",
    "- Class `B` has rich comparisons"
   ]
  },
  {
   "cell_type": "code",
   "execution_count": 47,
   "metadata": {
    "collapsed": true
   },
   "outputs": [],
   "source": [
    "class A:\n",
    "    # BAD example: only __eq__ is defined\n",
    "    def __init__(self, x): self._x = x\n",
    "\n",
    "    def __eq__(self, rhs): return self._x == rhs._x\n",
    "\n",
    "class B:\n",
    "    # GOOD example: all six comparisons are defined\n",
    "    def __init__(self, x): self._x = x\n",
    "\n",
    "    def __eq__(self, rhs): return self._x == rhs._x\n",
    "    def __lt__(self, rhs): return self._x < rhs._x\n",
    "\n",
    "    def __ne__(self, rhs): return not (self == rhs)\n",
    "    def __le__(self, rhs): return (self < rhs) or (self == rhs)\n",
    "    def __ge__(self, rhs): return not (self < rhs)\n",
    "    def __gt__(self, rhs): return not (self <= rhs)"
   ]
  },
  {
   "cell_type": "code",
   "execution_count": 48,
   "metadata": {},
   "outputs": [
    {
     "name": "stdout",
     "output_type": "stream",
     "text": [
      "aa == ab: True\n",
      "aa != ab: False\n"
     ]
    },
    {
     "ename": "TypeError",
     "evalue": "'<' not supported between instances of 'A' and 'A'",
     "output_type": "error",
     "traceback": [
      "\u001b[0;31m---------------------------------------------------------------------------\u001b[0m",
      "\u001b[0;31mTypeError\u001b[0m                                 Traceback (most recent call last)",
      "\u001b[0;32m<ipython-input-48-ca6fe5526218>\u001b[0m in \u001b[0;36m<module>\u001b[0;34m\u001b[0m\n\u001b[1;32m      4\u001b[0m \u001b[0mprint\u001b[0m\u001b[0;34m(\u001b[0m\u001b[0;34m\"aa == ab:\"\u001b[0m\u001b[0;34m,\u001b[0m \u001b[0maa\u001b[0m \u001b[0;34m==\u001b[0m \u001b[0mab\u001b[0m\u001b[0;34m)\u001b[0m\u001b[0;34m\u001b[0m\u001b[0m\n\u001b[1;32m      5\u001b[0m \u001b[0mprint\u001b[0m\u001b[0;34m(\u001b[0m\u001b[0;34m\"aa != ab:\"\u001b[0m\u001b[0;34m,\u001b[0m \u001b[0maa\u001b[0m \u001b[0;34m!=\u001b[0m \u001b[0mab\u001b[0m\u001b[0;34m)\u001b[0m\u001b[0;34m\u001b[0m\u001b[0m\n\u001b[0;32m----> 6\u001b[0;31m \u001b[0mprint\u001b[0m\u001b[0;34m(\u001b[0m\u001b[0;34m\"aa < ab :\"\u001b[0m\u001b[0;34m,\u001b[0m \u001b[0maa\u001b[0m \u001b[0;34m<\u001b[0m \u001b[0mab\u001b[0m \u001b[0;34m)\u001b[0m\u001b[0;34m\u001b[0m\u001b[0m\n\u001b[0m\u001b[1;32m      7\u001b[0m \u001b[0mprint\u001b[0m\u001b[0;34m(\u001b[0m\u001b[0mid\u001b[0m\u001b[0;34m(\u001b[0m\u001b[0maa\u001b[0m\u001b[0;34m)\u001b[0m\u001b[0;34m,\u001b[0m \u001b[0mid\u001b[0m\u001b[0;34m(\u001b[0m\u001b[0mab\u001b[0m\u001b[0;34m)\u001b[0m\u001b[0;34m)\u001b[0m\u001b[0;34m\u001b[0m\u001b[0m\n",
      "\u001b[0;31mTypeError\u001b[0m: '<' not supported between instances of 'A' and 'A'"
     ]
    }
   ],
   "source": [
    "aa = A(10)\n",
    "ab = A(10)\n",
    "\n",
    "print(\"aa == ab:\", aa == ab)\n",
    "print(\"aa != ab:\", aa != ab)\n",
    "print(\"aa < ab :\", aa < ab )\n",
    "print(id(aa), id(ab))"
   ]
  },
  {
   "cell_type": "markdown",
   "metadata": {},
   "source": [
    "- In Python 2, results would be different\n",
    "    - Greater risk of programs running, but doing the wrong thing\n",
    "- Let's compare instances of class `B`"
   ]
  },
  {
   "cell_type": "markdown",
   "metadata": {},
   "source": [
    "### Overloading mathematical operations\n",
    "\n",
    "- `+`, `-`, `*`, `/` and further mathematical operators can be overloaded\n",
    "- See http://docs.python.org/library/operator.html for a complete list\n",
    "- No default definitions inherited from `object`\n",
    "- Think carefully about what definitions may make sense, e.g.,\n",
    "    - string addition: concatenation\n",
    "    - string times integer n: concatenate string with itself n times\n",
    "    - subtraction and division not defined\n",
    "- Methods: `__add__`, `__sub__`, `__mul__`, `__div__`\n",
    "- `a + b` is equivalent to `a.__add__(b)`"
   ]
  },
  {
   "cell_type": "code",
   "execution_count": 49,
   "metadata": {
    "collapsed": true
   },
   "outputs": [],
   "source": [
    "import math\n",
    "\n",
    "class Vector:\n",
    "\n",
    "    def __init__(self, x, y):\n",
    "        self.x = x\n",
    "        self.y = y\n",
    "\n",
    "    def __repr__(self):\n",
    "        return 'Vector({0.x}, {0.y})'.format(self)\n",
    "\n",
    "    def __add__(self, rhs):\n",
    "        return Vector(self.x + rhs.x, self.y + rhs.y)\n",
    "\n",
    "    def __sub__(self, rhs):\n",
    "        return Vector(self.x - rhs.x, self.y - rhs.y)\n",
    "\n",
    "    def __mul__(self, rhs):\n",
    "        return Vector(self.x * rhs, self.y * rhs)\n",
    "\n",
    "    def __rmul__(self, lhs):\n",
    "        return self * lhs\n",
    "\n",
    "    def __truediv__(self, rhs):\n",
    "        return self * (1. / rhs)\n",
    "\n",
    "    def norm(self):\n",
    "        return math.sqrt(self.x ** 2 + self.y ** 2)"
   ]
  },
  {
   "cell_type": "markdown",
   "metadata": {},
   "source": [
    "We create a few vectors and work with them. Note that `print` now falls back on the `__repr__()` method for printing the vectors, because `__str__()` is not implemented."
   ]
  },
  {
   "cell_type": "code",
   "execution_count": 50,
   "metadata": {
    "scrolled": true
   },
   "outputs": [
    {
     "name": "stdout",
     "output_type": "stream",
     "text": [
      "v       =  Vector(1, 2)\n",
      "w       =  Vector(30, 40)\n",
      "v + w   =  Vector(31, 42)\n",
      "v * 5   =  Vector(5, 10)\n",
      "2 * v   =  Vector(2, 4)\n",
      "v / 10. =  Vector(0.1, 0.2)\n",
      "norm(v) =  2.23606797749979\n"
     ]
    }
   ],
   "source": [
    "v = Vector(1, 2)\n",
    "w = Vector(30, 40)\n",
    "\n",
    "print(\"v       = \", v)\n",
    "print(\"w       = \", w)\n",
    "print(\"v + w   = \", v + w)\n",
    "print(\"v * 5   = \", v * 5)\n",
    "print(\"2 * v   = \", 2 * v)\n",
    "print(\"v / 10. = \", v / 10.)\n",
    "print(\"norm(v) = \", v.norm())"
   ]
  },
  {
   "cell_type": "markdown",
   "metadata": {},
   "source": [
    "- `__rmul__()` vs `__mul__()`:\n",
    "    - `v * 5` is `v.__mul__(5)`: no problem, run `Vector.__mul__(v, 5)`\n",
    "    - `2 * v` would be `2.__mul__(v)`, i.e., `int.__mul__(2, v)`\n",
    "    - `int` knows nothing about vectors: error!\n",
    "    - `__rmul__()`: called with swapped arguments if `__mul__()` fails\n",
    "    - `2 * v` becomes `v.__rmul__(2)`, running `Vector.__rmul__(v, 2)`\n",
    "    - `__rmul__()` usually implemented in terms of `__mul__()` or `*`\n",
    "- `r`-versions also for other math methods"
   ]
  }
 ],
 "metadata": {
  "kernelspec": {
   "display_name": "Python 3",
   "language": "python",
   "name": "python3"
  },
  "language_info": {
   "codemirror_mode": {
    "name": "ipython",
    "version": 3
   },
   "file_extension": ".py",
   "mimetype": "text/x-python",
   "name": "python",
   "nbconvert_exporter": "python",
   "pygments_lexer": "ipython3",
   "version": "3.7.3"
  }
 },
 "nbformat": 4,
 "nbformat_minor": 2
}
