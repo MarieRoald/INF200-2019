{
 "cells": [
  {
   "cell_type": "markdown",
   "metadata": {},
   "source": [
    "# INF200 Lecture No 2\n",
    "\n",
    "### 16 September 2019\n",
    "\n",
    "## Today's topics\n",
    "\n",
    "* Python Basics\n",
    "    - Coding standards: PEP8\n",
    "    - Everything is an object\n",
    "    - Strings, Bytes, Files, and Encodings\n",
    "    - Exception handling\n",
    "* Programming Task: *Clock Patience*\n",
    "* Links\n",
    "    - [Tom Scott on Unicode](https://www.youtube.com/watch?v=MijmeoH9LT4)"
   ]
  },
  {
   "cell_type": "markdown",
   "metadata": {},
   "source": [
    "## Review: Clock patience"
   ]
  },
  {
   "cell_type": "code",
   "execution_count": 9,
   "metadata": {},
   "outputs": [],
   "source": [
    "from random import shuffle\n",
    "\n",
    "def play_game():\n",
    "    \"\"\"Play a single game of modified clock patience.\n",
    "    \n",
    "    Returns\n",
    "    -------\n",
    "    win: bool\n",
    "        True if the game resulted in a win and False otherwise\n",
    "    \"\"\"\n",
    "    cards = create_deck_of_cards()\n",
    "    shuffle(cards)\n",
    "    board = create_board()\n",
    "    while len(cards) > 0 and not is_winning_state(board):\n",
    "        cards, board = play_single_round(cards, board)\n",
    "    \n",
    "    return is_winning_state(board)\n",
    "\n",
    "\n",
    "    # I prefer this method since it is easier to understand the loop\n",
    "    # logic.\n",
    "    cards = create_deck_of_cards()\n",
    "    board = create_board()\n",
    "    while len(cards) > 0:\n",
    "        cards, board = play_single_round(cards, board)\n",
    "        if is_winning_state(board):\n",
    "            return True\n",
    "        \n",
    "    return False\n",
    "\n",
    "def create_deck_of_cards():\n",
    "    \"\"\"Returns a deck of cards represented by a list of 2-tuples.\n",
    "    \n",
    "    Each tuple represents one card, the first element is either\n",
    "    ``'C'``, ``'D'``, ``'H'`` or ``'S'``, representing clubs,\n",
    "    diamonds, hearts and spades, respectively. The second element\n",
    "    is a number from 1 to 13 (inclusive), representing the value\n",
    "    of the card. 1 is ace, 11 is jack, 12 is queen and 13 is king.\n",
    "    \"\"\"\n",
    "    suits = ['C', 'D', 'H', 'S']\n",
    "    deck_of_cards = []\n",
    "    for suit in suits:\n",
    "        for value in range(1, 14):\n",
    "            deck_of_cards.append((suit, value))\n",
    "    return deck_of_cards\n",
    "    \n",
    "    # This is more explicit.\n",
    "    suits = ['C', 'D', 'H', 'S']\n",
    "    return [\n",
    "        (suit, value) for suit in suits for value in range(1, 14)\n",
    "    ]\n",
    "\n",
    "\n",
    "def create_board():\n",
    "    \"\"\"Create an empty board with 13 2-tuples containing ``None`` values.\"\"\"\n",
    "    return [(None, None) for _ in range(13)]\n",
    "\n",
    "\n",
    "def play_single_round(cards, board):\n",
    "    \"\"\"Play a single round of clock patience\n",
    "    \"\"\"\n",
    "    # for each position, check if that position is locked\n",
    "    # if it is locked, skip that position (continue)\n",
    "    # otherwise deal a card\n",
    "    for position in range(13):\n",
    "        if board[position][1] != position + 1:\n",
    "            board[position] = cards.pop()\n",
    "    return cards, board\n",
    "\n",
    "    # This is more general, is it better?\n",
    "    for position in range(len(board)):\n",
    "        if board[position][1] != position + 1:\n",
    "            board[position] = cards.pop()\n",
    "    return cards, board\n",
    "\n",
    "    # Less readable, do we need the generality?\n",
    "    # Can we get the best of both worlds?\n",
    "    for position, board_state in enumerate(board):\n",
    "        if board_state[1] != position + 1:\n",
    "            board[position] = cards.pop()\n",
    "    return cards, board\n",
    "\n",
    "    # Finally, when we play, we test for equality and skip,\n",
    "    # not inequality.\n",
    "    for position, board_state in enumerate(board):\n",
    "        if board_state[1] == position + 1:\n",
    "            continue\n",
    "\n",
    "        board[position] = cards.pop()\n",
    "    return cards, board\n",
    "\n",
    "    # All of these are wrong\n",
    "    for position, board_state in enumerate(board):\n",
    "        if board_state[1] == position + 1:\n",
    "            continue\n",
    "        if len(cards) == 0:\n",
    "            break\n",
    "\n",
    "        board[position] = cards.pop()\n",
    "    return cards, board\n",
    "        \n",
    "\n",
    "def is_winning_state(board):\n",
    "    \"\"\"Returns True if the board is in a winning state and False otherwise.\n",
    "    \"\"\"\n",
    "    for position, board_state in enumerate(board):\n",
    "        if board_state[1] != position + 1:\n",
    "            return False\n",
    "    return True\n"
   ]
  },
  {
   "cell_type": "code",
   "execution_count": 10,
   "metadata": {},
   "outputs": [
    {
     "name": "stdout",
     "output_type": "stream",
     "text": [
      "55\n"
     ]
    }
   ],
   "source": [
    "def play_n_games(n):\n",
    "    \"\"\"Returns the number of times won after ``n`` games.\n",
    "    \"\"\"\n",
    "    results = [play_game() for _ in range(n)]\n",
    "    return sum(results)\n",
    "\n",
    "print(play_n_games(100000))"
   ]
  },
  {
   "cell_type": "markdown",
   "metadata": {},
   "source": [
    "## Following style guides\n",
    "When we program, we do not mainly write instructions for a computer. Rather, we are communicating how to solve a specific problems to other people in a language that the computer understands. This perspective is important to be aware of, since, especially new programmers, often write terse and unreadable code. \n",
    "\n",
    "A professional programmer writes between [10 and 50 new lines of code each day](https://successfulsoftware.net/2017/02/10/how-much-code-can-a-coder-code/). The rest of the time is spent reading and rewriting already existing code. Therefore, if we write hard-to-read and hard-to-understand code, then we are severly damaging our workflow later.\n",
    "\n",
    "The problem of unreadable code is increased manifoldly once we collaborate on a project. A style that is perfectly readable for one programmer, might be difficult for another programmer to understand. Therefore, we use what's called *style guides*; a set of rules to ensure that a full company produces similar code. A style guide is not perfect, and often, you might disagree with it. However, having a consistent ok style is better than having a missmatch of many different good styles.\n",
    "\n",
    "In Python, we use PEP-8. Last week I asked you to read this style guide. If you haven't yet, then you should.\n",
    "\n",
    "There are tools that will transform almost any code to follow PEP-8, but you are not allowed to use them yet. The reason is that autoformatted code is generally worse than human formated code. In tandum with a human, autoformaters are good. However, autoformatters cannot perform magical feats, and as such, it is important to write PEP-8-like code for them to work.\n",
    "\n",
    "Later I will show you a code autoformatter that I like, but you will have to wait some weeks before that time."
   ]
  },
  {
   "cell_type": "markdown",
   "metadata": {},
   "source": [
    "## Mental model of a computer\n",
    "It is often useful to think of a computer as a factory located in Ås. The hard disk is the regional storage (e.g. the main storage for Akershus, placed in Vestby), the RAM is the storage on the factory and the CPU is where the factory is running. Whenever we want to compute something, we want the factory to produce something. To do that, we need to transport the raw materials from the factory storage (RAM) to the factory floor. Then what comes out is placed back into the RAM. Sometimes, we need to get something from the regional storage (aka the HDD/SSD) and move it to the local storage (RAM).\n",
    "\n",
    "I will likely use this metaphor later in the course as well."
   ]
  },
  {
   "cell_type": "markdown",
   "metadata": {},
   "source": [
    "## Review of Python\n",
    "### Everything in Python is an object\n",
    "\n",
    "#### Objects have a *type*\n",
    "The type of an object specifies, well, what type it is. An integer number is of type `int`, a string is of type `bool` and a function is of type `function`. Each type defines the properties of instances of that type. For example, the `int` type has defined behaviour for both addition and subtraction, whereas the `str` type only has defined behaviour for addition. "
   ]
  },
  {
   "cell_type": "code",
   "execution_count": 35,
   "metadata": {},
   "outputs": [
    {
     "data": {
      "text/plain": [
       "int"
      ]
     },
     "execution_count": 35,
     "metadata": {},
     "output_type": "execute_result"
    }
   ],
   "source": [
    "type(5)"
   ]
  },
  {
   "cell_type": "code",
   "execution_count": 36,
   "metadata": {},
   "outputs": [
    {
     "data": {
      "text/plain": [
       "float"
      ]
     },
     "execution_count": 36,
     "metadata": {},
     "output_type": "execute_result"
    }
   ],
   "source": [
    "type(5.6)"
   ]
  },
  {
   "cell_type": "code",
   "execution_count": 37,
   "metadata": {},
   "outputs": [
    {
     "data": {
      "text/plain": [
       "str"
      ]
     },
     "execution_count": 37,
     "metadata": {},
     "output_type": "execute_result"
    }
   ],
   "source": [
    "type('This is a string.')"
   ]
  },
  {
   "cell_type": "code",
   "execution_count": 38,
   "metadata": {},
   "outputs": [
    {
     "data": {
      "text/plain": [
       "bool"
      ]
     },
     "execution_count": 38,
     "metadata": {},
     "output_type": "execute_result"
    }
   ],
   "source": [
    "type(True)"
   ]
  },
  {
   "cell_type": "code",
   "execution_count": 39,
   "metadata": {},
   "outputs": [
    {
     "data": {
      "text/plain": [
       "list"
      ]
     },
     "execution_count": 39,
     "metadata": {},
     "output_type": "execute_result"
    }
   ],
   "source": [
    "type([1, 2, 3])"
   ]
  },
  {
   "cell_type": "code",
   "execution_count": 40,
   "metadata": {},
   "outputs": [
    {
     "data": {
      "text/plain": [
       "function"
      ]
     },
     "execution_count": 40,
     "metadata": {},
     "output_type": "execute_result"
    }
   ],
   "source": [
    "def square(x):\n",
    "    return x**2\n",
    "\n",
    "type(square)"
   ]
  },
  {
   "cell_type": "code",
   "execution_count": 41,
   "metadata": {},
   "outputs": [
    {
     "data": {
      "text/plain": [
       "type"
      ]
     },
     "execution_count": 41,
     "metadata": {},
     "output_type": "execute_result"
    }
   ],
   "source": [
    "type(type)"
   ]
  },
  {
   "cell_type": "markdown",
   "metadata": {},
   "source": [
    "#### Object behaviour\n",
    "Whenever we interact with an object, we check if that object has defined behaviour for the kind of interaction we are looking for. Later in this course we will define new data types, or `classes`, and define its behaviour, but for now, we will only look at the following examples."
   ]
  },
  {
   "cell_type": "code",
   "execution_count": 42,
   "metadata": {},
   "outputs": [
    {
     "name": "stdout",
     "output_type": "stream",
     "text": [
      "7\n"
     ]
    }
   ],
   "source": [
    "print(5 + 2)  # Integers have is defined behaviour for addition with other integers"
   ]
  },
  {
   "cell_type": "code",
   "execution_count": 43,
   "metadata": {},
   "outputs": [
    {
     "ename": "TypeError",
     "evalue": "unsupported operand type(s) for +: 'int' and 'str'",
     "output_type": "error",
     "traceback": [
      "\u001b[0;31m---------------------------------------------------------------------------\u001b[0m",
      "\u001b[0;31mTypeError\u001b[0m                                 Traceback (most recent call last)",
      "\u001b[0;32m<ipython-input-43-5d723b877def>\u001b[0m in \u001b[0;36m<module>\u001b[0;34m\u001b[0m\n\u001b[0;32m----> 1\u001b[0;31m \u001b[0mprint\u001b[0m\u001b[0;34m(\u001b[0m\u001b[0;36m5\u001b[0m \u001b[0;34m+\u001b[0m \u001b[0;34m'2'\u001b[0m\u001b[0;34m)\u001b[0m  \u001b[0;31m# Integers but they do not have defined behaviour for addition with strings\u001b[0m\u001b[0;34m\u001b[0m\u001b[0;34m\u001b[0m\u001b[0m\n\u001b[0m",
      "\u001b[0;31mTypeError\u001b[0m: unsupported operand type(s) for +: 'int' and 'str'"
     ]
    }
   ],
   "source": [
    "print(5 + '2')  # Integers but they do not have defined behaviour for addition with strings"
   ]
  },
  {
   "cell_type": "markdown",
   "metadata": {},
   "source": [
    "Here we get a type error, the reason for this is that neither the `int` type nor the `str` type has defined behaviour for addition with the other type.\n",
    "\n",
    "Don't worry if this seems strange for now, we will focus more on this later when we learn about classes."
   ]
  },
  {
   "cell_type": "markdown",
   "metadata": {},
   "source": [
    "#### Objects have an *ID*\n",
    "An object ID specifies where the object is stored in the computer memory (also known as RAM, short for Random Access Memory).\n",
    "\n",
    "Everything in a computer is physically stored in RAM, which you can think of as a large switchboard with swithces that can be in the on and off position. Each such switch has a position, and it is this position we can find by looking at an object's ID."
   ]
  },
  {
   "cell_type": "code",
   "execution_count": 44,
   "metadata": {},
   "outputs": [
    {
     "data": {
      "text/plain": [
       "140362789286512"
      ]
     },
     "execution_count": 44,
     "metadata": {},
     "output_type": "execute_result"
    }
   ],
   "source": [
    "s = 'This is a house.'\n",
    "id(s)"
   ]
  },
  {
   "cell_type": "code",
   "execution_count": 45,
   "metadata": {},
   "outputs": [
    {
     "data": {
      "text/plain": [
       "140362789287016"
      ]
     },
     "execution_count": 45,
     "metadata": {},
     "output_type": "execute_result"
    }
   ],
   "source": [
    "t = 'This is a house.'\n",
    "id(t)"
   ]
  },
  {
   "cell_type": "markdown",
   "metadata": {},
   "source": [
    "- `s` and `t` refer to two different objects\n",
    "- The two different objects have the same value\n",
    "- Testing for identical objects: `is`\n",
    "- Testing for same value: `==`"
   ]
  },
  {
   "cell_type": "code",
   "execution_count": 46,
   "metadata": {},
   "outputs": [
    {
     "name": "stdout",
     "output_type": "stream",
     "text": [
      "s == s    : True\n",
      "s == t    : True\n",
      "s is s    : True\n",
      "s is t    : False\n",
      "s is not t: True\n"
     ]
    }
   ],
   "source": [
    "print('s == s    :', s == s)\n",
    "print('s == t    :', s == t)\n",
    "print('s is s    :', s is s)\n",
    "print('s is t    :', s is t)\n",
    "print('s is not t:', s is not t)"
   ]
  },
  {
   "cell_type": "code",
   "execution_count": 47,
   "metadata": {},
   "outputs": [
    {
     "name": "stdout",
     "output_type": "stream",
     "text": [
      "Hello\n",
      "This is a house.\n"
     ]
    }
   ],
   "source": [
    "t = 'Hello'\n",
    "print(t)\n",
    "print(s)"
   ]
  },
  {
   "cell_type": "markdown",
   "metadata": {},
   "source": [
    "#### Objects have *attributes*\n",
    "\n",
    "- Attributes can be values\n",
    "- Attributes can be operations (functions); these are also called *methods*"
   ]
  },
  {
   "cell_type": "code",
   "execution_count": 48,
   "metadata": {},
   "outputs": [
    {
     "data": {
      "text/plain": [
       "'THIS IS A HOUSE.'"
      ]
     },
     "execution_count": 48,
     "metadata": {},
     "output_type": "execute_result"
    }
   ],
   "source": [
    "s.upper()"
   ]
  },
  {
   "cell_type": "code",
   "execution_count": 49,
   "metadata": {},
   "outputs": [
    {
     "data": {
      "text/plain": [
       "'this is a house.'"
      ]
     },
     "execution_count": 49,
     "metadata": {},
     "output_type": "execute_result"
    }
   ],
   "source": [
    "s.lower()"
   ]
  },
  {
   "cell_type": "code",
   "execution_count": 50,
   "metadata": {},
   "outputs": [
    {
     "data": {
      "text/plain": [
       "'This is a house.'"
      ]
     },
     "execution_count": 50,
     "metadata": {},
     "output_type": "execute_result"
    }
   ],
   "source": [
    "s.capitalize()"
   ]
  },
  {
   "cell_type": "code",
   "execution_count": 51,
   "metadata": {},
   "outputs": [
    {
     "data": {
      "text/plain": [
       "'This is a house.'"
      ]
     },
     "execution_count": 51,
     "metadata": {},
     "output_type": "execute_result"
    }
   ],
   "source": [
    "s.lower().capitalize()"
   ]
  },
  {
   "cell_type": "markdown",
   "metadata": {},
   "source": [
    "We can display all attributes of an object with the `dir` function."
   ]
  },
  {
   "cell_type": "code",
   "execution_count": 11,
   "metadata": {},
   "outputs": [
    {
     "data": {
      "text/plain": [
       "['__add__',\n",
       " '__class__',\n",
       " '__contains__',\n",
       " '__delattr__',\n",
       " '__dir__',\n",
       " '__doc__',\n",
       " '__eq__',\n",
       " '__format__',\n",
       " '__ge__',\n",
       " '__getattribute__',\n",
       " '__getitem__',\n",
       " '__getnewargs__',\n",
       " '__gt__',\n",
       " '__hash__',\n",
       " '__init__',\n",
       " '__init_subclass__',\n",
       " '__iter__',\n",
       " '__le__',\n",
       " '__len__',\n",
       " '__lt__',\n",
       " '__mod__',\n",
       " '__mul__',\n",
       " '__ne__',\n",
       " '__new__',\n",
       " '__reduce__',\n",
       " '__reduce_ex__',\n",
       " '__repr__',\n",
       " '__rmod__',\n",
       " '__rmul__',\n",
       " '__setattr__',\n",
       " '__sizeof__',\n",
       " '__str__',\n",
       " '__subclasshook__',\n",
       " 'capitalize',\n",
       " 'casefold',\n",
       " 'center',\n",
       " 'count',\n",
       " 'encode',\n",
       " 'endswith',\n",
       " 'expandtabs',\n",
       " 'find',\n",
       " 'format',\n",
       " 'format_map',\n",
       " 'index',\n",
       " 'isalnum',\n",
       " 'isalpha',\n",
       " 'isascii',\n",
       " 'isdecimal',\n",
       " 'isdigit',\n",
       " 'isidentifier',\n",
       " 'islower',\n",
       " 'isnumeric',\n",
       " 'isprintable',\n",
       " 'isspace',\n",
       " 'istitle',\n",
       " 'isupper',\n",
       " 'join',\n",
       " 'ljust',\n",
       " 'lower',\n",
       " 'lstrip',\n",
       " 'maketrans',\n",
       " 'partition',\n",
       " 'replace',\n",
       " 'rfind',\n",
       " 'rindex',\n",
       " 'rjust',\n",
       " 'rpartition',\n",
       " 'rsplit',\n",
       " 'rstrip',\n",
       " 'split',\n",
       " 'splitlines',\n",
       " 'startswith',\n",
       " 'strip',\n",
       " 'swapcase',\n",
       " 'title',\n",
       " 'translate',\n",
       " 'upper',\n",
       " 'zfill']"
      ]
     },
     "execution_count": 11,
     "metadata": {},
     "output_type": "execute_result"
    }
   ],
   "source": [
    "dir(s)"
   ]
  },
  {
   "cell_type": "markdown",
   "metadata": {},
   "source": [
    "Here, we see that there is defined a function called `__add__`, and it is this function that define how addition works for strings. Let us look at an example"
   ]
  },
  {
   "cell_type": "code",
   "execution_count": 12,
   "metadata": {},
   "outputs": [
    {
     "name": "stdout",
     "output_type": "stream",
     "text": [
      "s + \"a\": This is a house.a\n",
      "s.__add__(\"a\"): This is a house.a\n"
     ]
    }
   ],
   "source": [
    "print(f's + \"a\": {s + \"a\"}')\n",
    "print(f's.__add__(\"a\"): {s.__add__(\"a\")}')"
   ]
  },
  {
   "cell_type": "markdown",
   "metadata": {},
   "source": [
    "## Strings, bytes, files, and encoding\n",
    "\n",
    "Everything in a computer is numbers. So how can we have strings of letters and special symbols? To accomplish this, we have a sequence of numbers instead and a lookup table that links each number to its correspodning character. This lookup table is called the text encoding. If you are more interested in how Unicode works, look at this [YouTube](https://www.youtube.com/watch?v=MijmeoH9LT4) video.\n"
   ]
  },
  {
   "cell_type": "markdown",
   "metadata": {},
   "source": [
    "### Character encoding in Python\n",
    "\n",
    "- `str` data type fully supports Unicode\n",
    "- Each character in a string is represented by its Unicode code point\n",
    "- `chr()` converts code point to single-chararcter string\n",
    "- `ord()` converts single-character string to code point\n",
    "\n",
    "Some examples"
   ]
  },
  {
   "cell_type": "code",
   "execution_count": 14,
   "metadata": {},
   "outputs": [
    {
     "data": {
      "text/plain": [
       "[65, 97, 48, 230, 945, 8364, 12469, 128514]"
      ]
     },
     "execution_count": 14,
     "metadata": {},
     "output_type": "execute_result"
    }
   ],
   "source": [
    "code_points = [ord(character) for character in 'Aa0æα€サ😂']\n",
    "code_points"
   ]
  },
  {
   "cell_type": "markdown",
   "metadata": {},
   "source": [
    "The same expressed as hexadecimal numbers"
   ]
  },
  {
   "cell_type": "code",
   "execution_count": 13,
   "metadata": {},
   "outputs": [
    {
     "data": {
      "text/plain": [
       "['0x41', '0x61', '0x30', '0xe6', '0x3b1', '0x20ac', '0x30b5', '0x1f602']"
      ]
     },
     "execution_count": 13,
     "metadata": {},
     "output_type": "execute_result"
    }
   ],
   "source": [
    "[hex(code_point) for code_point in code_points]"
   ]
  },
  {
   "cell_type": "markdown",
   "metadata": {},
   "source": [
    "We use code point to character conversion to look at the character at the next code point:"
   ]
  },
  {
   "cell_type": "code",
   "execution_count": 17,
   "metadata": {},
   "outputs": [
    {
     "name": "stdout",
     "output_type": "stream",
     "text": [
      "    65 A B\n",
      "    97 a b\n",
      "    48 0 1\n",
      "   230 æ ç\n",
      "   945 α β\n",
      "  8364 € ₭\n",
      " 12469 サ ザ\n",
      "128514 😂 😃\n"
     ]
    }
   ],
   "source": [
    "for code_point in code_points:\n",
    "    print(f'{code_point:>6} {chr(code_point)} {chr(code_point+1)}')"
   ]
  },
  {
   "cell_type": "markdown",
   "metadata": {},
   "source": [
    "- Code point values are used when sorting strings"
   ]
  },
  {
   "cell_type": "markdown",
   "metadata": {},
   "source": [
    "#### Byte-strings instead of unicode strings\n",
    "\n",
    "Sometimes, we need byte-strings as opposed to character strings. That is because the file-system is structured in byte-strings, so being able to directly modify those are useful. We have some examples below."
   ]
  },
  {
   "cell_type": "code",
   "execution_count": 18,
   "metadata": {},
   "outputs": [
    {
     "name": "stdout",
     "output_type": "stream",
     "text": [
      "b'This is a bytes literal.'\n",
      "<class 'bytes'>\n"
     ]
    }
   ],
   "source": [
    "blit = b'This is a bytes literal.'\n",
    "print(blit)\n",
    "print(type(blit))"
   ]
  },
  {
   "cell_type": "markdown",
   "metadata": {},
   "source": [
    "Notice the leading b before the string above, that specifies that it is a byte-string. A byte string will show all ASCII (another character encoding) compatible characters as letters. However, if we try to create a byte-string with non-ASCII characters, then we get an error."
   ]
  },
  {
   "cell_type": "code",
   "execution_count": 19,
   "metadata": {},
   "outputs": [
    {
     "ename": "SyntaxError",
     "evalue": "bytes can only contain ASCII literal characters. (<ipython-input-19-23de7bcd450a>, line 1)",
     "output_type": "error",
     "traceback": [
      "\u001b[0;36m  File \u001b[0;32m\"<ipython-input-19-23de7bcd450a>\"\u001b[0;36m, line \u001b[0;32m1\u001b[0m\n\u001b[0;31m    b'Ås'\u001b[0m\n\u001b[0m         ^\u001b[0m\n\u001b[0;31mSyntaxError\u001b[0m\u001b[0;31m:\u001b[0m bytes can only contain ASCII literal characters.\n"
     ]
    }
   ],
   "source": [
    "b'Ås'"
   ]
  },
  {
   "cell_type": "markdown",
   "metadata": {},
   "source": [
    "We can also specify which bytes each element is. When we print the byte-string, all ASCII compatible elements will be printed as a letter and all non-ASCII compatible elements will be printed as hexadecimal bytes."
   ]
  },
  {
   "cell_type": "code",
   "execution_count": 20,
   "metadata": {},
   "outputs": [
    {
     "data": {
      "text/plain": [
       "b'Z\\xe6'"
      ]
     },
     "execution_count": 20,
     "metadata": {},
     "output_type": "execute_result"
    }
   ],
   "source": [
    "b'\\x5a\\xe6'"
   ]
  },
  {
   "cell_type": "markdown",
   "metadata": {},
   "source": [
    "### Reading and writing files\n",
    "\n",
    "- Files are read and written using UTF-8 encoding by default\n",
    "- Reading from a file will return `str` objects\n",
    "- We can open a file with different encoding by telling `open()` about it\n",
    "- If we open a file in mode `'b'`, reading will return `bytes` objects and not apply decoding"
   ]
  },
  {
   "cell_type": "code",
   "execution_count": 33,
   "metadata": {
    "collapsed": true
   },
   "outputs": [],
   "source": [
    "open('testfile_utf8.txt', 'w').write(text)\n",
    "open('testfile_latin1.txt', 'w', encoding='latin1').write(text);"
   ]
  },
  {
   "cell_type": "code",
   "execution_count": 34,
   "metadata": {},
   "outputs": [
    {
     "name": "stdout",
     "output_type": "stream",
     "text": [
      "Vi er på Ås, et særdeles fint sted i Østnorge."
     ]
    }
   ],
   "source": [
    "!cat testfile_utf8.txt"
   ]
  },
  {
   "cell_type": "code",
   "execution_count": 35,
   "metadata": {},
   "outputs": [
    {
     "name": "stdout",
     "output_type": "stream",
     "text": [
      "Vi er p� �s, et s�rdeles fint sted i �stnorge."
     ]
    }
   ],
   "source": [
    "!cat testfile_latin1.txt"
   ]
  },
  {
   "cell_type": "code",
   "execution_count": 36,
   "metadata": {},
   "outputs": [
    {
     "data": {
      "text/plain": [
       "'Vi er på Ås, et særdeles fint sted i Østnorge.'"
      ]
     },
     "execution_count": 36,
     "metadata": {},
     "output_type": "execute_result"
    }
   ],
   "source": [
    "open('testfile_utf8.txt').read()"
   ]
  },
  {
   "cell_type": "code",
   "execution_count": 37,
   "metadata": {},
   "outputs": [
    {
     "ename": "UnicodeDecodeError",
     "evalue": "'utf-8' codec can't decode byte 0xe5 in position 7: invalid continuation byte",
     "output_type": "error",
     "traceback": [
      "\u001b[0;31m---------------------------------------------------------------------------\u001b[0m",
      "\u001b[0;31mUnicodeDecodeError\u001b[0m                        Traceback (most recent call last)",
      "\u001b[0;32m<ipython-input-37-f6e592c16a3f>\u001b[0m in \u001b[0;36m<module>\u001b[0;34m()\u001b[0m\n\u001b[0;32m----> 1\u001b[0;31m \u001b[0mopen\u001b[0m\u001b[0;34m(\u001b[0m\u001b[0;34m'testfile_latin1.txt'\u001b[0m\u001b[0;34m)\u001b[0m\u001b[0;34m.\u001b[0m\u001b[0mread\u001b[0m\u001b[0;34m(\u001b[0m\u001b[0;34m)\u001b[0m\u001b[0;34m\u001b[0m\u001b[0m\n\u001b[0m",
      "\u001b[0;32m~/anaconda3/lib/python3.6/codecs.py\u001b[0m in \u001b[0;36mdecode\u001b[0;34m(self, input, final)\u001b[0m\n\u001b[1;32m    319\u001b[0m         \u001b[0;31m# decode input (taking the buffer into account)\u001b[0m\u001b[0;34m\u001b[0m\u001b[0;34m\u001b[0m\u001b[0m\n\u001b[1;32m    320\u001b[0m         \u001b[0mdata\u001b[0m \u001b[0;34m=\u001b[0m \u001b[0mself\u001b[0m\u001b[0;34m.\u001b[0m\u001b[0mbuffer\u001b[0m \u001b[0;34m+\u001b[0m \u001b[0minput\u001b[0m\u001b[0;34m\u001b[0m\u001b[0m\n\u001b[0;32m--> 321\u001b[0;31m         \u001b[0;34m(\u001b[0m\u001b[0mresult\u001b[0m\u001b[0;34m,\u001b[0m \u001b[0mconsumed\u001b[0m\u001b[0;34m)\u001b[0m \u001b[0;34m=\u001b[0m \u001b[0mself\u001b[0m\u001b[0;34m.\u001b[0m\u001b[0m_buffer_decode\u001b[0m\u001b[0;34m(\u001b[0m\u001b[0mdata\u001b[0m\u001b[0;34m,\u001b[0m \u001b[0mself\u001b[0m\u001b[0;34m.\u001b[0m\u001b[0merrors\u001b[0m\u001b[0;34m,\u001b[0m \u001b[0mfinal\u001b[0m\u001b[0;34m)\u001b[0m\u001b[0;34m\u001b[0m\u001b[0m\n\u001b[0m\u001b[1;32m    322\u001b[0m         \u001b[0;31m# keep undecoded input until the next call\u001b[0m\u001b[0;34m\u001b[0m\u001b[0;34m\u001b[0m\u001b[0m\n\u001b[1;32m    323\u001b[0m         \u001b[0mself\u001b[0m\u001b[0;34m.\u001b[0m\u001b[0mbuffer\u001b[0m \u001b[0;34m=\u001b[0m \u001b[0mdata\u001b[0m\u001b[0;34m[\u001b[0m\u001b[0mconsumed\u001b[0m\u001b[0;34m:\u001b[0m\u001b[0;34m]\u001b[0m\u001b[0;34m\u001b[0m\u001b[0m\n",
      "\u001b[0;31mUnicodeDecodeError\u001b[0m: 'utf-8' codec can't decode byte 0xe5 in position 7: invalid continuation byte"
     ]
    }
   ],
   "source": [
    "open('testfile_latin1.txt').read()"
   ]
  },
  {
   "cell_type": "code",
   "execution_count": 38,
   "metadata": {},
   "outputs": [
    {
     "data": {
      "text/plain": [
       "'Vi er på Ås, et særdeles fint sted i Østnorge.'"
      ]
     },
     "execution_count": 38,
     "metadata": {},
     "output_type": "execute_result"
    }
   ],
   "source": [
    "open('testfile_latin1.txt', encoding='latin1').read()"
   ]
  },
  {
   "cell_type": "code",
   "execution_count": 39,
   "metadata": {},
   "outputs": [
    {
     "data": {
      "text/plain": [
       "'Vi er pÃ¥ Ã\\x85s, et sÃ¦rdeles fint sted i Ã\\x98stnorge.'"
      ]
     },
     "execution_count": 39,
     "metadata": {},
     "output_type": "execute_result"
    }
   ],
   "source": [
    "open('testfile_utf8.txt', encoding='latin1').read()"
   ]
  },
  {
   "cell_type": "code",
   "execution_count": 40,
   "metadata": {},
   "outputs": [
    {
     "data": {
      "text/plain": [
       "b'Vi er p\\xc3\\xa5 \\xc3\\x85s, et s\\xc3\\xa6rdeles fint sted i \\xc3\\x98stnorge.'"
      ]
     },
     "execution_count": 40,
     "metadata": {},
     "output_type": "execute_result"
    }
   ],
   "source": [
    "open('testfile_utf8.txt', mode='rb').read()"
   ]
  },
  {
   "cell_type": "code",
   "execution_count": 41,
   "metadata": {},
   "outputs": [
    {
     "data": {
      "text/plain": [
       "b'Vi er p\\xe5 \\xc5s, et s\\xe6rdeles fint sted i \\xd8stnorge.'"
      ]
     },
     "execution_count": 41,
     "metadata": {},
     "output_type": "execute_result"
    }
   ],
   "source": [
    "open('testfile_latin1.txt', mode='rb').read()"
   ]
  },
  {
   "cell_type": "markdown",
   "metadata": {},
   "source": [
    "#### Line breaks in files\n",
    "- Different operating systems have different conventions\n",
    "    - `LF` (line feed) only (`0x0a`)\n",
    "    - `CR` (carriage return) only (`0x0d`)\n",
    "    - `LF` + `CR`\n",
    "- Python handles this behind the scenes when reading line by line\n",
    "- Files created on other operating systems can sometimes look strange (e.g., no line breaks at all or spurious characters at line endings)"
   ]
  },
  {
   "cell_type": "markdown",
   "metadata": {},
   "source": [
    "## Exception handling\n",
    "In Python, we sometimes have to deal with exceptions. To do that, we have exception handling with the `try-except-else-finally` pattern. Let us look at an example."
   ]
  },
  {
   "cell_type": "code",
   "execution_count": 13,
   "metadata": {},
   "outputs": [
    {
     "name": "stdout",
     "output_type": "stream",
     "text": [
      "a\n"
     ]
    },
    {
     "ename": "ValueError",
     "evalue": "invalid literal for int() with base 10: 'a'",
     "output_type": "error",
     "traceback": [
      "\u001b[0;31m---------------------------------------------------------------------------\u001b[0m",
      "\u001b[0;31mValueError\u001b[0m                                Traceback (most recent call last)",
      "\u001b[0;32m<ipython-input-13-47958765077b>\u001b[0m in \u001b[0;36m<module>\u001b[0;34m\u001b[0m\n\u001b[1;32m      1\u001b[0m \u001b[0mnumber\u001b[0m \u001b[0;34m=\u001b[0m \u001b[0minput\u001b[0m\u001b[0;34m(\u001b[0m\u001b[0;34m)\u001b[0m\u001b[0;34m\u001b[0m\u001b[0;34m\u001b[0m\u001b[0m\n\u001b[0;32m----> 2\u001b[0;31m \u001b[0mprint\u001b[0m\u001b[0;34m(\u001b[0m\u001b[0;34mf'You chose {int(number)}'\u001b[0m\u001b[0;34m)\u001b[0m\u001b[0;34m\u001b[0m\u001b[0;34m\u001b[0m\u001b[0m\n\u001b[0m",
      "\u001b[0;31mValueError\u001b[0m: invalid literal for int() with base 10: 'a'"
     ]
    }
   ],
   "source": [
    "number = input()\n",
    "print(f'You chose {int(number)}')"
   ]
  },
  {
   "cell_type": "code",
   "execution_count": 16,
   "metadata": {},
   "outputs": [
    {
     "name": "stdout",
     "output_type": "stream",
     "text": [
      "a\n",
      "a is not a number.\n"
     ]
    }
   ],
   "source": [
    "try:\n",
    "    number = input()\n",
    "    print(f'You chose {int(number)}')\n",
    "except:\n",
    "    print(f'{number} is not a number.')"
   ]
  },
  {
   "cell_type": "markdown",
   "metadata": {},
   "source": [
    "This is really bad! Why? we are not specifying which exception we want to catch. Let us look at an example"
   ]
  },
  {
   "cell_type": "code",
   "execution_count": 18,
   "metadata": {},
   "outputs": [
    {
     "name": "stdout",
     "output_type": "stream",
     "text": [
      "3\n",
      "3 is not a number.\n"
     ]
    }
   ],
   "source": [
    "import time\n",
    "\n",
    "try:\n",
    "    number = input()\n",
    "    time.sleep(2)\n",
    "    print(f'You chose {int(number)}')\n",
    "except:\n",
    "    print(f'{number} is not a number.')"
   ]
  },
  {
   "cell_type": "markdown",
   "metadata": {},
   "source": [
    "Or worse"
   ]
  },
  {
   "cell_type": "code",
   "execution_count": 23,
   "metadata": {},
   "outputs": [
    {
     "ename": "NameError",
     "evalue": "name 'number' is not defined",
     "output_type": "error",
     "traceback": [
      "\u001b[0;31m---------------------------------------------------------------------------\u001b[0m",
      "\u001b[0;31mKeyboardInterrupt\u001b[0m                         Traceback (most recent call last)",
      "\u001b[0;32m~/anaconda3/lib/python3.7/site-packages/ipykernel/kernelbase.py\u001b[0m in \u001b[0;36m_input_request\u001b[0;34m(self, prompt, ident, parent, password)\u001b[0m\n\u001b[1;32m    877\u001b[0m             \u001b[0;32mtry\u001b[0m\u001b[0;34m:\u001b[0m\u001b[0;34m\u001b[0m\u001b[0;34m\u001b[0m\u001b[0m\n\u001b[0;32m--> 878\u001b[0;31m                 \u001b[0mident\u001b[0m\u001b[0;34m,\u001b[0m \u001b[0mreply\u001b[0m \u001b[0;34m=\u001b[0m \u001b[0mself\u001b[0m\u001b[0;34m.\u001b[0m\u001b[0msession\u001b[0m\u001b[0;34m.\u001b[0m\u001b[0mrecv\u001b[0m\u001b[0;34m(\u001b[0m\u001b[0mself\u001b[0m\u001b[0;34m.\u001b[0m\u001b[0mstdin_socket\u001b[0m\u001b[0;34m,\u001b[0m \u001b[0;36m0\u001b[0m\u001b[0;34m)\u001b[0m\u001b[0;34m\u001b[0m\u001b[0;34m\u001b[0m\u001b[0m\n\u001b[0m\u001b[1;32m    879\u001b[0m             \u001b[0;32mexcept\u001b[0m \u001b[0mException\u001b[0m\u001b[0;34m:\u001b[0m\u001b[0;34m\u001b[0m\u001b[0;34m\u001b[0m\u001b[0m\n",
      "\u001b[0;32m~/anaconda3/lib/python3.7/site-packages/jupyter_client/session.py\u001b[0m in \u001b[0;36mrecv\u001b[0;34m(self, socket, mode, content, copy)\u001b[0m\n\u001b[1;32m    802\u001b[0m         \u001b[0;32mtry\u001b[0m\u001b[0;34m:\u001b[0m\u001b[0;34m\u001b[0m\u001b[0;34m\u001b[0m\u001b[0m\n\u001b[0;32m--> 803\u001b[0;31m             \u001b[0mmsg_list\u001b[0m \u001b[0;34m=\u001b[0m \u001b[0msocket\u001b[0m\u001b[0;34m.\u001b[0m\u001b[0mrecv_multipart\u001b[0m\u001b[0;34m(\u001b[0m\u001b[0mmode\u001b[0m\u001b[0;34m,\u001b[0m \u001b[0mcopy\u001b[0m\u001b[0;34m=\u001b[0m\u001b[0mcopy\u001b[0m\u001b[0;34m)\u001b[0m\u001b[0;34m\u001b[0m\u001b[0;34m\u001b[0m\u001b[0m\n\u001b[0m\u001b[1;32m    804\u001b[0m         \u001b[0;32mexcept\u001b[0m \u001b[0mzmq\u001b[0m\u001b[0;34m.\u001b[0m\u001b[0mZMQError\u001b[0m \u001b[0;32mas\u001b[0m \u001b[0me\u001b[0m\u001b[0;34m:\u001b[0m\u001b[0;34m\u001b[0m\u001b[0;34m\u001b[0m\u001b[0m\n",
      "\u001b[0;32m~/anaconda3/lib/python3.7/site-packages/zmq/sugar/socket.py\u001b[0m in \u001b[0;36mrecv_multipart\u001b[0;34m(self, flags, copy, track)\u001b[0m\n\u001b[1;32m    469\u001b[0m         \"\"\"\n\u001b[0;32m--> 470\u001b[0;31m         \u001b[0mparts\u001b[0m \u001b[0;34m=\u001b[0m \u001b[0;34m[\u001b[0m\u001b[0mself\u001b[0m\u001b[0;34m.\u001b[0m\u001b[0mrecv\u001b[0m\u001b[0;34m(\u001b[0m\u001b[0mflags\u001b[0m\u001b[0;34m,\u001b[0m \u001b[0mcopy\u001b[0m\u001b[0;34m=\u001b[0m\u001b[0mcopy\u001b[0m\u001b[0;34m,\u001b[0m \u001b[0mtrack\u001b[0m\u001b[0;34m=\u001b[0m\u001b[0mtrack\u001b[0m\u001b[0;34m)\u001b[0m\u001b[0;34m]\u001b[0m\u001b[0;34m\u001b[0m\u001b[0;34m\u001b[0m\u001b[0m\n\u001b[0m\u001b[1;32m    471\u001b[0m         \u001b[0;31m# have first part already, only loop while more to receive\u001b[0m\u001b[0;34m\u001b[0m\u001b[0;34m\u001b[0m\u001b[0;34m\u001b[0m\u001b[0m\n",
      "\u001b[0;32mzmq/backend/cython/socket.pyx\u001b[0m in \u001b[0;36mzmq.backend.cython.socket.Socket.recv\u001b[0;34m()\u001b[0m\n",
      "\u001b[0;32mzmq/backend/cython/socket.pyx\u001b[0m in \u001b[0;36mzmq.backend.cython.socket.Socket.recv\u001b[0;34m()\u001b[0m\n",
      "\u001b[0;32mzmq/backend/cython/socket.pyx\u001b[0m in \u001b[0;36mzmq.backend.cython.socket._recv_copy\u001b[0;34m()\u001b[0m\n",
      "\u001b[0;32m~/anaconda3/lib/python3.7/site-packages/zmq/backend/cython/checkrc.pxd\u001b[0m in \u001b[0;36mzmq.backend.cython.checkrc._check_rc\u001b[0;34m()\u001b[0m\n",
      "\u001b[0;31mKeyboardInterrupt\u001b[0m: ",
      "\nDuring handling of the above exception, another exception occurred:\n",
      "\u001b[0;31mKeyboardInterrupt\u001b[0m                         Traceback (most recent call last)",
      "\u001b[0;32m<ipython-input-23-132e524b1464>\u001b[0m in \u001b[0;36m<module>\u001b[0;34m\u001b[0m\n\u001b[1;32m      2\u001b[0m \u001b[0;32mtry\u001b[0m\u001b[0;34m:\u001b[0m\u001b[0;34m\u001b[0m\u001b[0;34m\u001b[0m\u001b[0m\n\u001b[0;32m----> 3\u001b[0;31m     \u001b[0mnumber\u001b[0m \u001b[0;34m=\u001b[0m \u001b[0minput\u001b[0m\u001b[0;34m(\u001b[0m\u001b[0;34m)\u001b[0m\u001b[0;34m\u001b[0m\u001b[0;34m\u001b[0m\u001b[0m\n\u001b[0m\u001b[1;32m      4\u001b[0m     \u001b[0mtime\u001b[0m\u001b[0;34m.\u001b[0m\u001b[0msleep\u001b[0m\u001b[0;34m(\u001b[0m\u001b[0;36m2\u001b[0m\u001b[0;34m)\u001b[0m\u001b[0;34m\u001b[0m\u001b[0;34m\u001b[0m\u001b[0m\n",
      "\u001b[0;32m~/anaconda3/lib/python3.7/site-packages/ipykernel/kernelbase.py\u001b[0m in \u001b[0;36mraw_input\u001b[0;34m(self, prompt)\u001b[0m\n\u001b[1;32m    852\u001b[0m             \u001b[0mself\u001b[0m\u001b[0;34m.\u001b[0m\u001b[0m_parent_header\u001b[0m\u001b[0;34m,\u001b[0m\u001b[0;34m\u001b[0m\u001b[0;34m\u001b[0m\u001b[0m\n\u001b[0;32m--> 853\u001b[0;31m             \u001b[0mpassword\u001b[0m\u001b[0;34m=\u001b[0m\u001b[0;32mFalse\u001b[0m\u001b[0;34m,\u001b[0m\u001b[0;34m\u001b[0m\u001b[0;34m\u001b[0m\u001b[0m\n\u001b[0m\u001b[1;32m    854\u001b[0m         )\n",
      "\u001b[0;32m~/anaconda3/lib/python3.7/site-packages/ipykernel/kernelbase.py\u001b[0m in \u001b[0;36m_input_request\u001b[0;34m(self, prompt, ident, parent, password)\u001b[0m\n\u001b[1;32m    882\u001b[0m                 \u001b[0;31m# re-raise KeyboardInterrupt, to truncate traceback\u001b[0m\u001b[0;34m\u001b[0m\u001b[0;34m\u001b[0m\u001b[0;34m\u001b[0m\u001b[0m\n\u001b[0;32m--> 883\u001b[0;31m                 \u001b[0;32mraise\u001b[0m \u001b[0mKeyboardInterrupt\u001b[0m\u001b[0;34m\u001b[0m\u001b[0;34m\u001b[0m\u001b[0m\n\u001b[0m\u001b[1;32m    884\u001b[0m             \u001b[0;32melse\u001b[0m\u001b[0;34m:\u001b[0m\u001b[0;34m\u001b[0m\u001b[0;34m\u001b[0m\u001b[0m\n",
      "\u001b[0;31mKeyboardInterrupt\u001b[0m: ",
      "\nDuring handling of the above exception, another exception occurred:\n",
      "\u001b[0;31mNameError\u001b[0m                                 Traceback (most recent call last)",
      "\u001b[0;32m<ipython-input-23-132e524b1464>\u001b[0m in \u001b[0;36m<module>\u001b[0;34m\u001b[0m\n\u001b[1;32m      5\u001b[0m     \u001b[0mprint\u001b[0m\u001b[0;34m(\u001b[0m\u001b[0;34mf'You chose {int(number)}'\u001b[0m\u001b[0;34m)\u001b[0m\u001b[0;34m\u001b[0m\u001b[0;34m\u001b[0m\u001b[0m\n\u001b[1;32m      6\u001b[0m \u001b[0;32mexcept\u001b[0m\u001b[0;34m:\u001b[0m\u001b[0;34m\u001b[0m\u001b[0;34m\u001b[0m\u001b[0m\n\u001b[0;32m----> 7\u001b[0;31m     \u001b[0mprint\u001b[0m\u001b[0;34m(\u001b[0m\u001b[0;34mf'{number} is not a number.'\u001b[0m\u001b[0;34m)\u001b[0m\u001b[0;34m\u001b[0m\u001b[0;34m\u001b[0m\u001b[0m\n\u001b[0m",
      "\u001b[0;31mNameError\u001b[0m: name 'number' is not defined"
     ]
    }
   ],
   "source": [
    "del number\n",
    "try:\n",
    "    number = input()\n",
    "    time.sleep(2)\n",
    "    print(f'You chose {int(number)}')\n",
    "except:\n",
    "    print(f'{number} is not a number.')"
   ]
  },
  {
   "cell_type": "markdown",
   "metadata": {},
   "source": [
    "What happened here? Well, stopping code also produces exceptions, and we did not specify which kind of exception we want to catch. Let us specify which exceptions we catch!"
   ]
  },
  {
   "cell_type": "code",
   "execution_count": 27,
   "metadata": {},
   "outputs": [
    {
     "name": "stdout",
     "output_type": "stream",
     "text": [
      "a\n"
     ]
    },
    {
     "ename": "KeyboardInterrupt",
     "evalue": "",
     "output_type": "error",
     "traceback": [
      "\u001b[0;31m---------------------------------------------------------------------------\u001b[0m",
      "\u001b[0;31mKeyboardInterrupt\u001b[0m                         Traceback (most recent call last)",
      "\u001b[0;32m<ipython-input-27-2f8ed39bcc8b>\u001b[0m in \u001b[0;36m<module>\u001b[0;34m\u001b[0m\n\u001b[1;32m      1\u001b[0m \u001b[0;32mtry\u001b[0m\u001b[0;34m:\u001b[0m\u001b[0;34m\u001b[0m\u001b[0;34m\u001b[0m\u001b[0m\n\u001b[1;32m      2\u001b[0m     \u001b[0mnumber\u001b[0m \u001b[0;34m=\u001b[0m \u001b[0minput\u001b[0m\u001b[0;34m(\u001b[0m\u001b[0;34m)\u001b[0m\u001b[0;34m\u001b[0m\u001b[0;34m\u001b[0m\u001b[0m\n\u001b[0;32m----> 3\u001b[0;31m     \u001b[0mtime\u001b[0m\u001b[0;34m.\u001b[0m\u001b[0msleep\u001b[0m\u001b[0;34m(\u001b[0m\u001b[0;36m2\u001b[0m\u001b[0;34m)\u001b[0m\u001b[0;34m\u001b[0m\u001b[0;34m\u001b[0m\u001b[0m\n\u001b[0m\u001b[1;32m      4\u001b[0m     \u001b[0mprint\u001b[0m\u001b[0;34m(\u001b[0m\u001b[0;34mf'You chose {int(number)}'\u001b[0m\u001b[0;34m)\u001b[0m\u001b[0;34m\u001b[0m\u001b[0;34m\u001b[0m\u001b[0m\n\u001b[1;32m      5\u001b[0m \u001b[0;32mexcept\u001b[0m \u001b[0mValueError\u001b[0m\u001b[0;34m:\u001b[0m\u001b[0;34m\u001b[0m\u001b[0;34m\u001b[0m\u001b[0m\n",
      "\u001b[0;31mKeyboardInterrupt\u001b[0m: "
     ]
    }
   ],
   "source": [
    "try:\n",
    "    number = input()\n",
    "    time.sleep(2)\n",
    "    print(f'You chose {int(number)}')\n",
    "except ValueError:\n",
    "    print(f'{number} is not a number.')"
   ]
  },
  {
   "cell_type": "markdown",
   "metadata": {},
   "source": [
    "There is another weakness with exception handling. We might get an exception somewhere we did not anticipate it. We should therefore keep as little code as possible within the try block"
   ]
  },
  {
   "cell_type": "code",
   "execution_count": 29,
   "metadata": {},
   "outputs": [
    {
     "name": "stdout",
     "output_type": "stream",
     "text": [
      "a\n",
      "a is not a number.\n"
     ]
    }
   ],
   "source": [
    "number = input()\n",
    "time.sleep(2)\n",
    "try:\n",
    "    print(f'You chose {int(number)}')\n",
    "except ValueError:\n",
    "    print(f'{number} is not a number.')"
   ]
  },
  {
   "cell_type": "code",
   "execution_count": 31,
   "metadata": {},
   "outputs": [
    {
     "name": "stdout",
     "output_type": "stream",
     "text": [
      "a\n",
      "a is not a number.\n",
      "You chose a\n"
     ]
    }
   ],
   "source": [
    "number = input()\n",
    "time.sleep(2)\n",
    "try:\n",
    "    number = int(number)\n",
    "except ValueError:\n",
    "    print(f'{number} is not a number.')\n",
    "print(f'You chose {number}')"
   ]
  },
  {
   "cell_type": "markdown",
   "metadata": {},
   "source": [
    "This is almost better than the code above, but we need the else block in the `try-except-else-finally` block."
   ]
  },
  {
   "cell_type": "code",
   "execution_count": 32,
   "metadata": {
    "scrolled": true
   },
   "outputs": [
    {
     "name": "stdout",
     "output_type": "stream",
     "text": [
      "a\n",
      "a is not a number.\n"
     ]
    }
   ],
   "source": [
    "number = input()\n",
    "time.sleep(2)\n",
    "try:\n",
    "    number = int(number)\n",
    "except ValueError:\n",
    "    print(f'{number} is not a number.')\n",
    "else:  # If no exception is run\n",
    "    print(f'You chose {number}')"
   ]
  },
  {
   "cell_type": "markdown",
   "metadata": {},
   "source": [
    "The last part of the `try-except-else-finally` block is the finally block, which is always called. It is for example useful in functions"
   ]
  },
  {
   "cell_type": "code",
   "execution_count": 34,
   "metadata": {},
   "outputs": [
    {
     "name": "stdout",
     "output_type": "stream",
     "text": [
      "2\n",
      "You chose 2\n",
      "Some cleanup, for example closing database connections\n"
     ]
    },
    {
     "data": {
      "text/plain": [
       "2"
      ]
     },
     "execution_count": 34,
     "metadata": {},
     "output_type": "execute_result"
    }
   ],
   "source": [
    "def parse_input(number):\n",
    "    try:\n",
    "        number = int(number)\n",
    "    except ValueError:\n",
    "        print(f'{number} is not a number.')\n",
    "        return\n",
    "    else:  # If no exception is run\n",
    "        print(f'You chose {number}')\n",
    "        return number\n",
    "    finally:\n",
    "        print('Some cleanup, for example closing database connections')\n",
    "\n",
    "number = input()\n",
    "time.sleep(2)\n",
    "parse_input(number)"
   ]
  },
  {
   "cell_type": "markdown",
   "metadata": {},
   "source": [
    "## Introduction to EX02\n",
    "\n",
    "### Task A\n",
    "\n",
    "Create file `file_stats.py` and paste the following code into it:\n",
    "\n",
    "```python\n",
    "def char_counts(textfilename):\n",
    "    pass\n",
    "\n",
    "if __name__ == '__main__':\n",
    "\n",
    "    filename = 'file_stats.py'\n",
    "    frequencies = char_counts(filename)\n",
    "    for code in range(256):\n",
    "        if frequencies[code] > 0:\n",
    "            print('{:3}{:>4}{:6}'.format(code,\n",
    "                                         chr(code) if code >= 32 else '',\n",
    "                                         frequencies[code]))\n",
    "```\n",
    "\n",
    "Then write code for the `char_counts()` function that opens the file\n",
    "with the given `filename` using encoding `utf-8` and reads the entire file\n",
    "content into a single string. It shall then count how often each\n",
    "character code (0–255) occurs in the string and return the result as a\n",
    "list or tuple, where `result[i]` gives the number of occurances of\n",
    "charactor code `i`.\n",
    "\n",
    "#### Notes\n",
    "- `ord(c)` returns the numerical value (0–255) representing the character value, while `chr(i)` returns the character represented by numerical value `i`.\n",
    "- This code will work correctly for files containing English characters, as well as most western European characters (all those that have a UTF-8 code less than 256).\n",
    "- It will not work for, e.g., 'サイトマップ' (japansk \"saitomappo\", i.e., \"site map\"), since in this case the UTF-8 character codes are larger than 256:"
   ]
  },
  {
   "cell_type": "code",
   "execution_count": 1,
   "metadata": {},
   "outputs": [
    {
     "data": {
      "text/plain": [
       "[12469, 12452, 12488, 12510, 12483, 12503]"
      ]
     },
     "execution_count": 1,
     "metadata": {},
     "output_type": "execute_result"
    }
   ],
   "source": [
    "[ord(kana) for kana in 'サイトマップ']"
   ]
  },
  {
   "cell_type": "markdown",
   "metadata": {},
   "source": [
    "### Task B\n",
    "\n",
    "Information theory defines an entropy for messages\n",
    "(texts). Essentially, the entropy describes how difficult it is to\n",
    "guess individual letters in a message (see\n",
    "[Wikipedia](http://en.wikipedia.org/wiki/Entropy_%28information_theory%29)),\n",
    "or equivalently, how much information a message carries per letter.\n",
    "\n",
    "- $N$: number of letters in message\n",
    "- $n_i$: number of occurences of letter $i$ ($i$ is the UTF-8 code for the letter)\n",
    "- $p_i = n_i/N$: frequency of the letter in the message\n",
    "\n",
    "Entropy is then defined as\n",
    "\n",
    "$$\n",
    "\tH = - \\sum_i p_i \\log_2 p_i\n",
    "$$\n",
    "\n",
    "- Since $\\lim_{p\\to 0+} p \\log p = 0$, we define $p\\log p=0$, i.e., we drop all terms in the sum for which $p_i=0$.\n",
    "- Since we use the logarithm to base 2, the resulting entropy is measured in bits.\n",
    "\n",
    "For example, if we have the\n",
    "message \"abaa\", then we have $p_{97} = 3/4$, $p_{98} = 1/4$, and $p_i = 0$\n",
    "for all other $i$. Then\n",
    "\n",
    "$$\n",
    "    H = - \\left(\\frac{3}{4} \\log_2 \\frac{3}{4} \n",
    "      + \\frac{1}{4} \\log_2 \\frac{3}{4} \\right) \\text{bit} \\approx 0.81 \\text{bit}.\n",
    "$$\n",
    "\n",
    "Create file `message_entropy.py` and add the `letter_freqs()`\n",
    "function from Excercise 01, Task C; you may use the code from the sample\n",
    "solution.\n",
    "\n",
    "Further add the following code:\n",
    "```python\n",
    "\n",
    "def entropy(message):\n",
    "     pass\n",
    "\n",
    "if __name__ == \"__main__\":\n",
    "    for msg in '', 'aaaa', 'aaba', 'abcd', 'This is a short text.':\n",
    "\t    print('{:25}: {:8.3f} bits'.format(msg, entropy(msg)))\n",
    "```\n",
    "\n",
    "Write code for function `entropy()` that returns the entropy\n",
    "calculated according to the equation above.\n",
    "\n",
    "#### Hints\n",
    "- Since `letter_freq()` collects statistics in a dictionary, it will work for all UTF-8 characters.\n",
    "- In order to compute the entropy, do you need only values of the counts dictionary (the character counts) or do you also need the dictionary keys, i.e., the characters themselves?"
   ]
  },
  {
   "cell_type": "markdown",
   "metadata": {},
   "source": [
    "### Task C\n",
    "\n",
    "[Bubble sort](http://en.wikipedia.org/wiki/Bubble_sort) is a simple sorting algorithm that works as\n",
    "follows. Assume we have a list, and we know how to compare two list\n",
    "elements using \"less than\". We want to sort the list in increasing\n",
    "order, so `[4, 2, 3, 7]` becomes `[2, 3, 4, 7]`. We proceed as\n",
    "follows (I suggest you try this with playing cards first to see how it\n",
    "works):\n",
    "\n",
    "1. Start with the first element in the list, compare it with the\n",
    "   second.\n",
    "1. If they are in wrong order, exchange them.\n",
    "1. Now compare the second and third element and exchange them if\n",
    "   necessary.\n",
    "1. Proceed with third and fourth, fourth and fifth, etc, until you\n",
    "   have compared and, if necessary, swapped the second-last and last\n",
    "   elements.\n",
    "1. At this point, the last element in the list will be the largest\n",
    "    element in the list (why?).\n",
    "1. Now start again from the beginning of the list, but stop once you\n",
    "   reach the second-last element in the list.\n",
    "1. Then, start again from the begining of the list, but stop once you\n",
    "   reach the third-last element in the list, etc, until just the first\n",
    "   and second element are left to compare.\n",
    "\n",
    "Write code for the bubble sort function in the following code fragment\n",
    "(copy the code to your file `bubble_sort.py`).\n",
    "\n",
    "Note: The `bubble_sort()` function shall **not modify** the list or\n",
    "tuple passed to it. It shall return a new list with the data in sorted\n",
    "order.\n",
    "\n",
    "```python\n",
    "def bubble_sort(data):\n",
    "    pass\n",
    "\n",
    "if __name__ == \"__main__\":\n",
    "\n",
    "    for data in ((),\n",
    "                 (1,),\n",
    "                 (1, 3, 8, 12),\n",
    "                 (12, 8, 3, 1),\n",
    "                 (8, 3, 12, 1)):\n",
    "        print('{!s:>15} --> {!s:>15}'.format(data, bubble_sort(data)))\n",
    "```\n",
    "\n",
    "The program should print the data in sorted order."
   ]
  }
 ],
 "metadata": {
  "kernelspec": {
   "display_name": "Python 3",
   "language": "python",
   "name": "python3"
  },
  "language_info": {
   "codemirror_mode": {
    "name": "ipython",
    "version": 3
   },
   "file_extension": ".py",
   "mimetype": "text/x-python",
   "name": "python",
   "nbconvert_exporter": "python",
   "pygments_lexer": "ipython3",
   "version": "3.7.3"
  }
 },
 "nbformat": 4,
 "nbformat_minor": 2
}
