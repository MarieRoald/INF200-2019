{
 "cells": [
  {
   "cell_type": "markdown",
   "metadata": {},
   "source": [
    "## INF200 Lecture No 1\n",
    "\n",
    "### 12September 2018\n",
    "\n",
    "## Lecture resources\n",
    "\n",
    "* The lecture notes will be posted on the course GitHub repo [here](https://github.com/yngvem/INF200-2019)\n",
    "* News will be posted on the course GitHub pages [here](https://yngvem.github.io/INF200-2019)\n",
    "* Problem sheets will be posted on the course exersice repo [here](https://github.com/yngvem/INF200-2019-Exersices)\n",
    "\n",
    "\n",
    "## Today's topics\n",
    "\n",
    "* Introduction and Git\n",
    "* A very brief overview\n",
    "* IPython Notebook Basics\n",
    "* Coding standards: PEP8\n",
    "* Exercises:\n",
    "    - Introduction to EX01\n",
    "* Programming Task: *Clock Patience*\n",
    "\n",
    "## Online Python Tutor\n",
    "\n",
    "* [Online Python Tutor](http://pythontutor.com) is an excellent learning tool\n",
    "* Step through Python code an see what happens\n",
    "\n",
    "## Review of python\n",
    "If you need to review some material from previous modules, see [A Whirlwind Tour of Python by Jake VanderPlas](http://www.oreilly.com/programming/free/a-whirlwind-tour-of-python.csp) by Jake VanderPlas, which is a great introduction to Python."
   ]
  },
  {
   "cell_type": "markdown",
   "metadata": {},
   "source": [
    "### A quick recap on Python\n",
    "\n",
    "We can find the even numbers with a simple for loop"
   ]
  },
  {
   "cell_type": "code",
   "execution_count": 3,
   "metadata": {},
   "outputs": [
    {
     "name": "stdout",
     "output_type": "stream",
     "text": [
      "[0, 2, 4, 6]\n"
     ]
    }
   ],
   "source": [
    "def evens_by_loop(n):\n",
    "    res = []\n",
    "    for k in range(n):\n",
    "        if k % 2 == 0:\n",
    "            res.append(k)\n",
    "    return res\n",
    "\n",
    "print(evens_by_loop(7))"
   ]
  },
  {
   "cell_type": "markdown",
   "metadata": {},
   "source": [
    "- [Run example on Python Tutor Website](http://www.pythontutor.com/visualize.html#code=def%20evens_by_loop%28n%29%3A%0A%20%20%20%20res%20%3D%20%5B%5D%0A%20%20%20%20for%20k%20in%20range%28n%29%3A%0A%20%20%20%20%20%20%20%20if%20k%20%25%202%20%3D%3D%200%3A%0A%20%20%20%20%20%20%20%20%20%20%20%20res.append%28k%29%0A%20%20%20%20return%20res%0A%0Aprint%28evens_by_loop%287%29%29%0A&cumulative=false&curInstr=25&heapPrimitives=false&mode=display&origin=opt-frontend.js&py=3&rawInputLstJSON=%5B%5D&textReferences=false)"
   ]
  },
  {
   "cell_type": "code",
   "execution_count": 4,
   "metadata": {},
   "outputs": [
    {
     "data": {
      "text/html": [
       "<iframe width=\"800\" height=\"500\" frameborder=\"0\" src=\"http://pythontutor.com/iframe-embed.html#code=def%20evens_by_loop%28n%29%3A%0A%20%20%20%20res%20%3D%20%5B%5D%0A%20%20%20%20for%20k%20in%20range%28n%29%3A%0A%20%20%20%20%20%20%20%20if%20k%20%25%202%20%3D%3D%200%3A%0A%20%20%20%20%20%20%20%20%20%20%20%20res.append%28k%29%0A%20%20%20%20return%20res%0A%0Aprint%28evens_by_loop%287%29%29%0A&codeDivHeight=400&codeDivWidth=350&cumulative=false&curInstr=0&heapPrimitives=false&origin=opt-frontend.js&py=3&rawInputLstJSON=%5B%5D&textReferences=false\"> </iframe>\n"
      ],
      "text/plain": [
       "<IPython.core.display.HTML object>"
      ]
     },
     "metadata": {},
     "output_type": "display_data"
    }
   ],
   "source": [
    "%%html\n",
    "<iframe width=\"800\" height=\"500\" frameborder=\"0\" src=\"http://pythontutor.com/iframe-embed.html#code=def%20evens_by_loop%28n%29%3A%0A%20%20%20%20res%20%3D%20%5B%5D%0A%20%20%20%20for%20k%20in%20range%28n%29%3A%0A%20%20%20%20%20%20%20%20if%20k%20%25%202%20%3D%3D%200%3A%0A%20%20%20%20%20%20%20%20%20%20%20%20res.append%28k%29%0A%20%20%20%20return%20res%0A%0Aprint%28evens_by_loop%287%29%29%0A&codeDivHeight=400&codeDivWidth=350&cumulative=false&curInstr=0&heapPrimitives=false&origin=opt-frontend.js&py=3&rawInputLstJSON=%5B%5D&textReferences=false\"> </iframe>\n"
   ]
  },
  {
   "cell_type": "markdown",
   "metadata": {},
   "source": [
    "## Jupyter Notebook Basics\n",
    "\n",
    "* Excellent tool for interactive work with Python\n",
    "* Results are integrated with code in notebook\n",
    "* We can typeset using $\\LaTeX$, for nice equations\n",
    "* See [Fernando Perez' PyCon14 keynote on IPython](http://www.youtube.com/watch?v=2NSbuKFYyvc)\n",
    "* Newer framework for running notebooks: [Jupyter Lab](https://jupyterlab.readthedocs.io/en/stable/)\n",
    "\n",
    "### How Jupyter Notebooks work\n",
    "\n",
    "* In Notebook mode, IPython runs a webserver on your computer (`localhost`)\n",
    "* Your browser connects to the webserver\n",
    "* The webserver runs Python for you (the *kernel*)\n",
    "* The browser sends Python commands to the webserver, gets results back, displays them\n",
    "* Communication between browser and server uses [JSON](http://en.wikipedia.org/wiki/JSON) (JavaScript Object Notation)\n",
    "* Notebooks are stored as `.ipynb` files in JSON format\n",
    "\n",
    "### How to run notebooks\n",
    "\n",
    "* Start the server using Anaconda Navigator or in a Terminal using\n",
    "\n",
    "        jupyter notebook \n",
    "\n",
    "   or\n",
    "   \n",
    "        jupyter lab\n",
    "        \n",
    "* You may want to move to directory with notebook files first\n",
    "* Shut down kernel with `Ctrl-C` after closing all notebooks"
   ]
  },
  {
   "cell_type": "markdown",
   "metadata": {},
   "source": [
    "## The Zen of Python\n",
    "There are many to accomplish the same task when programming, and different languages have different ways that the users prefer. No way is correct, but when we write code, we mainly communicate with other people, and it is therefore a good idea to play according to the established rules in that ecosystem.\n",
    "\n",
    "When we write Python, we try to follow The Zen of Python, which we can see by typing this in the terminal window"
   ]
  },
  {
   "cell_type": "code",
   "execution_count": 5,
   "metadata": {},
   "outputs": [
    {
     "name": "stdout",
     "output_type": "stream",
     "text": [
      "The Zen of Python, by Tim Peters\n",
      "\n",
      "Beautiful is better than ugly.\n",
      "Explicit is better than implicit.\n",
      "Simple is better than complex.\n",
      "Complex is better than complicated.\n",
      "Flat is better than nested.\n",
      "Sparse is better than dense.\n",
      "Readability counts.\n",
      "Special cases aren't special enough to break the rules.\n",
      "Although practicality beats purity.\n",
      "Errors should never pass silently.\n",
      "Unless explicitly silenced.\n",
      "In the face of ambiguity, refuse the temptation to guess.\n",
      "There should be one-- and preferably only one --obvious way to do it.\n",
      "Although that way may not be obvious at first unless you're Dutch.\n",
      "Now is better than never.\n",
      "Although never is often better than *right* now.\n",
      "If the implementation is hard to explain, it's a bad idea.\n",
      "If the implementation is easy to explain, it may be a good idea.\n",
      "Namespaces are one honking great idea -- let's do more of those!\n"
     ]
    }
   ],
   "source": [
    "import this"
   ]
  },
  {
   "cell_type": "markdown",
   "metadata": {},
   "source": [
    "What does this mean? Here we have my interpretation on the first few lines, and a writeup on the rest is [here](https//inventwithpython.com/blog/2018/08/17/the-zen-of-python-explained/)\n",
    "\n",
    "**Beautiful is better than ugly.**\n",
    " * Write code that is esthethically pleasing, whatever that means\n",
    "\n",
    "**Explicit is better than implicit.**\n",
    " * The bitwise not operator ~ can be used for arithmetic. `~x` is equivalent to `-1 - x` if x is an integer\n",
    "\n",
    "**Simple is better than complex.**\n",
    " * For example, we prefer a simple list comprehension over a for loop\n",
    "\n",
    "**Complex is better than complicated.**\n",
    " * However, if the list comprehension is complicated, then we might prefer the loop solutoin\n",
    "\n",
    "**Flat is better than nested.**\n",
    " * If you can avoid indentations, then avoid them. For example, if you have a nested loop, then you can \n",
    "   define a function for the inner loop.\n",
    "\n",
    "**Sparse is better than dense.**\n",
    " * Don't try to cram as much functionality into as few lines of code as possible. It is better to have\n",
    "   many short lines than one immensely long line.\n",
    "\n",
    "**Readability counts.**\n",
    " * Focus on readability not only code efficiency.\n",
    "\n"
   ]
  },
  {
   "cell_type": "markdown",
   "metadata": {},
   "source": [
    "## Readability counts: PEP8\n",
    "\n",
    "We don't write code for a computer, but for other people. Therefore, we should stribe to write code that is easy to understand. To do this, we follow what's called style-guides. Often companies will have their set of rules that all programmers must follow, so that the code I write and the code my colleague writes look similar. In the Python ecosystem, we have benefit of having one universally accepted style-guide: [PEP-8](http://legacy.python.org/dev/peps/pep-0008/).\n",
    "\n",
    "There are tools for automatically formating arbitrary code to follow [PEP-8](http://legacy.python.org/dev/peps/pep-0008/), but these tools are not magical, so if the code is not [PEP-8](http://legacy.python.org/dev/peps/pep-0008/) friendly, then the end-result will even uglier.\n",
    "\n",
    "All code you write in this module must follow PEP-8 to the point. If it does not, then your coursework will not even be considered by our TAs. This is similar to how software development works \"in the real world\". If your code does not follow the company style guides, then they won't be considered.\n",
    "\n",
    "Before the next lecture, I expect all of you to read PEP-8. It is quite short and easy to read.\n",
    "\n",
    "### Some quick notes\n",
    "* Readable code requires clean coding\n",
    "* [Python Enhancement Proposal No 8 (PEP8)](http://legacy.python.org/dev/peps/pep-0008/) provides rules for good Python style\n",
    "* Read PEP8!\n",
    "* In PyCharm, use `Code > Inspect code ...` to have your code checked\n",
    "* Inspect you code often!\n",
    "* Try to understand inspection results and improve your code!\n",
    "\n",
    "### Some important PEP8 rules\n",
    "\n",
    "#### Spacing\n",
    "* Ident by 4 *spaces*, do not use tabs\n",
    "* Avoid lines longer than 79 characters (although this limit is moving up ...)\n",
    "* When wrapping long lines, use parentheses to keep things together\n",
    "* Separate top-level functions by two blank lines\n",
    "* Use UTF-8 encoding by beginning each code file with\n",
    "        # -*- coding: utf-8 -*-\n",
    "* Put imports on separate lines at the top of the file\n",
    "* Be careful and consistent with whitespace (examples from PEP8):\n",
    "        Yes: `spam(ham[1], {eggs: 2})`\n",
    "        No:  `spam( ham[ 1 ], { eggs: 2 } )`\n",
    "        \n",
    "        Yes: \n",
    "            if x == 4:\n",
    "                print(x, y)\n",
    "                x, y = y, x\n",
    "        No:  \n",
    "            if x == 4 :\n",
    "                print(x , y)\n",
    "                x , y = y , x\n",
    "        \n",
    "        Yes: `spam(1)`\n",
    "        No:  `spam (1)`\n",
    "        \n",
    "        Yes: `dct['key'] = lst[index]`\n",
    "        No:  `dct ['key'] = lst [index]`\n",
    "* More *good* examples\n",
    "        i = i + 1\n",
    "        submitted += 1\n",
    "        x = x*2 - 1\n",
    "        hypot2 = x*x + y*y\n",
    "        c = (a+b) * (a-b)\n",
    "        \n",
    "        def complex(real, imag=0.0):\n",
    "            return magic(r=real, i=imag)\n",
    "* More *bad* examples\n",
    "        i=i+1\n",
    "        submitted +=1\n",
    "        x = x * 2 - 1\n",
    "        hypot2 = x * x + y * y\n",
    "        c = (a + b) * (a - b)\n",
    "        \n",
    "        def complex(real, imag = 0.0):\n",
    "            return magic(r = real, i = imag)"
   ]
  },
  {
   "cell_type": "markdown",
   "metadata": {},
   "source": [
    "#### Naming conventions\n",
    "\n",
    "* Never use `l`, `O` or `I` for single-letter names\n",
    "* Module (file) names: short, all lowercase, underscore allowed\n",
    "* Functions: all lowercase, parts separated by underscore (`count_words()`)\n",
    "* Variables: same as function names\n",
    "* Constants: all uppercase, parts separated by underscore (`MAX_WEIGHT`)"
   ]
  },
  {
   "cell_type": "markdown",
   "metadata": {},
   "source": [
    "#### Coding practice\n",
    "* Most examples copied from PEP8\n",
    "* Use `is` and `is not` when testing if something is `None`\n",
    "        Yes:   if foo is None:\n",
    "               if foo is not None:\n",
    "        No:    if foo == None:\n",
    "               if foo != None:\n",
    "               if not foo is None:\n",
    "* Note the difference between testing for `None` and `False`:\n",
    "    * The following will print `---` only if `foo` is `None`\n",
    "            if foo is not None:\n",
    "                print '***'\n",
    "            else:\n",
    "                print '---'\n",
    "    * The following will print `***` if `foo` is `None`, `False`, `0`, `[]`, eller `''`:\n",
    "            if foo:\n",
    "                print '***'\n",
    "            else:\n",
    "                print '---'\n",
    "* Don't compare boolean values to `True` or `False` using `==`.\n",
    "        Yes:   if greeting:\n",
    "        No:    if greeting == True:\n",
    "        Worse: if greeting is True:\n",
    "* For sequences, (strings, lists, tuples), use the fact that empty sequences are false.\n",
    "        Yes: if not seq:\n",
    "             if seq:\n",
    "        \n",
    "        No: if len(seq)\n",
    "            if not len(seq)\n",
    "* Use `''.startswith()` and `''.endswith()` instead of string slicing to check for prefixes or suffixes.\n",
    "        Yes: if foo.startswith('bar'):\n",
    "        No:  if foo[:3] == 'bar':"
   ]
  },
  {
   "cell_type": "markdown",
   "metadata": {},
   "source": [
    "## Clock Patience: A Programming Project\n",
    "### A simplified version\n",
    "\n",
    "**Start**| **Success**\n",
    ":--: | :--:\n",
    "<img src=\"KlokkeKabalStart.jpg\" width=80%> | <img src=\"KlokkeKabalSuccess.jpg\" width=80%>\n"
   ]
  },
  {
   "cell_type": "markdown",
   "metadata": {},
   "source": [
    "### Rules of the game\n",
    "\n",
    "- Standard deck of 52 cards\n",
    "- Special values\n",
    "    - Ace: 1\n",
    "    - Jack: 11\n",
    "    - Queen: 12\n",
    "    - King: 13\n",
    "- Deal one card to each clock position\n",
    "    - Begin at 1 o'clock\n",
    "    - Place 13th card in center\n",
    "- Continue to deal in clockwise order fashion, center last\n",
    "    - If the top card at a position has the same value as the clock position, it is *locked*: the position is skipped when dealing\n",
    "- The game is over if either\n",
    "    - all position are locked\n",
    "    - all cards have been dealt\n",
    "- The game is a success if all positions are locked"
   ]
  },
  {
   "cell_type": "markdown",
   "metadata": {},
   "source": [
    "### Task\n",
    "\n",
    "**Simulate the game to determine the probablity of success.**\n",
    "\n",
    "#### Questions / Suggestions\n",
    "\n",
    "1. Play the game a few times with a real deck of cards.\n",
    "1. Which major parts could you divide the game into?\n",
    "1. How can you represent a playing card in Python?\n",
    "1. How can you create and shuffle a deck of cards?\n",
    "1. How can you represent the stack of cards in Python?\n",
    "1. How can you represent the clock face with its 13 positions?\n",
    "1. How do you test if a position is locked?\n",
    "1. What do you need to do when a position becomes locked?\n",
    "1. How do you check whether the game is finished?\n",
    "1. How do you check whether it was successful?\n",
    "1. How do you keep track of the number of successful games?\n",
    "1. How often do you need to play the game to determine the probability of success?"
   ]
  },
  {
   "cell_type": "markdown",
   "metadata": {},
   "source": [
    "### What we will do\n",
    "\n",
    "- We will discuss and develop code in class\n",
    "- In this way, we will \n",
    "    - explore problem solving approaches\n",
    "    - review basic Python concepts such as\n",
    "        - lists and tuples\n",
    "        - loops and branches\n",
    "        - logical and mathematical expressions\n",
    "        - list comprehensions\n",
    "        - functions\n",
    "    - get to know some of the features of PyCharm\n",
    "    "
   ]
  },
  {
   "cell_type": "code",
   "execution_count": null,
   "metadata": {},
   "outputs": [],
   "source": [
    "def create_deck_of_cards():\n",
    "    pass\n",
    "\n",
    "\n",
    "def create_board():\n",
    "    pass\n",
    "\n",
    "\n",
    "def play_single_round():\n",
    "    pass\n",
    "\n",
    "\n",
    "def check_winning_board():\n",
    "    pass\n"
   ]
  },
  {
   "cell_type": "markdown",
   "metadata": {},
   "source": [
    "# Introduction to EX01\n",
    "\n",
    "- For details, see [task description in the exersices repo](https://github.com/yngvem/INF200-2019-Exersices/blob/master/exersices/ex01.rst)\n",
    "- Deadline: **Friday 20th September, 14.00**\n",
    "- All hand-ins in form of pull request on GitHub\n",
    "- Make sure you use the correct repository, branch, project and file names!\n",
    "- Check that your code passes the \"quality control\" in PyCharm!"
   ]
  },
  {
   "cell_type": "markdown",
   "metadata": {},
   "source": [
    "### Task A: Card deck by list comprehension\n",
    "\n",
    "Filename: `deck_by_comp.py`\n",
    "\n",
    "Create file `deck_by_comp.py` and add the following code to it:\n",
    "\n",
    "```python\n",
    "SUITS = ('C', 'S', 'H', 'D')\n",
    "VALUES = range(1, 14)\n",
    "\n",
    "def deck_loop():\n",
    "    deck = []\n",
    "    for suit in SUITS:\n",
    "        for val in VALUES:\n",
    "            deck.append((suit, val))\n",
    "    return deck\n",
    "\n",
    "def deck_comp():\n",
    "    pass\n",
    "\n",
    "if __name__ == '__main__':\n",
    "    if deck_loop() != deck_comp():\n",
    "        print('ERROR!')\n",
    "```\n",
    "\n",
    "Then write code for the `deck_comp()` function that creates the same\n",
    "list as `deck_loop()` using a *list comprehension*, so that the script\n",
    "will run without reporting an error. A single line of code should\n",
    "suffice."
   ]
  },
  {
   "cell_type": "markdown",
   "metadata": {},
   "source": [
    "### Task B: From comprehension to loop\n",
    "\n",
    "Filename: `comp_to_loop.py`\n",
    "\n",
    "Create file `comp_to_loop.py`, add the following function definition\n",
    "and a main section similar to the one in Task A. Then write a function\n",
    "`squares_by_loop()` that returns the same list as `squares_by_comp()`,\n",
    "but creates the list using a `for`-loop.\n",
    "\n",
    "```python\n",
    "def squares_by_comp(n):\n",
    "    return [k**2 for k in range(n) if k % 3 == 1]\n",
    "```"
   ]
  },
  {
   "cell_type": "markdown",
   "metadata": {},
   "source": [
    "### Task C: Counting letters\n",
    "\n",
    "Filename: `letter_counts.py`\n",
    "\n",
    "Write code for the function `letter_freq()` below, so that the program\n",
    "will print the number of times each letter, digit or symbol appears in\n",
    "the string passed to `letter_freq()`. Case should be ignored, i.e.,\n",
    "all letters counted as lowercase letters.\n",
    "\n",
    "```python\n",
    "def letter_freq(txt):\n",
    "    pass\n",
    "\n",
    "if __name__ == '__main__':\n",
    "    text = input('Please enter text to analyse: ')\n",
    "\n",
    "    frequencies = letter_freq(text)\n",
    "    for letter, count in frequencies.items():\n",
    "        print('{:3}{:10}'.format(letter, count))\n",
    "```\n",
    "\n",
    "A run of this program could look like this:\n",
    "\n",
    "```\n",
    "Please enter text to analyse: Hi, Jim!\n",
    "!           1\n",
    "            1\n",
    "i           2\n",
    "h           1\n",
    "j           1\n",
    "m           1\n",
    ",           1\n",
    "```\n",
    "\n",
    "As an extra challenge, modify the code printing the table so that\n",
    "letters are printed in alphabetical order. You can use one of Python's\n",
    "built in sorting functions and use the ordering provided by that\n",
    "function."
   ]
  },
  {
   "cell_type": "markdown",
   "metadata": {},
   "source": [
    "### Task D: Clean up code\n",
    "\n",
    "Filename: `tidy_code.py`\n",
    "\n",
    "Try to understand what the Python program below does. Then copy the\n",
    "code into file `tidy_code.py`, and make it comprehensible by changing\n",
    "variable and function names, and maybe also reorganise code.\n",
    "\n",
    "```python\n",
    "from random import randint as a\n",
    "\n",
    "__author__ = ''\n",
    "__email__ = '@nmbu.no'\n",
    "\n",
    "\n",
    "def b():\n",
    "    c = 0\n",
    "    while c < 1:\n",
    "        c = int(input('Your guess: '))\n",
    "    return c\n",
    "\n",
    "def d():\n",
    "    return a(1, 6) + a(1, 6)\n",
    "\n",
    "def e(f, g):\n",
    "    return f == g\n",
    "\n",
    "if __name__ == '__main__':\n",
    "\n",
    "    h = False\n",
    "    i = 3\n",
    "    j = d()\n",
    "    while not h and i > 0:\n",
    "        k = b()\n",
    "        h = e(j, k)\n",
    "        if not h:\n",
    "            print('Wrong, try again!')\n",
    "            i -= 1\n",
    "\n",
    "    if i > 0:\n",
    "        print('You won {} points.'.format(i))\n",
    "    else:\n",
    "        print('You lost. Correct answer: {}.'.format(j))\n",
    "```"
   ]
  }
 ],
 "metadata": {
  "kernelspec": {
   "display_name": "Python 3",
   "language": "python",
   "name": "python3"
  },
  "language_info": {
   "codemirror_mode": {
    "name": "ipython",
    "version": 3
   },
   "file_extension": ".py",
   "mimetype": "text/x-python",
   "name": "python",
   "nbconvert_exporter": "python",
   "pygments_lexer": "ipython3",
   "version": "3.7.3"
  }
 },
 "nbformat": 4,
 "nbformat_minor": 2
}
