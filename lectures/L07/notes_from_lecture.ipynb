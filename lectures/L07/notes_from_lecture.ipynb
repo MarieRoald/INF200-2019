{
 "cells": [
  {
   "cell_type": "code",
   "execution_count": 3,
   "metadata": {},
   "outputs": [],
   "source": [
    "class Polygon:\n",
    "    def __init__(self, points):\n",
    "        self.points = [\n",
    "            [float(x), float(y)] for x, y in points\n",
    "        ]"
   ]
  },
  {
   "cell_type": "code",
   "execution_count": 4,
   "metadata": {},
   "outputs": [
    {
     "name": "stdout",
     "output_type": "stream",
     "text": [
      "[[3.0, 5.0], [3.0, 3.0], [4.0, 6.0]]\n"
     ]
    }
   ],
   "source": [
    "p = Polygon([[3, 5], [3, 3], [4, 6]])\n",
    "\n",
    "print(p.points)"
   ]
  },
  {
   "cell_type": "code",
   "execution_count": 11,
   "metadata": {},
   "outputs": [],
   "source": [
    "class Polygon:\n",
    "    def __init__(self, points):\n",
    "        self.points = [\n",
    "            [float(x), float(y)] for x, y in points\n",
    "        ]\n",
    "        self.current_idx = None\n",
    "    \n",
    "    def __len__(self):\n",
    "        return len(self.points)\n",
    "    \n",
    "    def __iter__(self):\n",
    "        print('Initialising iterator')\n",
    "        if self.current_idx is not None:\n",
    "            raise RuntimeError(\n",
    "                'Can only be initialised as an iterator once'\n",
    "            )\n",
    "        self.current_idx = 0\n",
    "        return self\n",
    "    \n",
    "    def __next__(self):\n",
    "        if self.current_idx is None:\n",
    "            raise RuntimeError(\n",
    "                'Cannot call ``next`` before the Polygon is initialised'\n",
    "                ' as an iterator'\n",
    "            )\n",
    "        print(self.current_idx)\n",
    "        if self.current_idx == len(self):\n",
    "            raise StopIteration\n",
    "        \n",
    "        point = self.points[self.current_idx]\n",
    "        self.current_idx += 1\n",
    "        return point"
   ]
  },
  {
   "cell_type": "code",
   "execution_count": 12,
   "metadata": {},
   "outputs": [
    {
     "name": "stdout",
     "output_type": "stream",
     "text": [
      "Initialising iterator\n",
      "0\n",
      "[3.0, 4.0]\n",
      "1\n",
      "[5.0, 7.0]\n",
      "2\n",
      "[3.0, 9.0]\n",
      "3\n"
     ]
    }
   ],
   "source": [
    "p = Polygon([[3, 4], [5, 7], [3, 9]])\n",
    "\n",
    "for point in p:\n",
    "    print(point)"
   ]
  },
  {
   "cell_type": "code",
   "execution_count": 13,
   "metadata": {},
   "outputs": [
    {
     "name": "stdout",
     "output_type": "stream",
     "text": [
      "Initialising iterator\n",
      "0\n",
      "Initialising iterator\n",
      "0\n",
      "[3.0, 4.0] [3.0, 4.0]\n",
      "1\n",
      "[3.0, 4.0] [5.0, 7.0]\n",
      "2\n",
      "[3.0, 4.0] [3.0, 9.0]\n",
      "3\n",
      "3\n"
     ]
    }
   ],
   "source": [
    "for point1 in p:\n",
    "    for point2 in p:\n",
    "        print(point1, point2)"
   ]
  },
  {
   "cell_type": "code",
   "execution_count": 14,
   "metadata": {},
   "outputs": [
    {
     "name": "stdout",
     "output_type": "stream",
     "text": [
      "range(0, 10)\n",
      "<range_iterator object at 0x7fe32cbd8ea0>\n"
     ]
    }
   ],
   "source": [
    "r = range(10)\n",
    "print(r)\n",
    "print(iter(r))"
   ]
  },
  {
   "cell_type": "code",
   "execution_count": 18,
   "metadata": {},
   "outputs": [],
   "source": [
    "class PolygonPointIterator:\n",
    "    def __init__(self, polygon):\n",
    "        self.polygon = polygon\n",
    "        self.idx = None\n",
    "    \n",
    "    def __iter__(self):\n",
    "        if self.idx is not None:\n",
    "            raise RuntimeError()\n",
    "        self.idx = 0\n",
    "        return self\n",
    "    \n",
    "    def __next__(self):\n",
    "        if self.idx is None:\n",
    "            raise RuntimeError()\n",
    "        if self.idx == len(self.polygon):\n",
    "            raise StopIteration\n",
    "        \n",
    "        point = self.polygon.points[self.idx]\n",
    "        self.idx += 1\n",
    "        return point\n",
    "\n",
    "\n",
    "class Polygon:\n",
    "    def __init__(self, points):\n",
    "        self.points = [\n",
    "            [float(x), float(y)] for x, y in points\n",
    "        ]\n",
    "        self.current_idx = None\n",
    "    \n",
    "    def __len__(self):\n",
    "        return len(self.points)\n",
    "    \n",
    "    def __iter__(self):\n",
    "        iterator = PolygonPointIterator(self)\n",
    "        return iter(iterator)"
   ]
  },
  {
   "cell_type": "code",
   "execution_count": 19,
   "metadata": {},
   "outputs": [
    {
     "name": "stdout",
     "output_type": "stream",
     "text": [
      "[3.0, 4.0]\n",
      "[5.0, 7.0]\n",
      "[3.0, 3.0]\n"
     ]
    }
   ],
   "source": [
    "polygon = Polygon([[3, 4], [5, 7], [3, 3]])\n",
    "\n",
    "for point in polygon:\n",
    "    print(point)"
   ]
  },
  {
   "cell_type": "code",
   "execution_count": 20,
   "metadata": {},
   "outputs": [
    {
     "name": "stdout",
     "output_type": "stream",
     "text": [
      "[3.0, 4.0] [3.0, 4.0]\n",
      "[3.0, 4.0] [5.0, 7.0]\n",
      "[3.0, 4.0] [3.0, 3.0]\n",
      "[5.0, 7.0] [3.0, 4.0]\n",
      "[5.0, 7.0] [5.0, 7.0]\n",
      "[5.0, 7.0] [3.0, 3.0]\n",
      "[3.0, 3.0] [3.0, 4.0]\n",
      "[3.0, 3.0] [5.0, 7.0]\n",
      "[3.0, 3.0] [3.0, 3.0]\n"
     ]
    }
   ],
   "source": [
    "for point in polygon:\n",
    "    for point2 in polygon:\n",
    "        print(point, point2)"
   ]
  },
  {
   "cell_type": "code",
   "execution_count": 21,
   "metadata": {},
   "outputs": [],
   "source": [
    "def f(x):\n",
    "    x * 2\n",
    "    "
   ]
  },
  {
   "cell_type": "code",
   "execution_count": 22,
   "metadata": {},
   "outputs": [
    {
     "name": "stdout",
     "output_type": "stream",
     "text": [
      "None\n"
     ]
    }
   ],
   "source": [
    "print(f(3))"
   ]
  },
  {
   "cell_type": "code",
   "execution_count": 23,
   "metadata": {},
   "outputs": [
    {
     "name": "stdout",
     "output_type": "stream",
     "text": [
      "0\n",
      "2\n",
      "4\n",
      "6\n",
      "8\n"
     ]
    }
   ],
   "source": [
    "def even_numbers(n):\n",
    "    for i in range(n):\n",
    "        if i % 2 == 0:\n",
    "            yield i\n",
    "\n",
    "evens = even_numbers(10)\n",
    "\n",
    "for number in evens:\n",
    "    print(number)\n",
    "\n",
    "for number in evens:\n",
    "    print(number)"
   ]
  },
  {
   "cell_type": "code",
   "execution_count": 24,
   "metadata": {},
   "outputs": [
    {
     "name": "stdout",
     "output_type": "stream",
     "text": [
      "0\n",
      "2\n",
      "4\n",
      "6\n",
      "8\n",
      "0\n",
      "2\n",
      "4\n",
      "6\n",
      "8\n"
     ]
    }
   ],
   "source": [
    "for number in even_numbers(10):\n",
    "    print(number)\n",
    "    \n",
    "for number in even_numbers(10):\n",
    "    print(number)"
   ]
  },
  {
   "cell_type": "code",
   "execution_count": 25,
   "metadata": {},
   "outputs": [],
   "source": [
    "def odd_numbers(n):\n",
    "    \"\"\"Yields each odd number less than n.\n",
    "    \"\"\"\n",
    "    number = 0\n",
    "    while True:\n",
    "        if number >= n:\n",
    "            return\n",
    "        if number % 2 == 1:\n",
    "            yield number\n",
    "        number += 1"
   ]
  },
  {
   "cell_type": "code",
   "execution_count": 30,
   "metadata": {},
   "outputs": [
    {
     "name": "stdout",
     "output_type": "stream",
     "text": [
      "Overwriting test.txt\n"
     ]
    }
   ],
   "source": [
    "%%writefile test.txt\n",
    "Hi\n",
    "I hope that you enjoy this lecture\n",
    "\n",
    "Best,\n",
    "Yngve"
   ]
  },
  {
   "cell_type": "code",
   "execution_count": 31,
   "metadata": {},
   "outputs": [
    {
     "name": "stdout",
     "output_type": "stream",
     "text": [
      "'Hi\\n'\n",
      "'I hope that you enjoy this lecture\\n'\n",
      "'\\n'\n",
      "'Best,\\n'\n",
      "'Yngve\\n'\n",
      "''\n",
      "''\n",
      "''\n",
      "''\n",
      "''\n"
     ]
    }
   ],
   "source": [
    "with open('test.txt') as f:\n",
    "    for i in range(10):\n",
    "        print(repr(f.readline()))"
   ]
  },
  {
   "cell_type": "code",
   "execution_count": 32,
   "metadata": {},
   "outputs": [
    {
     "name": "stdout",
     "output_type": "stream",
     "text": [
      "Hi\n",
      "\n",
      "I hope that you enjoy this lecture\n",
      "\n",
      "\n",
      "\n",
      "Best,\n",
      "\n",
      "Yngve\n",
      "\n"
     ]
    }
   ],
   "source": [
    "def iter_lines(file_object):\n",
    "    while True:\n",
    "        line = file_object.readline()\n",
    "        if line == '':\n",
    "            return\n",
    "        yield line\n",
    "\n",
    "with open('test.txt') as f:\n",
    "    for line in iter_lines(f):\n",
    "        print(line)"
   ]
  },
  {
   "cell_type": "code",
   "execution_count": 37,
   "metadata": {
    "scrolled": false
   },
   "outputs": [
    {
     "name": "stdout",
     "output_type": "stream",
     "text": [
      "1\n",
      "3\n",
      "5\n",
      "7\n",
      "9\n"
     ]
    }
   ],
   "source": [
    "def integers():\n",
    "    n = 0\n",
    "    while True:\n",
    "        yield n\n",
    "        n += 1\n",
    "\n",
    "odd_integers = (i for i in integers() if i % 2 == 1)\n",
    "primes = (i for i in integers() if is_prime(i))\n",
    "# is_prime is our function that checks primality\n",
    "\n",
    "for integer in odd_integers:\n",
    "    if integer > 10:\n",
    "        break\n",
    "    print(integer)"
   ]
  },
  {
   "cell_type": "markdown",
   "metadata": {},
   "source": [
    "# Function Currying"
   ]
  },
  {
   "cell_type": "code",
   "execution_count": 38,
   "metadata": {},
   "outputs": [],
   "source": [
    "def multiply(x, y):\n",
    "    return x*y\n",
    "\n",
    "def curried_multiply(x):\n",
    "    def inner_multiply(y):\n",
    "        return x*y\n",
    "    return inner_multiply"
   ]
  },
  {
   "cell_type": "code",
   "execution_count": 39,
   "metadata": {},
   "outputs": [
    {
     "name": "stdout",
     "output_type": "stream",
     "text": [
      "12\n"
     ]
    }
   ],
   "source": [
    "print(multiply(3, 4))"
   ]
  },
  {
   "cell_type": "code",
   "execution_count": 40,
   "metadata": {},
   "outputs": [
    {
     "name": "stdout",
     "output_type": "stream",
     "text": [
      "12\n"
     ]
    }
   ],
   "source": [
    "print(curried_multiply(3)(4))"
   ]
  },
  {
   "cell_type": "code",
   "execution_count": 42,
   "metadata": {},
   "outputs": [
    {
     "name": "stdout",
     "output_type": "stream",
     "text": [
      "15\n",
      "24\n"
     ]
    }
   ],
   "source": [
    "multiply_by_3 = curried_multiply(3)\n",
    "\n",
    "print(multiply_by_3(5))\n",
    "print(multiply_by_3(8))"
   ]
  },
  {
   "cell_type": "code",
   "execution_count": 43,
   "metadata": {},
   "outputs": [],
   "source": [
    "def partial_eval(f, arg):\n",
    "    def partial_f(x):\n",
    "        return f(arg, x)\n",
    "    return partial_f"
   ]
  },
  {
   "cell_type": "code",
   "execution_count": 44,
   "metadata": {},
   "outputs": [
    {
     "name": "stdout",
     "output_type": "stream",
     "text": [
      "12\n"
     ]
    }
   ],
   "source": [
    "multiply_by_4 = partial_eval(multiply, 4)\n",
    "\n",
    "print(multiply_by_4(3))"
   ]
  },
  {
   "cell_type": "code",
   "execution_count": 45,
   "metadata": {},
   "outputs": [
    {
     "name": "stdout",
     "output_type": "stream",
     "text": [
      "15\n"
     ]
    }
   ],
   "source": [
    "from functools import partial\n",
    "\n",
    "multiply_by_5 = partial(multiply, 5)\n",
    "\n",
    "print(multiply_by_5(3))"
   ]
  },
  {
   "cell_type": "code",
   "execution_count": null,
   "metadata": {},
   "outputs": [],
   "source": []
  }
 ],
 "metadata": {
  "kernelspec": {
   "display_name": "Python 3",
   "language": "python",
   "name": "python3"
  },
  "language_info": {
   "codemirror_mode": {
    "name": "ipython",
    "version": 3
   },
   "file_extension": ".py",
   "mimetype": "text/x-python",
   "name": "python",
   "nbconvert_exporter": "python",
   "pygments_lexer": "ipython3",
   "version": "3.7.3"
  }
 },
 "nbformat": 4,
 "nbformat_minor": 2
}
