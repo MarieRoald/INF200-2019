{
 "cells": [
  {
   "cell_type": "markdown",
   "metadata": {},
   "source": [
    "# What is a for loop?\n",
    "\n",
    "These two code blocks do the same"
   ]
  },
  {
   "cell_type": "code",
   "execution_count": 25,
   "metadata": {},
   "outputs": [
    {
     "name": "stdout",
     "output_type": "stream",
     "text": [
      "0\n",
      "1\n",
      "2\n",
      "3\n",
      "4\n",
      "5\n",
      "6\n",
      "7\n",
      "8\n",
      "9\n"
     ]
    }
   ],
   "source": [
    "for i in range(10):\n",
    "    print(i)"
   ]
  },
  {
   "cell_type": "code",
   "execution_count": 86,
   "metadata": {},
   "outputs": [
    {
     "data": {
      "text/plain": [
       "range(0, 10)"
      ]
     },
     "execution_count": 86,
     "metadata": {},
     "output_type": "execute_result"
    }
   ],
   "source": [
    "range(10)"
   ]
  },
  {
   "cell_type": "code",
   "execution_count": 26,
   "metadata": {},
   "outputs": [
    {
     "name": "stdout",
     "output_type": "stream",
     "text": [
      "0\n",
      "1\n",
      "2\n",
      "3\n",
      "4\n",
      "5\n",
      "6\n",
      "7\n",
      "8\n",
      "9\n"
     ]
    }
   ],
   "source": [
    "range_iter = iter(range(10))\n",
    "while True:\n",
    "    try:\n",
    "        i = next(range_iter)\n",
    "    except StopIteration:\n",
    "        break\n",
    "    \n",
    "    print(i)"
   ]
  },
  {
   "cell_type": "markdown",
   "metadata": {},
   "source": [
    "How do we create an iterable object then?"
   ]
  },
  {
   "cell_type": "markdown",
   "metadata": {},
   "source": [
    "## Start with the Polygon class"
   ]
  },
  {
   "cell_type": "code",
   "execution_count": 2,
   "metadata": {},
   "outputs": [],
   "source": [
    "class Polygon:\n",
    "    def __init__(self, points):\n",
    "        \"\"\"Create a polygon from the list of numbers\"\"\"\n",
    "        self.points = [[float(x), float(y)] for x, y in points]\n",
    "\n",
    "    def __repr__(self):\n",
    "        return f\"Polygon with {len(self)} points at {id(self)}\"\n",
    "\n",
    "    def __len__(self):\n",
    "        return len(self.points)\n",
    "\n",
    "    def __getitem__(self, item):\n",
    "        return self.points[item]\n",
    "\n",
    "    def __setitem__(self, item, value):\n",
    "        x, y = value\n",
    "        self.points[item] = [float(x), float(y)]\n",
    "\n",
    "    def __add__(self, value):\n",
    "        x_add, y_add = value\n",
    "        points = [[x + float(x_add), y + float(y_add)] for x, y in self.points]\n",
    "        return Polygon (points)\n",
    "\n",
    "    def __radd__(self, value):\n",
    "        return self + value\n",
    "\n",
    "    def draw(self):\n",
    "        raise NotImplementedError\n",
    "    "
   ]
  },
  {
   "cell_type": "markdown",
   "metadata": {},
   "source": [
    "## Make Polygon into an iterator"
   ]
  },
  {
   "cell_type": "code",
   "execution_count": 9,
   "metadata": {},
   "outputs": [],
   "source": [
    "class Polygon:\n",
    "    def __init__(self, points):\n",
    "        \"\"\"Create a polygon from the list of numbers\"\"\"\n",
    "        self.points = [[float(x), float(y)] for x, y in points]\n",
    "        self.current_idx = None\n",
    "\n",
    "    def __repr__(self):\n",
    "        return f\"Polygon with {len(self)} points at {id(self)}\"\n",
    "\n",
    "    def __len__(self):\n",
    "        return len(self.points)\n",
    "\n",
    "    def __getitem__(self, item):\n",
    "        return self.points[item]\n",
    "\n",
    "    def __setitem__(self, item, value):\n",
    "        x, y = value\n",
    "        self.points[item] = [float(x), float(y)]\n",
    "\n",
    "    def __add__(self, value):\n",
    "        x_add, y_add = value\n",
    "        points = [[x + float(x_add), y + float(y_add)] for x, y in self.points]\n",
    "        return Polygon (points)\n",
    "\n",
    "    def __radd__(self, value):\n",
    "        return self + value\n",
    "\n",
    "    def draw(self):\n",
    "        raise NotImplementedError\n",
    "    \n",
    "    # New part\n",
    "    def __iter__(self):\n",
    "        self.current_idx = 0\n",
    "        return self\n",
    "    \n",
    "    def __next__(self):        \n",
    "        if self.current_idx == len(self):\n",
    "            raise StopIteration\n",
    "\n",
    "        first_point = self[self.current_idx]\n",
    "        second_point = self[(self.current_idx + 1) % len(self)]\n",
    "        self.current_idx += 1\n",
    "        return [first_point, second_point]\n"
   ]
  },
  {
   "cell_type": "code",
   "execution_count": 11,
   "metadata": {},
   "outputs": [
    {
     "name": "stdout",
     "output_type": "stream",
     "text": [
      "[[7.0, 6.0], [3.0, 2.0]]\n",
      "[[7.0, 6.0], [3.0, 2.0]]\n",
      "[[7.0, 6.0], [3.0, 2.0]]\n"
     ]
    }
   ],
   "source": [
    "for line in Polygon([[3, 2], [4, 5], [7, 6]]):\n",
    "    print(i)"
   ]
  },
  {
   "cell_type": "markdown",
   "metadata": {},
   "source": [
    "## Add Iterator class\n",
    "This is not ideal, we don't want the iterator and the object to be the same."
   ]
  },
  {
   "cell_type": "code",
   "execution_count": 31,
   "metadata": {},
   "outputs": [],
   "source": [
    "class PolygonLineIterator:\n",
    "    def __init__(self, polygon):\n",
    "        self.polygon = polygon\n",
    "        self.idx = 0\n",
    "    \n",
    "    def __iter__(self):\n",
    "        return self\n",
    "    \n",
    "    def __next__(self):\n",
    "        if self.idx == len(self.polygon):\n",
    "            raise StopIteration\n",
    "\n",
    "        first_point = self.polygon[self.idx]\n",
    "        second_point = self.polygon[(self.idx + 1) % len(self.polygon)]\n",
    "        self.idx += 1\n",
    "        return [first_point, second_point]\n",
    "\n",
    "class Polygon:\n",
    "    def __init__(self, points):\n",
    "        \"\"\"Create a polygon from the list of numbers\"\"\"\n",
    "        self.points = [[float(x), float(y)] for x, y in points]\n",
    "        self.current_idx = None\n",
    "\n",
    "    def __repr__(self):\n",
    "        return f\"Polygon with {len(self)} points at {id(self)}\"\n",
    "\n",
    "    def __len__(self):\n",
    "        return len(self.points)\n",
    "\n",
    "    def __getitem__(self, item):\n",
    "        return self.points[item]\n",
    "\n",
    "    def __setitem__(self, item, value):\n",
    "        x, y = value\n",
    "        self.points[item] = [float(x), float(y)]\n",
    "\n",
    "    def __add__(self, value):\n",
    "        x_add, y_add = value\n",
    "        points = [[x + float(x_add), y + float(y_add)] for x, y in self.points]\n",
    "        return Polygon(points)\n",
    "\n",
    "    def __radd__(self, value):\n",
    "        return self + value\n",
    "\n",
    "    def draw(self):\n",
    "        raise NotImplementedError\n",
    "    \n",
    "    def __iter__(self):\n",
    "        return iter(PolygonLineIterator(self))"
   ]
  },
  {
   "cell_type": "code",
   "execution_count": 32,
   "metadata": {},
   "outputs": [
    {
     "name": "stdout",
     "output_type": "stream",
     "text": [
      "[[3.0, 2.0], [4.0, 5.0]]\n",
      "[[4.0, 5.0], [7.0, 6.0]]\n",
      "[[7.0, 6.0], [3.0, 2.0]]\n"
     ]
    }
   ],
   "source": [
    "for line in Polygon([[3, 2], [4, 5], [7, 6]]):\n",
    "    print(line)"
   ]
  },
  {
   "cell_type": "markdown",
   "metadata": {},
   "source": [
    "## Add point iterator"
   ]
  },
  {
   "cell_type": "code",
   "execution_count": 33,
   "metadata": {},
   "outputs": [],
   "source": [
    "class PolygonPointIterator:\n",
    "    def __init__(self, polygon):\n",
    "        self.polygon = polygon\n",
    "        self.idx = 0\n",
    "    \n",
    "    def __iter__(self):\n",
    "        return self\n",
    "    \n",
    "    def __next__(self):\n",
    "        if self.idx == len(self.polygon):\n",
    "            raise StopIteration\n",
    "        point = self.polygon[self.idx]\n",
    "        self.idx += 1\n",
    "        return point\n",
    "    \n",
    "class PolygonLineIterator:\n",
    "    def __init__(self, polygon):\n",
    "        self.polygon = polygon\n",
    "        self.idx = 0\n",
    "    \n",
    "    def __iter__(self):\n",
    "        return self\n",
    "    \n",
    "    def __next__(self):\n",
    "        if self.idx == len(self.polygon):\n",
    "            raise StopIteration\n",
    "\n",
    "        first_point = self.polygon[self.idx]\n",
    "        second_point = self.polygon[(self.idx + 1) % len(self.polygon)]\n",
    "        self.idx += 1\n",
    "        return [first_point, second_point]\n",
    "\n",
    "class Polygon:\n",
    "    def __init__(self, points):\n",
    "        \"\"\"Create a polygon from the list of numbers\"\"\"\n",
    "        self.points = [[float(x), float(y)] for x, y in points]\n",
    "        self.current_idx = None\n",
    "\n",
    "    def __repr__(self):\n",
    "        return f\"Polygon with {len(self)} points at {id(self)}\"\n",
    "\n",
    "    def __len__(self):\n",
    "        return len(self.points)\n",
    "\n",
    "    def __getitem__(self, item):\n",
    "        return self.points[item]\n",
    "\n",
    "    def __setitem__(self, item, value):\n",
    "        x, y = value\n",
    "        self.points[item] = [float(x), float(y)]\n",
    "\n",
    "    def __add__(self, value):\n",
    "        x_add, y_add = value\n",
    "        points = [[x + float(x_add), y + float(y_add)] for x, y in self.points]\n",
    "        return Polygon(points)\n",
    "\n",
    "    def __radd__(self, value):\n",
    "        return self + value\n",
    "\n",
    "    def draw(self):\n",
    "        raise NotImplementedError\n",
    "    \n",
    "    def __iter__(self):\n",
    "        return PolygonPointIterator(self)\n",
    "    \n",
    "    def iterlines(self):\n",
    "        return PolygonLineIterator(self)"
   ]
  },
  {
   "cell_type": "code",
   "execution_count": 34,
   "metadata": {},
   "outputs": [
    {
     "name": "stdout",
     "output_type": "stream",
     "text": [
      "[1.0, 2.0]\n",
      "[3.0, 4.0]\n",
      "[5.0, 6.0]\n"
     ]
    }
   ],
   "source": [
    "for point in Polygon([[1, 2], [3, 4], [5, 6]]):\n",
    "    print(point)"
   ]
  },
  {
   "cell_type": "code",
   "execution_count": 35,
   "metadata": {},
   "outputs": [
    {
     "name": "stdout",
     "output_type": "stream",
     "text": [
      "[[1.0, 2.0], [3.0, 4.0]]\n",
      "[[3.0, 4.0], [5.0, 6.0]]\n",
      "[[5.0, 6.0], [1.0, 2.0]]\n"
     ]
    }
   ],
   "source": [
    "for line in Polygon([[1, 2], [3, 4], [5, 6]]).iterlines():\n",
    "    print(line)"
   ]
  },
  {
   "cell_type": "markdown",
   "metadata": {},
   "source": [
    "# Generators and lazy evaluation\n",
    "Generators are another way to create iterators."
   ]
  },
  {
   "cell_type": "code",
   "execution_count": 39,
   "metadata": {},
   "outputs": [
    {
     "name": "stdout",
     "output_type": "stream",
     "text": [
      "0\n",
      "2\n",
      "4\n",
      "6\n",
      "8\n"
     ]
    }
   ],
   "source": [
    "def even_numbers(n):\n",
    "    \"\"\"Returns a list with all even numbers less than n.\n",
    "    \"\"\"\n",
    "    return [number for number in range(n) if number % 2 == 0]\n",
    "\n",
    "\n",
    "for i in even_numbers(10):\n",
    "    print(i)"
   ]
  },
  {
   "cell_type": "markdown",
   "metadata": {},
   "source": [
    "**Problem with this approach:**\n",
    "  * Compute all numbers at once, takes long time in the beginning\n",
    "  * Stores all elements in RAM\n",
    " \n",
    "**Benefits of this approach:**\n",
    "  * Lists are easy to work with\n",
    "  * Can access any number at any time\n",
    "  \n",
    "Alternative: **Generators**"
   ]
  },
  {
   "cell_type": "code",
   "execution_count": 42,
   "metadata": {},
   "outputs": [
    {
     "name": "stdout",
     "output_type": "stream",
     "text": [
      "0\n",
      "2\n",
      "4\n",
      "6\n",
      "8\n"
     ]
    }
   ],
   "source": [
    "def even_numbers_gen(n):\n",
    "    \"\"\"Yields each even number less than n.\n",
    "    \"\"\"\n",
    "    for number in range(n):\n",
    "        if number % 2 == 0:\n",
    "            yield number\n",
    "\n",
    "for i in even_numbers_gen(10):\n",
    "    print(i)"
   ]
  },
  {
   "cell_type": "markdown",
   "metadata": {},
   "source": [
    "#### What happens here?\n",
    "\n",
    "A Generator is a way to create iterables in Python. The code above runs as follows.\n",
    " * First we create a generator, `even_numbers_gen`.\n",
    " * Then, we iterate over it. The first iteration, the code runs til the first `yield` statement.\n",
    "   * Now, number is equal to 0\n",
    " * Then, the yield statement works as if it were a return, and i is set to whatever the generator yields.\n",
    "   * Now i is equal to 0\n",
    " * The code inside the for loop is ran, and once a new iteration starts, the code inside the generator\n",
    "   is run *starting from the yield statment*.\n",
    "   * number starts equal to 0, the inner loop is ran for two iterations before the next yield statment is reached.\n",
    "     number is now equal to 2\n",
    " * After the generator reaches its next yield statement, i is set equal to whatever the generator yielded.\n",
    "   * now i is equal to 2\n",
    "\n",
    "\n",
    "**Benefits of this approach:**\n",
    "  * Only one element in RAM at once\n",
    "  * It is clear that the sequence is meant to be iterated over\n",
    "  \n",
    "**Downsides of this approach:**\n",
    "  * Each iteration takes longer than if the list were precomputed\n",
    "  * Can easily be integrated in classes\n",
    "  \n",
    "### A more common pattern for generators"
   ]
  },
  {
   "cell_type": "code",
   "execution_count": 44,
   "metadata": {},
   "outputs": [
    {
     "name": "stdout",
     "output_type": "stream",
     "text": [
      "1\n",
      "3\n",
      "5\n",
      "7\n",
      "9\n"
     ]
    }
   ],
   "source": [
    "def odd_numbers(n):\n",
    "    \"\"\"Yields each odd number less than n.\n",
    "    \"\"\"\n",
    "    number = 0\n",
    "    while True:\n",
    "        number += 1\n",
    "        if number >= n:\n",
    "            return\n",
    "        elif number % 2 == 1:\n",
    "            yield number\n",
    "\n",
    "for i in odd_numbers(10):\n",
    "    print(i)"
   ]
  },
  {
   "cell_type": "markdown",
   "metadata": {},
   "source": [
    "This pattern lets us iterate over sequences without knowing how long they are.\n",
    "\n",
    "The idea of generators, namely only computing the numbers when needed is called lazy evaluation.\n",
    "\n",
    "\n",
    "### Let us create a useful generator."
   ]
  },
  {
   "cell_type": "code",
   "execution_count": 45,
   "metadata": {},
   "outputs": [
    {
     "name": "stdout",
     "output_type": "stream",
     "text": [
      "Writing file.txt\n"
     ]
    }
   ],
   "source": [
    "%%writefile file.txt\n",
    "hei\n",
    "hallo\n",
    "heisann"
   ]
  },
  {
   "cell_type": "code",
   "execution_count": 55,
   "metadata": {},
   "outputs": [
    {
     "name": "stdout",
     "output_type": "stream",
     "text": [
      "'hei\\n'\n",
      "'hallo\\n'\n",
      "'heisann\\n'\n",
      "''\n",
      "''\n",
      "''\n",
      "''\n",
      "''\n",
      "''\n",
      "''\n"
     ]
    }
   ],
   "source": [
    "with open('file.txt') as f:\n",
    "    for i in range(10):\n",
    "        print(repr(f.readline()))    "
   ]
  },
  {
   "cell_type": "code",
   "execution_count": 57,
   "metadata": {},
   "outputs": [],
   "source": [
    "def iter_lines(file_object):\n",
    "    while True:\n",
    "        line = file_object.readline()\n",
    "        if line == '':\n",
    "            return\n",
    "        yield line"
   ]
  },
  {
   "cell_type": "code",
   "execution_count": 58,
   "metadata": {},
   "outputs": [
    {
     "name": "stdout",
     "output_type": "stream",
     "text": [
      "hei\n",
      "\n",
      "hallo\n",
      "\n",
      "heisann\n",
      "\n"
     ]
    }
   ],
   "source": [
    "with open('file.txt') as f:\n",
    "    for line in iter_lines(f):\n",
    "        print(line)"
   ]
  },
  {
   "cell_type": "markdown",
   "metadata": {},
   "source": [
    "Why is this useful, why can we not simply use `f.readlines()` instead?\n",
    " * `f.readlines()` returns a list of lines, which won't work for really long files."
   ]
  },
  {
   "cell_type": "markdown",
   "metadata": {},
   "source": [
    "## Generator comprehensions\n",
    "\n",
    "We can also have generator comprehensions, akin to list comprehensions"
   ]
  },
  {
   "cell_type": "code",
   "execution_count": 62,
   "metadata": {},
   "outputs": [
    {
     "name": "stdout",
     "output_type": "stream",
     "text": [
      "1\n",
      "3\n",
      "5\n",
      "7\n",
      "9\n"
     ]
    }
   ],
   "source": [
    "def integers():\n",
    "    n = 0\n",
    "    while True:\n",
    "        yield n\n",
    "        n += 1\n",
    "\n",
    "odd_integers = (i for i in integers() if i % 2 == 1)\n",
    "\n",
    "for integer in odd_integers:\n",
    "    if integer > 10:\n",
    "        break\n",
    "    print(integer)"
   ]
  },
  {
   "cell_type": "code",
   "execution_count": 69,
   "metadata": {},
   "outputs": [
    {
     "name": "stdout",
     "output_type": "stream",
     "text": [
      "0\n",
      "1\n",
      "2\n",
      "3\n",
      "5\n",
      "7\n",
      "11\n",
      "13\n",
      "17\n",
      "19\n",
      "23\n",
      "29\n",
      "31\n",
      "37\n",
      "41\n",
      "43\n",
      "47\n"
     ]
    }
   ],
   "source": [
    "def is_prime(n):\n",
    "    for i in range(2, n):\n",
    "        if n % i == 0:\n",
    "            return False\n",
    "    return True\n",
    "\n",
    "\n",
    "primes = (i for i in integers() if is_prime(i))\n",
    "\n",
    "for prime in primes:\n",
    "    if prime > 50:\n",
    "        break\n",
    "    print(prime)"
   ]
  },
  {
   "cell_type": "markdown",
   "metadata": {},
   "source": [
    "## Generators in classes\n",
    "\n",
    "We can use generators instead of the iterator classes we used for the Polygon class"
   ]
  },
  {
   "cell_type": "code",
   "execution_count": 72,
   "metadata": {},
   "outputs": [],
   "source": [
    "class PolygonPointIterator:\n",
    "    def __init__(self, polygon):\n",
    "        self.polygon = polygon\n",
    "        self.idx = 0\n",
    "    \n",
    "    def __iter__(self):\n",
    "        return self\n",
    "    \n",
    "    def __next__(self):\n",
    "        if self.idx == len(self.polygon):\n",
    "            raise StopIteration\n",
    "        point = self.polygon[self.idx]\n",
    "        self.idx += 1\n",
    "        return point\n",
    "\n",
    "\n",
    "class Polygon:\n",
    "    def __init__(self, points):\n",
    "        \"\"\"Create a polygon from the list of numbers\"\"\"\n",
    "        self.points = [[float(x), float(y)] for x, y in points]\n",
    "        self.current_idx = None\n",
    "\n",
    "    def __repr__(self):\n",
    "        return f\"Polygon with {len(self)} points at {id(self)}\"\n",
    "\n",
    "    def __len__(self):\n",
    "        return len(self.points)\n",
    "\n",
    "    def __getitem__(self, item):\n",
    "        return self.points[item]\n",
    "\n",
    "    def __setitem__(self, item, value):\n",
    "        x, y = value\n",
    "        self.points[item] = [float(x), float(y)]\n",
    "\n",
    "    def __add__(self, value):\n",
    "        x_add, y_add = value\n",
    "        points = [[x + float(x_add), y + float(y_add)] for x, y in self.points]\n",
    "        return Polygon(points)\n",
    "\n",
    "    def __radd__(self, value):\n",
    "        return self + value\n",
    "\n",
    "    def draw(self):\n",
    "        raise NotImplementedError\n",
    "    \n",
    "    def __iter__(self):\n",
    "        return PolygonPointIterator(self)\n",
    "    \n",
    "    def iterlines(self):\n",
    "        for idx, point in enumerate(self):\n",
    "            next_point = self[(idx + 1) % len(self)]\n",
    "            yield [point, next_point]"
   ]
  },
  {
   "cell_type": "code",
   "execution_count": 73,
   "metadata": {},
   "outputs": [
    {
     "name": "stdout",
     "output_type": "stream",
     "text": [
      "[[3.0, 4.0], [7.0, 8.0]]\n",
      "[[7.0, 8.0], [3.0, 1.0]]\n",
      "[[3.0, 1.0], [3.0, 4.0]]\n"
     ]
    }
   ],
   "source": [
    "for line in Polygon([[3, 4], [7, 8], [3, 1]]).iterlines():\n",
    "    print(line)"
   ]
  },
  {
   "cell_type": "markdown",
   "metadata": {},
   "source": [
    "## Higher order functions\n",
    "\n",
    "Functions in Python are just like variables. And in the same way that we can modify variables, we can modify functions to. Let us look at an example"
   ]
  },
  {
   "cell_type": "code",
   "execution_count": 77,
   "metadata": {},
   "outputs": [],
   "source": [
    "def add(x, y):\n",
    "    return x + y\n",
    "\n",
    "def multiply(x, y):\n",
    "    return x*y"
   ]
  },
  {
   "cell_type": "code",
   "execution_count": 78,
   "metadata": {},
   "outputs": [],
   "source": [
    "def add_3_to_result(f, x, y):\n",
    "    return f(x, y) + 3\n"
   ]
  },
  {
   "cell_type": "code",
   "execution_count": 80,
   "metadata": {},
   "outputs": [
    {
     "data": {
      "text/plain": [
       "7"
      ]
     },
     "execution_count": 80,
     "metadata": {},
     "output_type": "execute_result"
    }
   ],
   "source": [
    "add_3_to_result(add, 2, 2)"
   ]
  },
  {
   "cell_type": "code",
   "execution_count": 81,
   "metadata": {},
   "outputs": [
    {
     "data": {
      "text/plain": [
       "19"
      ]
     },
     "execution_count": 81,
     "metadata": {},
     "output_type": "execute_result"
    }
   ],
   "source": [
    "add_3_to_result(multiply, 4, 4)"
   ]
  },
  {
   "cell_type": "markdown",
   "metadata": {},
   "source": [
    "Here we have seen our first example of a higher-order function. In Python, a higher order\n",
    "function is a function that either takes a function as input, returns a function, or both.\n",
    "\n",
    "Let us now look at the latter case."
   ]
  },
  {
   "cell_type": "code",
   "execution_count": 82,
   "metadata": {},
   "outputs": [
    {
     "name": "stdout",
     "output_type": "stream",
     "text": [
      "7\n"
     ]
    }
   ],
   "source": [
    "def add_n(n):\n",
    "    def add(x):\n",
    "        return x + n\n",
    "    return add\n",
    "\n",
    "add_3 = add_n(3)\n",
    "print(add_3(4))"
   ]
  },
  {
   "cell_type": "markdown",
   "metadata": {},
   "source": [
    "What happens here? Let us talk about closures.\n",
    "\n",
    "A function has access to the variable in the closure in which it was created. Normally, the\n",
    "closure is the global frame. That is, a function has access to all global variables.\n",
    "\n",
    "When we define a higher-order function, however, the closure is not the global frame, but the\n",
    "frame in which the function was created. Thus, a function has access to all local variables \n",
    "inside the function where it was created, as well as all global variables."
   ]
  },
  {
   "cell_type": "markdown",
   "metadata": {},
   "source": [
    "## Currying\n",
    "\n",
    "This idea let's us use the concept of currying to split the inputs to a function."
   ]
  },
  {
   "cell_type": "code",
   "execution_count": 83,
   "metadata": {},
   "outputs": [
    {
     "name": "stdout",
     "output_type": "stream",
     "text": [
      "6\n",
      "6\n"
     ]
    }
   ],
   "source": [
    "def multiply(x, y):\n",
    "    return x*y\n",
    "\n",
    "def curried_multiply(x):\n",
    "    def local_multiply(y):\n",
    "        return x*y\n",
    "    return local_multiply\n",
    "\n",
    "print(multiply(3, 2))\n",
    "print(curried_multiply(3)(2))"
   ]
  },
  {
   "cell_type": "markdown",
   "metadata": {},
   "source": [
    "Here we see the concept of currying in action. This concept can be very useful, since\n",
    "it allows us to *paritally* apply a function. We saw that in action with the add_n function."
   ]
  },
  {
   "cell_type": "code",
   "execution_count": 88,
   "metadata": {},
   "outputs": [
    {
     "name": "stdout",
     "output_type": "stream",
     "text": [
      "6\n"
     ]
    }
   ],
   "source": [
    "multiply_by_3 = curried_multiply(3)\n",
    "print(multiply_by_3(2))"
   ]
  },
  {
   "cell_type": "markdown",
   "metadata": {},
   "source": [
    "An alternative to Currying is called *partial evaluation*."
   ]
  },
  {
   "cell_type": "code",
   "execution_count": 89,
   "metadata": {},
   "outputs": [
    {
     "name": "stdout",
     "output_type": "stream",
     "text": [
      "12\n"
     ]
    }
   ],
   "source": [
    "def partial_eval(f, arg):\n",
    "    def partial_f(x):\n",
    "        return f(arg, x)\n",
    "    return partial_f\n",
    "\n",
    "multiply_by_4 = partial_eval(multiply, 4)\n",
    "print(multiply_by_4(3))"
   ]
  },
  {
   "cell_type": "markdown",
   "metadata": {},
   "source": [
    "In Python, we also have the builtin `functools` that provides us with a way to partially\n",
    "apply any function, even if we haven't created it the way we did above."
   ]
  },
  {
   "cell_type": "code",
   "execution_count": 90,
   "metadata": {},
   "outputs": [
    {
     "name": "stdout",
     "output_type": "stream",
     "text": [
      "20\n"
     ]
    }
   ],
   "source": [
    "from functools import partial\n",
    "\n",
    "multiply_by_4 = partial(multiply, 4)\n",
    "print(multiply_by_4(5))"
   ]
  },
  {
   "cell_type": "markdown",
   "metadata": {},
   "source": [
    "I reccomend that you use the builtin `partial` function, since it offers more flexibility than our own `partial_eval` function."
   ]
  },
  {
   "cell_type": "code",
   "execution_count": null,
   "metadata": {},
   "outputs": [],
   "source": []
  }
 ],
 "metadata": {
  "kernelspec": {
   "display_name": "Python 3",
   "language": "python",
   "name": "python3"
  },
  "language_info": {
   "codemirror_mode": {
    "name": "ipython",
    "version": 3
   },
   "file_extension": ".py",
   "mimetype": "text/x-python",
   "name": "python",
   "nbconvert_exporter": "python",
   "pygments_lexer": "ipython3",
   "version": "3.7.3"
  }
 },
 "nbformat": 4,
 "nbformat_minor": 2
}
