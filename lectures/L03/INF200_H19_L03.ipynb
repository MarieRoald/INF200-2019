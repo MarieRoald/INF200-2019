{
 "cells": [
  {
   "cell_type": "markdown",
   "metadata": {},
   "source": [
    "# INF200 Lecture No 3\n",
    "\n",
    "### 23 September 2017\n",
    "\n",
    "## Today's topics\n",
    "\n",
    "* Raising exceptions\n",
    "    - Creating code that deals with unwanted input\n",
    "* Testing Python code\n",
    "    - Agile software development\n",
    "    - Tools for testing\n",
    "    - Writing tests\n",
    "    - pytest basics\n",
    "    - A pytest example\n",
    "    - Running pytests in PyCharm"
   ]
  },
  {
   "cell_type": "markdown",
   "metadata": {},
   "source": [
    "## Staying in control\n",
    "\n",
    "#### Background\n",
    "\n",
    "- Computers can solve complex tasks fast\n",
    "- Humans tend to trust in results provided by computers\n",
    "- In some situations, lives depend on computers working correctly\n",
    "- Requires reliable software\n",
    "- Difficult to achieve: we can demonstrate the presence of bugs, proving their absence is (essentially) impossible\n",
    "- Field of software engineering: *Verification* and *Validation*\n",
    "- We look only at essential elements"
   ]
  },
  {
   "cell_type": "markdown",
   "metadata": {},
   "source": [
    "#### Elements of reliable software\n",
    "\n",
    "- Software shall not return incorrect results\n",
    "- Software shall fail in controlled ways \n",
    "- Software shall handle unforseen conditions\n",
    "- Software shall be tested solidly\n",
    "- **Software should fail rather than return incorrect results.**"
   ]
  },
  {
   "cell_type": "markdown",
   "metadata": {},
   "source": [
    "### Exceptions\n",
    "\n",
    "- Exceptions provide more fine-grained control over unexpected situations\n",
    "- Python defines a number of different exception types (see [Python Documentation](https://docs.python.org/3/library/exceptions.html))\n",
    "- The exception types are arranged as a class hierarchy\n",
    "- The diagram shows some of the pre-defined exception types\n",
    "\n",
    "        +-- Exception\n",
    "              +-- StandardError\n",
    "              |    +-- ArithmeticError\n",
    "              |    |    +-- FloatingPointError\n",
    "              |    |    +-- OverflowError\n",
    "              |    |    +-- ZeroDivisionError\n",
    "              |    +-- AssertionError\n",
    "              |    +-- AttributeError\n",
    "              |    +-- EnvironmentError\n",
    "              |    |    +-- IOError\n",
    "              |    +-- EOFError\n",
    "              |    +-- ImportError\n",
    "              |    +-- LookupError\n",
    "              |    |    +-- IndexError\n",
    "              |    |    +-- KeyError\n",
    "              |    +-- NameError\n",
    "              |    +-- RuntimeError\n",
    "              |    |    +-- NotImplementedError\n",
    "              |    +-- SyntaxError\n",
    "              |    |    +-- IndentationError\n",
    "              |    |         +-- TabError\n",
    "              |    +-- SystemError\n",
    "              |    +-- TypeError\n",
    "              |    +-- ValueError\n",
    "              \n",
    "- We can use an exception in our `area()` function\n",
    "    - We `raise` the exception: execution stops here\n",
    "    - The type of exception indicates the kind of problem\n",
    "    - We can provide an error message to be sent to the user\n",
    "    \n",
    "**Let us see this in action with an example**"
   ]
  },
  {
   "cell_type": "code",
   "execution_count": 5,
   "metadata": {},
   "outputs": [],
   "source": [
    "from math import pi\n",
    "\n",
    "\n",
    "def area(radius):\n",
    "    \"\"\"Returns the area of a circle with the specified radius.\n",
    "    \"\"\"\n",
    "    return pi * radius**2"
   ]
  },
  {
   "cell_type": "code",
   "execution_count": 6,
   "metadata": {},
   "outputs": [
    {
     "data": {
      "text/plain": [
       "78.53981633974483"
      ]
     },
     "execution_count": 6,
     "metadata": {},
     "output_type": "execute_result"
    }
   ],
   "source": [
    "area(5)"
   ]
  },
  {
   "cell_type": "code",
   "execution_count": 7,
   "metadata": {},
   "outputs": [
    {
     "data": {
      "text/plain": [
       "3.141592653589793"
      ]
     },
     "execution_count": 7,
     "metadata": {},
     "output_type": "execute_result"
    }
   ],
   "source": [
    "area(1)"
   ]
  },
  {
   "cell_type": "markdown",
   "metadata": {},
   "source": [
    "But what happens if we type in an invalid area?"
   ]
  },
  {
   "cell_type": "code",
   "execution_count": 9,
   "metadata": {},
   "outputs": [
    {
     "data": {
      "text/plain": [
       "3.141592653589793"
      ]
     },
     "execution_count": 9,
     "metadata": {},
     "output_type": "execute_result"
    }
   ],
   "source": [
    "area(-1)"
   ]
  },
  {
   "cell_type": "markdown",
   "metadata": {},
   "source": [
    "We do not want this! Therefore, we check if the radius has a valid value. How do we do this?"
   ]
  },
  {
   "cell_type": "code",
   "execution_count": 30,
   "metadata": {},
   "outputs": [],
   "source": [
    "from math import pi\n",
    "\n",
    "\n",
    "def area(radius):\n",
    "    \"\"\"Returns the area of a circle with the specified radius.\n",
    "    \"\"\"\n",
    "    if radius < 0:\n",
    "        raise ValueError('The radius must be positive when computing the area')\n",
    "    return pi * radius**2"
   ]
  },
  {
   "cell_type": "code",
   "execution_count": 11,
   "metadata": {},
   "outputs": [
    {
     "data": {
      "text/plain": [
       "314.1592653589793"
      ]
     },
     "execution_count": 11,
     "metadata": {},
     "output_type": "execute_result"
    }
   ],
   "source": [
    "area(10)"
   ]
  },
  {
   "cell_type": "code",
   "execution_count": 12,
   "metadata": {},
   "outputs": [
    {
     "ename": "ValueError",
     "evalue": "The radius must be positive when computing the area",
     "output_type": "error",
     "traceback": [
      "\u001b[0;31m---------------------------------------------------------------------------\u001b[0m",
      "\u001b[0;31mValueError\u001b[0m                                Traceback (most recent call last)",
      "\u001b[0;32m<ipython-input-12-d7a07b6dce20>\u001b[0m in \u001b[0;36m<module>\u001b[0;34m\u001b[0m\n\u001b[0;32m----> 1\u001b[0;31m \u001b[0marea\u001b[0m\u001b[0;34m(\u001b[0m\u001b[0;34m-\u001b[0m\u001b[0;36m5\u001b[0m\u001b[0;34m)\u001b[0m\u001b[0;34m\u001b[0m\u001b[0;34m\u001b[0m\u001b[0m\n\u001b[0m",
      "\u001b[0;32m<ipython-input-10-82db039fc6b7>\u001b[0m in \u001b[0;36marea\u001b[0;34m(radius)\u001b[0m\n\u001b[1;32m      6\u001b[0m     \"\"\"\n\u001b[1;32m      7\u001b[0m     \u001b[0;32mif\u001b[0m \u001b[0mradius\u001b[0m \u001b[0;34m<\u001b[0m \u001b[0;36m0\u001b[0m\u001b[0;34m:\u001b[0m\u001b[0;34m\u001b[0m\u001b[0;34m\u001b[0m\u001b[0m\n\u001b[0;32m----> 8\u001b[0;31m         \u001b[0;32mraise\u001b[0m \u001b[0mValueError\u001b[0m\u001b[0;34m(\u001b[0m\u001b[0;34m'The radius must be positive when computing the area'\u001b[0m\u001b[0;34m)\u001b[0m\u001b[0;34m\u001b[0m\u001b[0;34m\u001b[0m\u001b[0m\n\u001b[0m\u001b[1;32m      9\u001b[0m     \u001b[0;32mreturn\u001b[0m \u001b[0mpi\u001b[0m \u001b[0;34m*\u001b[0m \u001b[0mradius\u001b[0m\u001b[0;34m**\u001b[0m\u001b[0;36m2\u001b[0m\u001b[0;34m\u001b[0m\u001b[0;34m\u001b[0m\u001b[0m\n",
      "\u001b[0;31mValueError\u001b[0m: The radius must be positive when computing the area"
     ]
    }
   ],
   "source": [
    "area(-5)"
   ]
  },
  {
   "cell_type": "code",
   "execution_count": 13,
   "metadata": {},
   "outputs": [
    {
     "name": "stdout",
     "output_type": "stream",
     "text": [
      "Radius: 3\n",
      "    Area: 28.274333882308138\n",
      "Radius: -3\n",
      "The radius must be positive when computing the area\n",
      "Radius: \n"
     ]
    },
    {
     "ename": "ValueError",
     "evalue": "could not convert string to float: ",
     "output_type": "error",
     "traceback": [
      "\u001b[0;31m---------------------------------------------------------------------------\u001b[0m",
      "\u001b[0;31mValueError\u001b[0m                                Traceback (most recent call last)",
      "\u001b[0;32m<ipython-input-13-eb663000b3d1>\u001b[0m in \u001b[0;36m<module>\u001b[0;34m\u001b[0m\n\u001b[1;32m      1\u001b[0m \u001b[0;32mwhile\u001b[0m \u001b[0;32mTrue\u001b[0m\u001b[0;34m:\u001b[0m\u001b[0;34m\u001b[0m\u001b[0;34m\u001b[0m\u001b[0m\n\u001b[0;32m----> 2\u001b[0;31m     \u001b[0mr\u001b[0m \u001b[0;34m=\u001b[0m \u001b[0mfloat\u001b[0m\u001b[0;34m(\u001b[0m\u001b[0minput\u001b[0m\u001b[0;34m(\u001b[0m\u001b[0;34m'Radius: '\u001b[0m\u001b[0;34m)\u001b[0m\u001b[0;34m)\u001b[0m\u001b[0;34m\u001b[0m\u001b[0;34m\u001b[0m\u001b[0m\n\u001b[0m\u001b[1;32m      3\u001b[0m     \u001b[0;32mif\u001b[0m \u001b[0mr\u001b[0m \u001b[0;34m==\u001b[0m \u001b[0;36m0\u001b[0m\u001b[0;34m:\u001b[0m\u001b[0;34m\u001b[0m\u001b[0;34m\u001b[0m\u001b[0m\n\u001b[1;32m      4\u001b[0m         \u001b[0;32mbreak\u001b[0m\u001b[0;34m\u001b[0m\u001b[0;34m\u001b[0m\u001b[0m\n\u001b[1;32m      5\u001b[0m     \u001b[0;32mtry\u001b[0m\u001b[0;34m:\u001b[0m\u001b[0;34m\u001b[0m\u001b[0;34m\u001b[0m\u001b[0m\n",
      "\u001b[0;31mValueError\u001b[0m: could not convert string to float: "
     ]
    }
   ],
   "source": [
    "while True:\n",
    "    r = float(input('Radius: '))\n",
    "    if r == 0:\n",
    "        break\n",
    "    try:\n",
    "        print('    Area:', area(r))\n",
    "    except ValueError as err:\n",
    "        print(err)"
   ]
  },
  {
   "cell_type": "markdown",
   "metadata": {},
   "source": [
    "- Or even nicer for the user"
   ]
  },
  {
   "cell_type": "code",
   "execution_count": 16,
   "metadata": {},
   "outputs": [
    {
     "name": "stdout",
     "output_type": "stream",
     "text": [
      "Radius: -2\n",
      "    ERROR: The radius must be positive when computing the area\n",
      "    Please try again!\n",
      "Radius: \n"
     ]
    },
    {
     "ename": "ValueError",
     "evalue": "could not convert string to float: ",
     "output_type": "error",
     "traceback": [
      "\u001b[0;31m---------------------------------------------------------------------------\u001b[0m",
      "\u001b[0;31mValueError\u001b[0m                                Traceback (most recent call last)",
      "\u001b[0;32m<ipython-input-16-5d845c26e4ce>\u001b[0m in \u001b[0;36m<module>\u001b[0;34m\u001b[0m\n\u001b[1;32m      1\u001b[0m \u001b[0;32mwhile\u001b[0m \u001b[0;32mTrue\u001b[0m\u001b[0;34m:\u001b[0m\u001b[0;34m\u001b[0m\u001b[0;34m\u001b[0m\u001b[0m\n\u001b[0;32m----> 2\u001b[0;31m     \u001b[0mr\u001b[0m \u001b[0;34m=\u001b[0m \u001b[0mfloat\u001b[0m\u001b[0;34m(\u001b[0m\u001b[0minput\u001b[0m\u001b[0;34m(\u001b[0m\u001b[0;34m'Radius: '\u001b[0m\u001b[0;34m)\u001b[0m\u001b[0;34m)\u001b[0m\u001b[0;34m\u001b[0m\u001b[0;34m\u001b[0m\u001b[0m\n\u001b[0m\u001b[1;32m      3\u001b[0m     \u001b[0;32mif\u001b[0m \u001b[0mr\u001b[0m \u001b[0;34m==\u001b[0m \u001b[0;36m0\u001b[0m\u001b[0;34m:\u001b[0m\u001b[0;34m\u001b[0m\u001b[0;34m\u001b[0m\u001b[0m\n\u001b[1;32m      4\u001b[0m         \u001b[0;32mbreak\u001b[0m\u001b[0;34m\u001b[0m\u001b[0;34m\u001b[0m\u001b[0m\n\u001b[1;32m      5\u001b[0m     \u001b[0;32mtry\u001b[0m\u001b[0;34m:\u001b[0m\u001b[0;34m\u001b[0m\u001b[0;34m\u001b[0m\u001b[0m\n",
      "\u001b[0;31mValueError\u001b[0m: could not convert string to float: "
     ]
    }
   ],
   "source": [
    "while True:\n",
    "    r = float(input('Radius: '))\n",
    "    if r == 0:\n",
    "        break\n",
    "    try:\n",
    "        print('    Area:', area(r))\n",
    "    except ValueError as err:\n",
    "        print('    ERROR: {}\\n    Please try again!'.format(err))"
   ]
  },
  {
   "cell_type": "markdown",
   "metadata": {},
   "source": [
    "### Testing your code\n",
    "When we program, we make mistakes. These mistakes can be devastating in real-world applications. For example, patients might be given a lethal dose of ionising radiation during radiotherapy, as was the case with the [Therac-25](https://en.wikipedia.org/wiki/Therac-25) scandal. In this scandal, a concurrent programming error led to patients given too high dose, an error that could be avoided if they had tested that the code gave the same results with different number of threads.\n",
    "\n",
    "The Therac-25 scandal illustrates why having automated testing routines are important. It is difficult to imagine all edge cases and possible bugs when you are writing the code. Therefore, we usually write separate programs whose sole goal is to test our code.\n",
    "\n",
    "When we write these test programs, we separate between three kinds of tests\n",
    " * Unit tests\n",
    "   - Tests that a single unit (often function) of code behaves correctly.\n",
    " * Integration test\n",
    "   - Tests that the system as a whole works.\n",
    " * Regression tests\n",
    "   - Tests for bugs that are discovered during or after the development process.\n",
    "   - These are kept around after the bugs are fixed to ensure that the bugs don't return (regress) if we change the code later.\n",
    "In this course, we will focus on unit testing, which are also the main part of test driven development. Integration testing is also important, but are generally harder to write efficiently.\n",
    "\n",
    "\n",
    "Let us write some tests!\n"
   ]
  },
  {
   "cell_type": "code",
   "execution_count": 26,
   "metadata": {
    "collapsed": true
   },
   "outputs": [],
   "source": [
    "def test_area_is_pi_for_radius_one():\n",
    "    # Test om arealet er pi hvis radiusen er en\n"
   ]
  },
  {
   "cell_type": "markdown",
   "metadata": {},
   "source": [
    "But how do we test this? We use assertions. Let us see what an assertion is below."
   ]
  },
  {
   "cell_type": "code",
   "execution_count": 17,
   "metadata": {},
   "outputs": [],
   "source": [
    "assert True"
   ]
  },
  {
   "cell_type": "markdown",
   "metadata": {},
   "source": [
    "The assertion statement takes a boolean expression and does nothing so long as it is `True`. However, if it is `False`, it raises an error"
   ]
  },
  {
   "cell_type": "code",
   "execution_count": 18,
   "metadata": {},
   "outputs": [
    {
     "ename": "AssertionError",
     "evalue": "",
     "output_type": "error",
     "traceback": [
      "\u001b[0;31m---------------------------------------------------------------------------\u001b[0m",
      "\u001b[0;31mAssertionError\u001b[0m                            Traceback (most recent call last)",
      "\u001b[0;32m<ipython-input-18-a871fdc9ebee>\u001b[0m in \u001b[0;36m<module>\u001b[0;34m\u001b[0m\n\u001b[0;32m----> 1\u001b[0;31m \u001b[0;32massert\u001b[0m \u001b[0;32mFalse\u001b[0m\u001b[0;34m\u001b[0m\u001b[0;34m\u001b[0m\u001b[0m\n\u001b[0m",
      "\u001b[0;31mAssertionError\u001b[0m: "
     ]
    }
   ],
   "source": [
    "assert False"
   ]
  },
  {
   "cell_type": "markdown",
   "metadata": {},
   "source": [
    "We can also write an error message"
   ]
  },
  {
   "cell_type": "code",
   "execution_count": 19,
   "metadata": {},
   "outputs": [
    {
     "ename": "AssertionError",
     "evalue": "Some error message!",
     "output_type": "error",
     "traceback": [
      "\u001b[0;31m---------------------------------------------------------------------------\u001b[0m",
      "\u001b[0;31mAssertionError\u001b[0m                            Traceback (most recent call last)",
      "\u001b[0;32m<ipython-input-19-59994a1ce39f>\u001b[0m in \u001b[0;36m<module>\u001b[0;34m\u001b[0m\n\u001b[0;32m----> 1\u001b[0;31m \u001b[0;32massert\u001b[0m \u001b[0;32mFalse\u001b[0m\u001b[0;34m,\u001b[0m \u001b[0;34m'Some error message!'\u001b[0m\u001b[0;34m\u001b[0m\u001b[0;34m\u001b[0m\u001b[0m\n\u001b[0m",
      "\u001b[0;31mAssertionError\u001b[0m: Some error message!"
     ]
    }
   ],
   "source": [
    "assert False, 'Some error message!'"
   ]
  },
  {
   "cell_type": "markdown",
   "metadata": {},
   "source": [
    "Let us now write the test we started with above."
   ]
  },
  {
   "cell_type": "code",
   "execution_count": 22,
   "metadata": {},
   "outputs": [],
   "source": [
    "def test_area_is_pi_for_radius_one():\n",
    "    assert area(1) == pi"
   ]
  },
  {
   "cell_type": "code",
   "execution_count": 23,
   "metadata": {},
   "outputs": [],
   "source": [
    "test_area_is_pi_for_radius_one()"
   ]
  },
  {
   "cell_type": "markdown",
   "metadata": {},
   "source": [
    "Nothing happens! This is supposed to happen in tests. If they pass, nothing happens, and if they fail, an assertion error is raised."
   ]
  },
  {
   "cell_type": "code",
   "execution_count": 32,
   "metadata": {},
   "outputs": [],
   "source": [
    "old_area = area  # We can assign variables to be equal to functions\n",
    "\n",
    "def area(radius):  # We can redefine functions, but this does not affect the variable above.\n",
    "    return 1"
   ]
  },
  {
   "cell_type": "code",
   "execution_count": 31,
   "metadata": {},
   "outputs": [],
   "source": [
    "test_area_is_pi_for_radius_one()"
   ]
  },
  {
   "cell_type": "code",
   "execution_count": 33,
   "metadata": {},
   "outputs": [],
   "source": [
    "area = old_area"
   ]
  },
  {
   "cell_type": "code",
   "execution_count": 34,
   "metadata": {},
   "outputs": [],
   "source": [
    "test_area_is_pi_for_radius_one()"
   ]
  },
  {
   "cell_type": "markdown",
   "metadata": {},
   "source": [
    "### Test runners\n",
    "\n",
    "By itself, these tests seem useless, but that is because we are not supposed to run them ourselves. Instead, we use a test framework to run all our tests automatically! The test framework that we will use is called pytest, and is the current standard for Python testing. Other famous (but not as good) test frameworks are nose (another package, quite good but verbose) and unittest (Python builtin, quite outdated).\n",
    "\n",
    "Let us open PyCharm and have a go at testing in Python."
   ]
  },
  {
   "cell_type": "markdown",
   "metadata": {},
   "source": [
    "### test_deck_by_comp.py"
   ]
  },
  {
   "cell_type": "code",
   "execution_count": 35,
   "metadata": {},
   "outputs": [],
   "source": [
    "from ..deck_by_comp import deck_comp\n",
    "\n",
    "\n",
    "def test_deck_of_cards_have_52_cards():\n",
    "    assert len(deck_comp()) == 52\n",
    "\n",
    "\n",
    "def test_deck_of_cards_have_four_suits():\n",
    "    deck = deck_comp()\n",
    "    suits = {suit for suit, value in deck}  # Set, like a list, but all duplicates are deleted\n",
    "    assert len(suits) == 4\n",
    "\n",
    "\n",
    "def test_deck_of_cards_have_13_values():\n",
    "    deck = deck_comp()\n",
    "    values = {value for suit, value in deck}\n",
    "    assert len(values) == 13\n"
   ]
  },
  {
   "cell_type": "markdown",
   "metadata": {},
   "source": [
    "### Some rules for writing tests\n",
    " - Your tests should not fail if the code works.\n",
    " - The fact that all tests are passing is *not* a guarantee for everything to be correct.\n",
    " - It is always better to have some ok tests not to have the perfect test\n",
    " \n",
    "## Test driven development (TDD)\n",
    "Test driven development is a particular framework for writing code. The idea is to write the tests first, and then write the code. There are several reasons for why this is a good idea.\n",
    "\n",
    "Firstly, if you write the code first, then you will never write the tests, or if you do, they will probably not be very good. However, to write the tests, you need to know how the code should work. Thus, writing tests first ensures two things, firstly, that you get unit tests, and secondly, that you plan your code before you start programming.\n",
    "\n",
    "Both these advantages give clear benefits to writing the code first. Moreover, if you write the tests first, then you might realise that the problem is more difficult than you first thought and you might realise that there are more requirements to the problem than you first thought. I therefore very much reccomend writing code following TDD.\n",
    "\n",
    "### Agile software development\n",
    "Agile software development is a \"modern\" (from 2001) style of software development, in which the focus is on writing code that works fast and then updating it consistently. For Agile to work, we need a strong focus on testing, which is why TDD is a part of Agile software development.\n",
    "\n",
    "### Continuous integration (CI)\n",
    "Continuous integration is a tool where the tests are run whenever we either push code to a remote repository or when we submit a pull request. See, for example, [this](https://github.com/yngvem/group-lasso) project. Whenever I push code to this project, the CI system that I use, [TravisCI](https://travis-ci.org/), will run all the unit tests automatically for me, ensuring that the code works on other computers than my own.\n",
    "\n",
    "### Test coverage\n",
    "A metric to look at when we are testing code is the test coverage, which is the percentage of code lines that are being tested by the test suite. Similar to TravisCI, there are tools that will automatically test how many percentages of your code lines that were tested. One such tool is [Coveralls](https://coveralls.io/), which you can also see in [this](https://github.com/yngvem/group-lasso) project."
   ]
  },
  {
   "cell_type": "markdown",
   "metadata": {},
   "source": [
    "### Live coding\n",
    "Let us now make some more tests for the first coursework problem"
   ]
  },
  {
   "cell_type": "markdown",
   "metadata": {},
   "source": [
    "### test_loop_to_comp.py"
   ]
  },
  {
   "cell_type": "code",
   "execution_count": 1,
   "metadata": {},
   "outputs": [],
   "source": [
    "from ..comp_to_loop import squares_by_loop\n",
    "from math import sqrt\n",
    "\n",
    "\n",
    "def test_zero_input_yields_length_zero():\n",
    "    assert len(squares_by_loop(0)) == 0\n",
    "\n",
    "\n",
    "def test_correct_number_of_outputs():\n",
    "    assert len(squares_by_loop(0)) == 0\n",
    "    assert len(squares_by_loop(1)) == 0\n",
    "    assert len(squares_by_loop(2)) == 1\n",
    "\n",
    "\n",
    "def is_square(x):\n",
    "    return abs(sqrt(x) - int(sqrt(x))) < 1e-10\n",
    "\n",
    "\n",
    "def test_squares_by_loop_produces_squares():\n",
    "    for number in squares_by_loop(50):\n",
    "        assert is_square(number)"
   ]
  },
  {
   "cell_type": "markdown",
   "metadata": {},
   "source": [
    "### test_letter_freq.py"
   ]
  },
  {
   "cell_type": "code",
   "execution_count": 2,
   "metadata": {},
   "outputs": [],
   "source": [
    "from ..letter_counts import letter_freq\n",
    "\n",
    "\n",
    "def test_letter_freq_counts_on_sample_strings():\n",
    "    count = letter_freq('a')\n",
    "    assert count['a'] == 1\n",
    "\n",
    "    count = letter_freq('aa')\n",
    "    assert count['a'] == 2\n",
    "\n",
    "    count = letter_freq('ab')\n",
    "    assert count['a'] == 1\n",
    "    assert count['b'] == 1"
   ]
  }
 ],
 "metadata": {
  "kernelspec": {
   "display_name": "Python 3",
   "language": "python",
   "name": "python3"
  },
  "language_info": {
   "codemirror_mode": {
    "name": "ipython",
    "version": 3
   },
   "file_extension": ".py",
   "mimetype": "text/x-python",
   "name": "python",
   "nbconvert_exporter": "python",
   "pygments_lexer": "ipython3",
   "version": "3.7.3"
  }
 },
 "nbformat": 4,
 "nbformat_minor": 2
}
