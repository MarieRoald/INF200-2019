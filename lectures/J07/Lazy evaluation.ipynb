{
 "cells": [
  {
   "cell_type": "markdown",
   "metadata": {},
   "source": [
    "## Lazy evaluation example"
   ]
  },
  {
   "cell_type": "code",
   "execution_count": 9,
   "metadata": {},
   "outputs": [],
   "source": [
    "import numpy as np\n",
    "import math"
   ]
  },
  {
   "cell_type": "markdown",
   "metadata": {},
   "source": [
    "### Without optimising"
   ]
  },
  {
   "cell_type": "code",
   "execution_count": 12,
   "metadata": {},
   "outputs": [],
   "source": [
    "class Human:\n",
    "    def __init__(self):\n",
    "        self.is_zombie = False\n",
    "        self.age = 0\n",
    "\n",
    "    @property\n",
    "    def health(self):\n",
    "        if self.is_zombie:\n",
    "            middle_aged_at = 2\n",
    "        else:\n",
    "            middle_aged_at = 40\n",
    "        \n",
    "        return 1 / (1 + math.exp(middle_aged_at - self.age))\n",
    "\n",
    "    \n",
    "\n",
    "    "
   ]
  },
  {
   "cell_type": "code",
   "execution_count": 13,
   "metadata": {},
   "outputs": [
    {
     "name": "stdout",
     "output_type": "stream",
     "text": [
      " "
     ]
    }
   ],
   "source": [
    "%%prun\n",
    "\n",
    "humans = [Human() for _ in range(1000)]\n",
    "for _ in range(5000):\n",
    "    for human in humans:\n",
    "        health = human.health + 2"
   ]
  },
  {
   "cell_type": "markdown",
   "metadata": {},
   "source": [
    "### With optimising\n",
    "Less calculation calls and thereby faster execution"
   ]
  },
  {
   "cell_type": "code",
   "execution_count": 14,
   "metadata": {},
   "outputs": [],
   "source": [
    "class Human:\n",
    "    def __init__(self):\n",
    "        self._is_zombie = False\n",
    "        self.age = 0\n",
    "        self._recompute_health = True\n",
    "\n",
    "    @property\n",
    "    def health(self):\n",
    "        if self._recompute_health:\n",
    "            if self.is_zombie:\n",
    "                middle_aged_at = 2\n",
    "            else:\n",
    "                middle_aged_at = 40\n",
    "            \n",
    "            self._health = 1 / (1 + math.exp(middle_aged_at - self.age))\n",
    "            self._recompute_health = False\n",
    "        return self._health\n",
    "\n",
    "    @property\n",
    "    def is_zombie(self):\n",
    "        return self._is_zombie\n",
    "\n",
    "    @is_zombie.setter\n",
    "    def is_zombie(self, value):\n",
    "        self._recompute_health = True\n",
    "        self._is_zombie = value\n",
    "        \n",
    "    @property\n",
    "    def age(self):\n",
    "        return self._age\n",
    "\n",
    "    @age.setter\n",
    "    def age(self, value):\n",
    "        self._recompute_health = True\n",
    "        self._age = value\n"
   ]
  },
  {
   "cell_type": "code",
   "execution_count": 15,
   "metadata": {},
   "outputs": [
    {
     "name": "stdout",
     "output_type": "stream",
     "text": [
      " "
     ]
    }
   ],
   "source": [
    "%%prun\n",
    "\n",
    "humans = [Human() for _ in range(1000)]\n",
    "for _ in range(5000):\n",
    "    for human in humans:\n",
    "        health = human.health + 2"
   ]
  }
 ],
 "metadata": {
  "kernelspec": {
   "display_name": "Python 3",
   "language": "python",
   "name": "python3"
  },
  "language_info": {
   "codemirror_mode": {
    "name": "ipython",
    "version": 3
   },
   "file_extension": ".py",
   "mimetype": "text/x-python",
   "name": "python",
   "nbconvert_exporter": "python",
   "pygments_lexer": "ipython3",
   "version": "3.7.4"
  }
 },
 "nbformat": 4,
 "nbformat_minor": 2
}
