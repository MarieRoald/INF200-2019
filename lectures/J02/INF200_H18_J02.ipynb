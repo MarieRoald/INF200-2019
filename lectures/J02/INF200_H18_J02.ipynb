{
 "cells": [
  {
   "cell_type": "markdown",
   "metadata": {},
   "source": [
    "# INF200 Lecture No J02\n",
    "### Hans Ekkehard Plesser / NMBU\n",
    "### 7 January 2019\n",
    "\n",
    "## Today's topics\n",
    "- Class, static, private methods\n",
    "- Repetition: Mutables as default arguments\n",
    "- Team repositories and branches"
   ]
  },
  {
   "cell_type": "markdown",
   "metadata": {},
   "source": [
    "## Class methods"
   ]
  },
  {
   "cell_type": "markdown",
   "metadata": {},
   "source": [
    "- Methods usually work on individual objects\n",
    "- Sometimes, it can be useful to do things at a class level\n",
    "- Examples\n",
    "    - count number of instances of a class\n",
    "    - set parameters that apply to all members of a class\n",
    "- We can achieve this by writing *class methods*\n",
    "- A method becomes a class method by adding the `@classmethod` decorator\n",
    "- The `self` argument is replaced by `cls` in class methods"
   ]
  },
  {
   "cell_type": "code",
   "execution_count": 5,
   "metadata": {},
   "outputs": [
    {
     "name": "stdout",
     "output_type": "stream",
     "text": [
      "Number of trucks: 3\n",
      "Total weight: 1600\n",
      "Total weight: 2000\n",
      "Total weight: 2500\n",
      "New empty weight\n",
      "Total weight: 2100\n",
      "Total weight: 2500\n",
      "Total weight: 3000\n",
      "New empty weight\n",
      "Total weight: 900\n",
      "Total weight: 2500\n",
      "Total weight: 3000\n"
     ]
    }
   ],
   "source": [
    "class Truck:\n",
    "    \n",
    "    instance_count = 0       # number of trucks\n",
    "    weight_empty = 1000      # weight of empty truck\n",
    "    \n",
    "    @classmethod\n",
    "    def count_new_truck(cls):\n",
    "        cls.instance_count += 1\n",
    "        \n",
    "    @classmethod\n",
    "    def num_trucks(cls):\n",
    "        return cls.instance_count\n",
    "    \n",
    "    @classmethod\n",
    "    def set_weight_empty(cls, we):\n",
    "        cls.weight_empty = we\n",
    "        \n",
    "    def __init__(self, load):\n",
    "        self._load = load\n",
    "        self.count_new_truck()\n",
    "        \n",
    "    def total_weight(self):\n",
    "        return self._load + self.weight_empty\n",
    "    \n",
    "Truck.set_weight_empty(1500)\n",
    "trucks = [Truck(load) for load in [100, 500, 1000]]\n",
    "print(\"Number of trucks:\", Truck.num_trucks())\n",
    "\n",
    "for truck in trucks:\n",
    "    print(\"Total weight:\", truck.total_weight())\n",
    "\n",
    "print(\"New empty weight\")\n",
    "Truck.set_weight_empty(2000)\n",
    "for truck in trucks:\n",
    "    print(\"Total weight:\", truck.total_weight())\n",
    "\n",
    "trucks[0].weight_empty = 800\n",
    "\n",
    "print(\"New empty weight\")\n",
    "Truck.set_weight_empty(2000)\n",
    "for truck in trucks:\n",
    "    print(\"Total weight:\", truck.total_weight())\n"
   ]
  },
  {
   "cell_type": "markdown",
   "metadata": {},
   "source": [
    "Note the following:\n",
    "\n",
    "- We can access class attributes through `self`\n",
    "- When counting new trucks, we must make sure that we update the class attribute `instance_count`,  not create an `instance_count` attribute in the instance created. Therefore, we use the *class* method `count_new_truck()`.\n",
    "- When calling `self.count_new_truck()`, Python automatically makes sure that the class of `self`,  not `self` is passed as parameter `cls`."
   ]
  },
  {
   "cell_type": "markdown",
   "metadata": {},
   "source": [
    "### Class methods and inheritance\n",
    "\n",
    "- The `cls` argument passed to a class method is always the concrete class of the object on which the class method is called"
   ]
  },
  {
   "cell_type": "code",
   "execution_count": 8,
   "metadata": {},
   "outputs": [],
   "source": [
    "class A:\n",
    "    _info = None\n",
    "    \n",
    "    @classmethod\n",
    "    def print_info(cls):\n",
    "        print(\"Class info:\", cls._info)\n",
    "        \n",
    "    def display(self):\n",
    "        print(\"Displaying ...\", end=' ')\n",
    "        self.print_info()\n",
    "        \n",
    "class B(A):\n",
    "    _info = \"This is class B\"\n",
    "    \n",
    "class C(A):\n",
    "    _info = \"This is class C\"\n",
    "    \n",
    "class D(C):\n",
    "    _info = \"This is class D\"\n",
    "    \n",
    "b, c, d = B(), C(), D()\n",
    "b.info = \"\""
   ]
  },
  {
   "cell_type": "markdown",
   "metadata": {},
   "source": [
    "##### Call `print_info()` on instances"
   ]
  },
  {
   "cell_type": "code",
   "execution_count": 9,
   "metadata": {},
   "outputs": [
    {
     "name": "stdout",
     "output_type": "stream",
     "text": [
      "Class info: This is class B\n",
      "Class info: This is class C\n",
      "Class info: This is class D\n"
     ]
    }
   ],
   "source": [
    "b.print_info()\n",
    "c.print_info()\n",
    "d.print_info()"
   ]
  },
  {
   "cell_type": "markdown",
   "metadata": {},
   "source": [
    "##### Call `display()` on instances, which then calls `print_info()`"
   ]
  },
  {
   "cell_type": "code",
   "execution_count": 4,
   "metadata": {},
   "outputs": [
    {
     "name": "stdout",
     "output_type": "stream",
     "text": [
      "Displaying ... Class info: This is class B\n",
      "Displaying ... Class info: This is class C\n",
      "Displaying ... Class info: This is class D\n"
     ]
    }
   ],
   "source": [
    "b.display()\n",
    "c.display()\n",
    "d.display()"
   ]
  },
  {
   "cell_type": "markdown",
   "metadata": {},
   "source": [
    "- `cls._info` always resolves to the `_info` class attribute defined in the concrete class to which the instance belongs."
   ]
  },
  {
   "cell_type": "markdown",
   "metadata": {},
   "source": [
    "### Static methods\n",
    "\n",
    "- Sometimes, it can be useful to have a function in a class that behaves as a normal function, i.e., does not need any access to \"self\". \n",
    "- In some cases, one will define such a function outside the class.\n",
    "- In other cases, it can be useful to define the function inside the class to show where it belongs logically.\n",
    "- Static methods are used for this purpose. They are defined using the `@staticmethod` decorator.\n",
    "- Note that they only get passed the arguments explicitly given in the call, no `self` is inserted anywhere."
   ]
  },
  {
   "cell_type": "code",
   "execution_count": 10,
   "metadata": {},
   "outputs": [
    {
     "data": {
      "text/plain": [
       "[0.41661987254534116,\n",
       " 0.2986398551995928,\n",
       " 0.1616878239293682,\n",
       " 0.4329362680099159,\n",
       " 0.5532210855693298,\n",
       " 0.412119392939301,\n",
       " 0.5039353681100375,\n",
       " 0.18997137872182035,\n",
       " 0.9674824588798714,\n",
       " 0.7445300401410346]"
      ]
     },
     "execution_count": 10,
     "metadata": {},
     "output_type": "execute_result"
    }
   ],
   "source": [
    "import random\n",
    "\n",
    "class Game:\n",
    "    \n",
    "    def __init__(self, seed):\n",
    "        random.seed(seed)\n",
    "        self.results = []\n",
    "        \n",
    "    def play(self):\n",
    "        n1 = random.random()\n",
    "        n2 = random.random()\n",
    "        n3 = random.random()\n",
    "        res = self._median(n1, n2, n3)\n",
    "        self.results.append(res)\n",
    "        \n",
    "    @staticmethod    \n",
    "    def _median(a, b, c):\n",
    "        return sorted([a, b, c])[1]\n",
    "    \n",
    "g = Game(12345)\n",
    "for _ in range(10):\n",
    "    g.play()\n",
    "    \n",
    "g.results"
   ]
  },
  {
   "cell_type": "markdown",
   "metadata": {},
   "source": [
    "### Private methods\n",
    "\n",
    "- Sometimes, it is useful to define \"helper\" methods that should be used only by other methods of the same class\n",
    "- To mark these methods as private, start the method name with `_`, e.g. `_helper(self, ...)`\n"
   ]
  },
  {
   "cell_type": "markdown",
   "metadata": {},
   "source": [
    "## Mutables as default arguments\n",
    "\n",
    "- Mutables should **never** be used as default arguments\n",
    "- Reason: The default value is a mutable object created when the function or method is defined. Therefore, all calls of the method will receive **the same mutable object** as argument\n",
    "- [Example on Python Tutor](http://pythontutor.com/visualize.html#code=class%20A%3A%0A%20%20%20%20def%20__init__%28self,%20data%3D%5B%5D%29%3A%0A%20%20%20%20%20%20%20%20self.data%20%3D%20data%0A%20%20%20%20def%20add%28self,%20new_data%29%3A%0A%20%20%20%20%20%20%20%20self.data.extend%28new_data%29%0A%0Aa%20%3D%20A%28%5B1,%202,%203%5D%29%0Aa.add%28%5B'a',%20'b'%5D%29%0A%20%20%20%20%20%20%20%20%0Ab%20%3D%20A%28%29%0Ab.add%28%5B'c',%20'd'%5D%29%0A%0Ac%20%3D%20A%28%29&cumulative=false&curInstr=0&heapPrimitives=nevernest&mode=display&origin=opt-frontend.js&py=3&rawInputLstJSON=%5B%5D&textReferences=false) (see what happens when `c` is created!)"
   ]
  },
  {
   "cell_type": "markdown",
   "metadata": {},
   "source": [
    "- Solution: Use `None` as default value and create new mutable in function if necessary"
   ]
  },
  {
   "cell_type": "code",
   "execution_count": 11,
   "metadata": {},
   "outputs": [
    {
     "data": {
      "text/plain": [
       "([1, 2, 3, 'a', 'b'], ['c', 'd'], [])"
      ]
     },
     "execution_count": 11,
     "metadata": {},
     "output_type": "execute_result"
    }
   ],
   "source": [
    "class A:\n",
    "    def __init__(self, data=None):\n",
    "        if data is None:\n",
    "            data = []\n",
    "        self.data = data\n",
    "\n",
    "    def add(self, new_data):\n",
    "        self.data.extend(new_data)\n",
    "        \n",
    "a = A([1, 2, 3])\n",
    "a.add(['a', 'b'])\n",
    "\n",
    "b = A()\n",
    "b.add(['c', 'd'])\n",
    "\n",
    "c = A()\n",
    "\n",
    "a.data, b.data, c.data"
   ]
  },
  {
   "cell_type": "markdown",
   "metadata": {},
   "source": [
    "## Team repositories and branches\n",
    "\n",
    "### The basic rule \n",
    "**Never force a push**\n",
    "\n",
    "#### Solve errors *(a)*\n",
    "\n",
    "1. Pull changes from repository\n",
    "1. Merge if necessary (GitKraken/Git will do this automatically for you)\n",
    "    1. Resolve merge conflicts and commit resolved state\n",
    "1. Push\n",
    "\n",
    "##### Try this now\n",
    "\n",
    "###### Round 1\n",
    "- Both of you make changes to `README.md`, one at the top and one at the bottom of the file\n",
    "- Try pushing\n",
    "- If you get an error, see *(a)*\n",
    "- Continue until both your changes are pushed, and both of you have the changes on your computers\n",
    "\n",
    "###### Round 2\n",
    "- Begin as in round 1, but make incompatible changes to the same line of `README.md`\n",
    "- Try pushing, see *(a)* in case of error\n",
    "- Continue until both your changes are pushed, and both of you have the changes on your computers\n",
    "\n",
    "### Local branches\n",
    "\n",
    "- You can create branches on your computer as you like\n",
    "- You *should* create branches to test out new things\n",
    "- Once you are happy with your changes, merge them back into your `master`, then push\n",
    "\n",
    "##### Try this now\n",
    "- Create a local branch and make changes in `README.md` in the branch (both of you), commit\n",
    "- Checkout `master`, each make different changes in master at different ends of file, commit, push\n",
    "- Both of you should now have each others changes in `master`, plus you own changes in your local branch\n",
    "- Merge your local branch into `master` and close the local branch\n",
    "- Push and pull, merge if neccessary, so both in the end have changes from both local branches\n",
    "\n",
    "#### Long-lived local branches\n",
    "\n",
    "- Sometimes, local branches can live for quite a while\n",
    "- Meanwhile, `master` will evolve\n",
    "- It is then often useful to update the branch with changes in `master`\n",
    "- To keep the branch up to date with changes in `master`\n",
    "    1. make sure the branch is checked out\n",
    "    1. in GitKraken, right-click on `master` and choose `Merge master into <your branch>`\n",
    "    1. resolve merge conflicts if necessary\n",
    "    \n",
    "##### Try this now\n",
    "In this exercise, one of you, B, works with a local branch, the other, M, with `master`. \n",
    "\n",
    "1. B creates a local branch, makes changes in `README.md` in the branch\n",
    "1. M makes changes in `README.md` in `master` and pushes\n",
    "1. B pulls changes from `master` into her branch (may need to fetch changes in `master` from GitHub)\n",
    "1. B makes changes more changes in her branch\n",
    "1. Repeat 2.-4. a few times\n",
    "1. B merges final state of her branch into master and pushes.\n",
    "\n",
    "Now repeat this exercise with opposite roles.\n",
    "\n",
    "\n",
    "### Remote branches\n",
    "\n",
    "- You can share branches within you team by pushing them to GitHub\n",
    "- To work with a remote branch pushed by another team member, you need to check it out locally\n",
    "- By default, GitHub will automatically set up the local branch to *track* the remote branch\n",
    "    - You can easily pull changes from and push changes to the remote branch\n",
    "- Essentially, you work with such a branch as with `master`\n",
    "\n",
    "##### Try this now\n",
    "1. Each of you creates a local branch (choose different names!)\n",
    "1. Create files `README_<branchname>.md` in your respective branches, fill them with some text\n",
    "1. Push your branches to GitHub\n",
    "1. Check out each other's branches locally\n",
    "1. Make changes both in the `README_<branchname>.md` file in your own branch and your partner's branch\n",
    "1. Push those changes, and pull those that you partner made\n",
    "1. Repeat 5.-6. a few times\n",
    "1. Merge all branches into `master`\n",
    "\n",
    "\n",
    "##### Tidy up your team repository now\n",
    "- Delete all branches you created during these exercises\n",
    "- Checkout `master`\n",
    "- Delete the `README_<branchname>.md` files\n",
    "- Edit your `README.md` file so that it gives a brief introduction to your team and project."
   ]
  },
  {
   "cell_type": "code",
   "execution_count": null,
   "metadata": {},
   "outputs": [],
   "source": []
  }
 ],
 "metadata": {
  "kernelspec": {
   "display_name": "Python 3",
   "language": "python",
   "name": "python3"
  },
  "language_info": {
   "codemirror_mode": {
    "name": "ipython",
    "version": 3
   },
   "file_extension": ".py",
   "mimetype": "text/x-python",
   "name": "python",
   "nbconvert_exporter": "python",
   "pygments_lexer": "ipython3",
   "version": "3.6.7"
  }
 },
 "nbformat": 4,
 "nbformat_minor": 2
}
